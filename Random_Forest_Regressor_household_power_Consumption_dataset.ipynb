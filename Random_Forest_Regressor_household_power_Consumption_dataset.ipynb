{
  "cells": [
    {
      "cell_type": "markdown",
      "metadata": {
        "id": "63d29371"
      },
      "source": [
        "# Decision Tree Regression Model Building"
      ],
      "id": "63d29371"
    },
    {
      "cell_type": "markdown",
      "metadata": {
        "id": "ea3c83b1"
      },
      "source": [
        "Data Collection:\n",
        "    https://archive.ics.uci.edu/ml/datasets/Individual+household+electric+power+consumption#"
      ],
      "id": "ea3c83b1"
    },
    {
      "cell_type": "markdown",
      "metadata": {
        "id": "4a3fb0c5"
      },
      "source": [
        "Data Set Information:\n",
        "\n",
        "This archive contains 2075259 measurements gathered in a house located in Sceaux (7km of Paris, France) between December 2006 and November 2010 (47 months).\n",
        "Notes:\n",
        "1.(global_active_power*1000/60 - sub_metering_1 - sub_metering_2 - sub_metering_3) represents the active energy consumed every minute (in watt hour) in the household by electrical equipment not measured in sub-meterings 1, 2 and 3.\n",
        "2.The dataset contains some missing values in the measurements (nearly 1,25% of the rows). All calendar timestamps are present in the dataset but for some timestamps, the measurement values are missing: a missing value is represented by the absence of value between two consecutive semi-colon attribute separators. For instance, the dataset shows missing values on April 28, 2007."
      ],
      "id": "4a3fb0c5"
    },
    {
      "cell_type": "markdown",
      "metadata": {
        "id": "7cc17854"
      },
      "source": [
        "Attribute Information:\n",
        "\n",
        "1. date: Date in format dd/mm/yyyy\n",
        "2. time: time in format hh:mm:ss\n",
        "3. global_active_power: household global minute-averaged active power (in kilowatt)\n",
        "4. global_reactive_power: household global minute-averaged reactive power (in kilowatt)\n",
        "5. voltage: minute-averaged voltage (in volt)\n",
        "6. global_intensity: household global minute-averaged current intensity (in ampere)\n",
        "7. sub_metering_1: energy sub-metering No. 1 (in watt-hour of active energy). It corresponds to the kitchen, containing mainly a dishwasher, an oven and a microwave (hot plates are not electric but gas powered).\n",
        "8. sub_metering_2: energy sub-metering No. 2 (in watt-hour of active energy). It corresponds to the laundry room, containing a washing-machine, a tumble-drier, a refrigerator and a light.\n",
        "9. sub_metering_3: energy sub-metering No. 3 (in watt-hour of active energy). It corresponds to an electric water-heater and an air-conditioner."
      ],
      "id": "7cc17854"
    },
    {
      "cell_type": "code",
      "execution_count": 1,
      "metadata": {
        "colab": {
          "base_uri": "https://localhost:8080/",
          "height": 36
        },
        "id": "7O2HSfuZg8OG",
        "outputId": "6dcd374a-c124-4989-b972-54bca9a2a332"
      },
      "outputs": [
        {
          "output_type": "execute_result",
          "data": {
            "text/plain": [
              "'/device:GPU:0'"
            ],
            "application/vnd.google.colaboratory.intrinsic+json": {
              "type": "string"
            }
          },
          "metadata": {},
          "execution_count": 1
        }
      ],
      "source": [
        "import tensorflow as tf\n",
        "tf.test.gpu_device_name()"
      ],
      "id": "7O2HSfuZg8OG"
    },
    {
      "cell_type": "code",
      "execution_count": 2,
      "metadata": {
        "colab": {
          "base_uri": "https://localhost:8080/"
        },
        "id": "spM5C63Fg8rq",
        "outputId": "2b103db5-f0e4-46d2-d848-76d515c916dc"
      },
      "outputs": [
        {
          "output_type": "stream",
          "name": "stdout",
          "text": [
            "Mounted at /content/drive\n"
          ]
        }
      ],
      "source": [
        "from google.colab import drive\n",
        "drive.mount('/content/drive')"
      ],
      "id": "spM5C63Fg8rq"
    },
    {
      "cell_type": "markdown",
      "metadata": {
        "id": "56081e5f"
      },
      "source": [
        "### Importing required libraries"
      ],
      "id": "56081e5f"
    },
    {
      "cell_type": "code",
      "execution_count": 3,
      "metadata": {
        "id": "f4430368"
      },
      "outputs": [],
      "source": [
        "import pandas as pd\n",
        "import numpy as np\n",
        "import matplotlib.pyplot as plt\n",
        "%matplotlib inline\n",
        "import seaborn as sns\n",
        "\n",
        "import warnings\n",
        "warnings.filterwarnings(\"ignore\")"
      ],
      "id": "f4430368"
    },
    {
      "cell_type": "markdown",
      "metadata": {
        "id": "8614a8e6"
      },
      "source": [
        "### Loading Dataset"
      ],
      "id": "8614a8e6"
    },
    {
      "cell_type": "code",
      "execution_count": 4,
      "metadata": {
        "id": "051aa463"
      },
      "outputs": [],
      "source": [
        "df = pd.read_csv(\"/content/drive/MyDrive/Colab Notebooks/Datasets/household_power_consumption.txt\", sep=\";\")"
      ],
      "id": "051aa463"
    },
    {
      "cell_type": "markdown",
      "metadata": {
        "id": "70938936"
      },
      "source": [
        "### Checking shape of the dataset"
      ],
      "id": "70938936"
    },
    {
      "cell_type": "code",
      "execution_count": 5,
      "metadata": {
        "colab": {
          "base_uri": "https://localhost:8080/"
        },
        "id": "1caf672e",
        "outputId": "d84a0eca-c99c-48f7-97bf-07657d258a0e"
      },
      "outputs": [
        {
          "output_type": "execute_result",
          "data": {
            "text/plain": [
              "(2075259, 9)"
            ]
          },
          "metadata": {},
          "execution_count": 5
        }
      ],
      "source": [
        "df.shape"
      ],
      "id": "1caf672e"
    },
    {
      "cell_type": "code",
      "execution_count": 6,
      "metadata": {
        "colab": {
          "base_uri": "https://localhost:8080/",
          "height": 206
        },
        "id": "9d058727",
        "outputId": "90ad55d4-ff4a-4028-b1d1-d62f87626947"
      },
      "outputs": [
        {
          "output_type": "execute_result",
          "data": {
            "text/plain": [
              "         Date      Time Global_active_power Global_reactive_power  Voltage  \\\n",
              "0  16/12/2006  17:24:00               4.216                 0.418  234.840   \n",
              "1  16/12/2006  17:25:00               5.360                 0.436  233.630   \n",
              "2  16/12/2006  17:26:00               5.374                 0.498  233.290   \n",
              "3  16/12/2006  17:27:00               5.388                 0.502  233.740   \n",
              "4  16/12/2006  17:28:00               3.666                 0.528  235.680   \n",
              "\n",
              "  Global_intensity Sub_metering_1 Sub_metering_2  Sub_metering_3  \n",
              "0           18.400          0.000          1.000            17.0  \n",
              "1           23.000          0.000          1.000            16.0  \n",
              "2           23.000          0.000          2.000            17.0  \n",
              "3           23.000          0.000          1.000            17.0  \n",
              "4           15.800          0.000          1.000            17.0  "
            ],
            "text/html": [
              "\n",
              "  <div id=\"df-877a3f3f-bba2-4c0b-a582-309133e6dc80\">\n",
              "    <div class=\"colab-df-container\">\n",
              "      <div>\n",
              "<style scoped>\n",
              "    .dataframe tbody tr th:only-of-type {\n",
              "        vertical-align: middle;\n",
              "    }\n",
              "\n",
              "    .dataframe tbody tr th {\n",
              "        vertical-align: top;\n",
              "    }\n",
              "\n",
              "    .dataframe thead th {\n",
              "        text-align: right;\n",
              "    }\n",
              "</style>\n",
              "<table border=\"1\" class=\"dataframe\">\n",
              "  <thead>\n",
              "    <tr style=\"text-align: right;\">\n",
              "      <th></th>\n",
              "      <th>Date</th>\n",
              "      <th>Time</th>\n",
              "      <th>Global_active_power</th>\n",
              "      <th>Global_reactive_power</th>\n",
              "      <th>Voltage</th>\n",
              "      <th>Global_intensity</th>\n",
              "      <th>Sub_metering_1</th>\n",
              "      <th>Sub_metering_2</th>\n",
              "      <th>Sub_metering_3</th>\n",
              "    </tr>\n",
              "  </thead>\n",
              "  <tbody>\n",
              "    <tr>\n",
              "      <th>0</th>\n",
              "      <td>16/12/2006</td>\n",
              "      <td>17:24:00</td>\n",
              "      <td>4.216</td>\n",
              "      <td>0.418</td>\n",
              "      <td>234.840</td>\n",
              "      <td>18.400</td>\n",
              "      <td>0.000</td>\n",
              "      <td>1.000</td>\n",
              "      <td>17.0</td>\n",
              "    </tr>\n",
              "    <tr>\n",
              "      <th>1</th>\n",
              "      <td>16/12/2006</td>\n",
              "      <td>17:25:00</td>\n",
              "      <td>5.360</td>\n",
              "      <td>0.436</td>\n",
              "      <td>233.630</td>\n",
              "      <td>23.000</td>\n",
              "      <td>0.000</td>\n",
              "      <td>1.000</td>\n",
              "      <td>16.0</td>\n",
              "    </tr>\n",
              "    <tr>\n",
              "      <th>2</th>\n",
              "      <td>16/12/2006</td>\n",
              "      <td>17:26:00</td>\n",
              "      <td>5.374</td>\n",
              "      <td>0.498</td>\n",
              "      <td>233.290</td>\n",
              "      <td>23.000</td>\n",
              "      <td>0.000</td>\n",
              "      <td>2.000</td>\n",
              "      <td>17.0</td>\n",
              "    </tr>\n",
              "    <tr>\n",
              "      <th>3</th>\n",
              "      <td>16/12/2006</td>\n",
              "      <td>17:27:00</td>\n",
              "      <td>5.388</td>\n",
              "      <td>0.502</td>\n",
              "      <td>233.740</td>\n",
              "      <td>23.000</td>\n",
              "      <td>0.000</td>\n",
              "      <td>1.000</td>\n",
              "      <td>17.0</td>\n",
              "    </tr>\n",
              "    <tr>\n",
              "      <th>4</th>\n",
              "      <td>16/12/2006</td>\n",
              "      <td>17:28:00</td>\n",
              "      <td>3.666</td>\n",
              "      <td>0.528</td>\n",
              "      <td>235.680</td>\n",
              "      <td>15.800</td>\n",
              "      <td>0.000</td>\n",
              "      <td>1.000</td>\n",
              "      <td>17.0</td>\n",
              "    </tr>\n",
              "  </tbody>\n",
              "</table>\n",
              "</div>\n",
              "      <button class=\"colab-df-convert\" onclick=\"convertToInteractive('df-877a3f3f-bba2-4c0b-a582-309133e6dc80')\"\n",
              "              title=\"Convert this dataframe to an interactive table.\"\n",
              "              style=\"display:none;\">\n",
              "        \n",
              "  <svg xmlns=\"http://www.w3.org/2000/svg\" height=\"24px\"viewBox=\"0 0 24 24\"\n",
              "       width=\"24px\">\n",
              "    <path d=\"M0 0h24v24H0V0z\" fill=\"none\"/>\n",
              "    <path d=\"M18.56 5.44l.94 2.06.94-2.06 2.06-.94-2.06-.94-.94-2.06-.94 2.06-2.06.94zm-11 1L8.5 8.5l.94-2.06 2.06-.94-2.06-.94L8.5 2.5l-.94 2.06-2.06.94zm10 10l.94 2.06.94-2.06 2.06-.94-2.06-.94-.94-2.06-.94 2.06-2.06.94z\"/><path d=\"M17.41 7.96l-1.37-1.37c-.4-.4-.92-.59-1.43-.59-.52 0-1.04.2-1.43.59L10.3 9.45l-7.72 7.72c-.78.78-.78 2.05 0 2.83L4 21.41c.39.39.9.59 1.41.59.51 0 1.02-.2 1.41-.59l7.78-7.78 2.81-2.81c.8-.78.8-2.07 0-2.86zM5.41 20L4 18.59l7.72-7.72 1.47 1.35L5.41 20z\"/>\n",
              "  </svg>\n",
              "      </button>\n",
              "      \n",
              "  <style>\n",
              "    .colab-df-container {\n",
              "      display:flex;\n",
              "      flex-wrap:wrap;\n",
              "      gap: 12px;\n",
              "    }\n",
              "\n",
              "    .colab-df-convert {\n",
              "      background-color: #E8F0FE;\n",
              "      border: none;\n",
              "      border-radius: 50%;\n",
              "      cursor: pointer;\n",
              "      display: none;\n",
              "      fill: #1967D2;\n",
              "      height: 32px;\n",
              "      padding: 0 0 0 0;\n",
              "      width: 32px;\n",
              "    }\n",
              "\n",
              "    .colab-df-convert:hover {\n",
              "      background-color: #E2EBFA;\n",
              "      box-shadow: 0px 1px 2px rgba(60, 64, 67, 0.3), 0px 1px 3px 1px rgba(60, 64, 67, 0.15);\n",
              "      fill: #174EA6;\n",
              "    }\n",
              "\n",
              "    [theme=dark] .colab-df-convert {\n",
              "      background-color: #3B4455;\n",
              "      fill: #D2E3FC;\n",
              "    }\n",
              "\n",
              "    [theme=dark] .colab-df-convert:hover {\n",
              "      background-color: #434B5C;\n",
              "      box-shadow: 0px 1px 3px 1px rgba(0, 0, 0, 0.15);\n",
              "      filter: drop-shadow(0px 1px 2px rgba(0, 0, 0, 0.3));\n",
              "      fill: #FFFFFF;\n",
              "    }\n",
              "  </style>\n",
              "\n",
              "      <script>\n",
              "        const buttonEl =\n",
              "          document.querySelector('#df-877a3f3f-bba2-4c0b-a582-309133e6dc80 button.colab-df-convert');\n",
              "        buttonEl.style.display =\n",
              "          google.colab.kernel.accessAllowed ? 'block' : 'none';\n",
              "\n",
              "        async function convertToInteractive(key) {\n",
              "          const element = document.querySelector('#df-877a3f3f-bba2-4c0b-a582-309133e6dc80');\n",
              "          const dataTable =\n",
              "            await google.colab.kernel.invokeFunction('convertToInteractive',\n",
              "                                                     [key], {});\n",
              "          if (!dataTable) return;\n",
              "\n",
              "          const docLinkHtml = 'Like what you see? Visit the ' +\n",
              "            '<a target=\"_blank\" href=https://colab.research.google.com/notebooks/data_table.ipynb>data table notebook</a>'\n",
              "            + ' to learn more about interactive tables.';\n",
              "          element.innerHTML = '';\n",
              "          dataTable['output_type'] = 'display_data';\n",
              "          await google.colab.output.renderOutput(dataTable, element);\n",
              "          const docLink = document.createElement('div');\n",
              "          docLink.innerHTML = docLinkHtml;\n",
              "          element.appendChild(docLink);\n",
              "        }\n",
              "      </script>\n",
              "    </div>\n",
              "  </div>\n",
              "  "
            ]
          },
          "metadata": {},
          "execution_count": 6
        }
      ],
      "source": [
        "df.head()"
      ],
      "id": "9d058727"
    },
    {
      "cell_type": "markdown",
      "metadata": {
        "id": "aPeAekDUnc0C"
      },
      "source": [
        "### Taking sample data of 50K"
      ],
      "id": "aPeAekDUnc0C"
    },
    {
      "cell_type": "code",
      "execution_count": 7,
      "metadata": {
        "id": "9FdmCeIUnb4w"
      },
      "outputs": [],
      "source": [
        "data = df.sample(n=50000, ignore_index=True)"
      ],
      "id": "9FdmCeIUnb4w"
    },
    {
      "cell_type": "code",
      "execution_count": 8,
      "metadata": {
        "colab": {
          "base_uri": "https://localhost:8080/",
          "height": 457
        },
        "id": "ba2f424e",
        "outputId": "c6940463-a5de-48f8-ef70-dede9c8f6743"
      },
      "outputs": [
        {
          "output_type": "execute_result",
          "data": {
            "text/plain": [
              "             Date      Time Global_active_power Global_reactive_power  \\\n",
              "946    16/12/2006  20:25:00               3.230                 0.052   \n",
              "6954   16/12/2006  22:45:00               2.334                 0.060   \n",
              "9152   16/12/2006  22:50:00               2.414                 0.000   \n",
              "11845  16/12/2006  21:25:00               3.392                 0.052   \n",
              "14518  16/12/2006  20:23:00               3.290                 0.000   \n",
              "15448  16/12/2006  20:39:00               3.204                 0.078   \n",
              "22472  16/12/2006  19:55:00               3.202                 0.078   \n",
              "26184  16/12/2006  20:17:00               3.310                 0.000   \n",
              "28309  16/12/2006  17:29:00               3.520                 0.522   \n",
              "31257  16/12/2006  19:36:00               3.276                 0.000   \n",
              "32090  16/12/2006  19:53:00               3.254                 0.000   \n",
              "33029  16/12/2006  17:38:00               4.054                 0.422   \n",
              "39882  16/12/2006  20:01:00               3.222                 0.078   \n",
              "\n",
              "       Voltage Global_intensity Sub_metering_1 Sub_metering_2  Sub_metering_3  \n",
              "946    232.790           13.800          0.000          0.000            16.0  \n",
              "6954   239.570            9.600          0.000          0.000             0.0  \n",
              "9152   240.020           10.000          0.000          0.000             0.0  \n",
              "11845  236.240           14.200          0.000          0.000            17.0  \n",
              "14518  232.420           14.000          0.000          0.000            16.0  \n",
              "15448  232.500           13.600          0.000          0.000            16.0  \n",
              "22472  232.200           13.800          0.000          0.000            16.0  \n",
              "26184  232.830           14.200          0.000          0.000            17.0  \n",
              "28309  235.020           15.000          0.000          2.000            17.0  \n",
              "31257  231.970           14.000          0.000          1.000            17.0  \n",
              "32090  232.750           13.800          0.000          0.000            16.0  \n",
              "33029  235.240           17.600          0.000          1.000            17.0  \n",
              "39882  233.020           13.800          0.000          0.000            17.0  "
            ],
            "text/html": [
              "\n",
              "  <div id=\"df-206cc7bf-fe84-467f-87ba-f428f6ad0224\">\n",
              "    <div class=\"colab-df-container\">\n",
              "      <div>\n",
              "<style scoped>\n",
              "    .dataframe tbody tr th:only-of-type {\n",
              "        vertical-align: middle;\n",
              "    }\n",
              "\n",
              "    .dataframe tbody tr th {\n",
              "        vertical-align: top;\n",
              "    }\n",
              "\n",
              "    .dataframe thead th {\n",
              "        text-align: right;\n",
              "    }\n",
              "</style>\n",
              "<table border=\"1\" class=\"dataframe\">\n",
              "  <thead>\n",
              "    <tr style=\"text-align: right;\">\n",
              "      <th></th>\n",
              "      <th>Date</th>\n",
              "      <th>Time</th>\n",
              "      <th>Global_active_power</th>\n",
              "      <th>Global_reactive_power</th>\n",
              "      <th>Voltage</th>\n",
              "      <th>Global_intensity</th>\n",
              "      <th>Sub_metering_1</th>\n",
              "      <th>Sub_metering_2</th>\n",
              "      <th>Sub_metering_3</th>\n",
              "    </tr>\n",
              "  </thead>\n",
              "  <tbody>\n",
              "    <tr>\n",
              "      <th>946</th>\n",
              "      <td>16/12/2006</td>\n",
              "      <td>20:25:00</td>\n",
              "      <td>3.230</td>\n",
              "      <td>0.052</td>\n",
              "      <td>232.790</td>\n",
              "      <td>13.800</td>\n",
              "      <td>0.000</td>\n",
              "      <td>0.000</td>\n",
              "      <td>16.0</td>\n",
              "    </tr>\n",
              "    <tr>\n",
              "      <th>6954</th>\n",
              "      <td>16/12/2006</td>\n",
              "      <td>22:45:00</td>\n",
              "      <td>2.334</td>\n",
              "      <td>0.060</td>\n",
              "      <td>239.570</td>\n",
              "      <td>9.600</td>\n",
              "      <td>0.000</td>\n",
              "      <td>0.000</td>\n",
              "      <td>0.0</td>\n",
              "    </tr>\n",
              "    <tr>\n",
              "      <th>9152</th>\n",
              "      <td>16/12/2006</td>\n",
              "      <td>22:50:00</td>\n",
              "      <td>2.414</td>\n",
              "      <td>0.000</td>\n",
              "      <td>240.020</td>\n",
              "      <td>10.000</td>\n",
              "      <td>0.000</td>\n",
              "      <td>0.000</td>\n",
              "      <td>0.0</td>\n",
              "    </tr>\n",
              "    <tr>\n",
              "      <th>11845</th>\n",
              "      <td>16/12/2006</td>\n",
              "      <td>21:25:00</td>\n",
              "      <td>3.392</td>\n",
              "      <td>0.052</td>\n",
              "      <td>236.240</td>\n",
              "      <td>14.200</td>\n",
              "      <td>0.000</td>\n",
              "      <td>0.000</td>\n",
              "      <td>17.0</td>\n",
              "    </tr>\n",
              "    <tr>\n",
              "      <th>14518</th>\n",
              "      <td>16/12/2006</td>\n",
              "      <td>20:23:00</td>\n",
              "      <td>3.290</td>\n",
              "      <td>0.000</td>\n",
              "      <td>232.420</td>\n",
              "      <td>14.000</td>\n",
              "      <td>0.000</td>\n",
              "      <td>0.000</td>\n",
              "      <td>16.0</td>\n",
              "    </tr>\n",
              "    <tr>\n",
              "      <th>15448</th>\n",
              "      <td>16/12/2006</td>\n",
              "      <td>20:39:00</td>\n",
              "      <td>3.204</td>\n",
              "      <td>0.078</td>\n",
              "      <td>232.500</td>\n",
              "      <td>13.600</td>\n",
              "      <td>0.000</td>\n",
              "      <td>0.000</td>\n",
              "      <td>16.0</td>\n",
              "    </tr>\n",
              "    <tr>\n",
              "      <th>22472</th>\n",
              "      <td>16/12/2006</td>\n",
              "      <td>19:55:00</td>\n",
              "      <td>3.202</td>\n",
              "      <td>0.078</td>\n",
              "      <td>232.200</td>\n",
              "      <td>13.800</td>\n",
              "      <td>0.000</td>\n",
              "      <td>0.000</td>\n",
              "      <td>16.0</td>\n",
              "    </tr>\n",
              "    <tr>\n",
              "      <th>26184</th>\n",
              "      <td>16/12/2006</td>\n",
              "      <td>20:17:00</td>\n",
              "      <td>3.310</td>\n",
              "      <td>0.000</td>\n",
              "      <td>232.830</td>\n",
              "      <td>14.200</td>\n",
              "      <td>0.000</td>\n",
              "      <td>0.000</td>\n",
              "      <td>17.0</td>\n",
              "    </tr>\n",
              "    <tr>\n",
              "      <th>28309</th>\n",
              "      <td>16/12/2006</td>\n",
              "      <td>17:29:00</td>\n",
              "      <td>3.520</td>\n",
              "      <td>0.522</td>\n",
              "      <td>235.020</td>\n",
              "      <td>15.000</td>\n",
              "      <td>0.000</td>\n",
              "      <td>2.000</td>\n",
              "      <td>17.0</td>\n",
              "    </tr>\n",
              "    <tr>\n",
              "      <th>31257</th>\n",
              "      <td>16/12/2006</td>\n",
              "      <td>19:36:00</td>\n",
              "      <td>3.276</td>\n",
              "      <td>0.000</td>\n",
              "      <td>231.970</td>\n",
              "      <td>14.000</td>\n",
              "      <td>0.000</td>\n",
              "      <td>1.000</td>\n",
              "      <td>17.0</td>\n",
              "    </tr>\n",
              "    <tr>\n",
              "      <th>32090</th>\n",
              "      <td>16/12/2006</td>\n",
              "      <td>19:53:00</td>\n",
              "      <td>3.254</td>\n",
              "      <td>0.000</td>\n",
              "      <td>232.750</td>\n",
              "      <td>13.800</td>\n",
              "      <td>0.000</td>\n",
              "      <td>0.000</td>\n",
              "      <td>16.0</td>\n",
              "    </tr>\n",
              "    <tr>\n",
              "      <th>33029</th>\n",
              "      <td>16/12/2006</td>\n",
              "      <td>17:38:00</td>\n",
              "      <td>4.054</td>\n",
              "      <td>0.422</td>\n",
              "      <td>235.240</td>\n",
              "      <td>17.600</td>\n",
              "      <td>0.000</td>\n",
              "      <td>1.000</td>\n",
              "      <td>17.0</td>\n",
              "    </tr>\n",
              "    <tr>\n",
              "      <th>39882</th>\n",
              "      <td>16/12/2006</td>\n",
              "      <td>20:01:00</td>\n",
              "      <td>3.222</td>\n",
              "      <td>0.078</td>\n",
              "      <td>233.020</td>\n",
              "      <td>13.800</td>\n",
              "      <td>0.000</td>\n",
              "      <td>0.000</td>\n",
              "      <td>17.0</td>\n",
              "    </tr>\n",
              "  </tbody>\n",
              "</table>\n",
              "</div>\n",
              "      <button class=\"colab-df-convert\" onclick=\"convertToInteractive('df-206cc7bf-fe84-467f-87ba-f428f6ad0224')\"\n",
              "              title=\"Convert this dataframe to an interactive table.\"\n",
              "              style=\"display:none;\">\n",
              "        \n",
              "  <svg xmlns=\"http://www.w3.org/2000/svg\" height=\"24px\"viewBox=\"0 0 24 24\"\n",
              "       width=\"24px\">\n",
              "    <path d=\"M0 0h24v24H0V0z\" fill=\"none\"/>\n",
              "    <path d=\"M18.56 5.44l.94 2.06.94-2.06 2.06-.94-2.06-.94-.94-2.06-.94 2.06-2.06.94zm-11 1L8.5 8.5l.94-2.06 2.06-.94-2.06-.94L8.5 2.5l-.94 2.06-2.06.94zm10 10l.94 2.06.94-2.06 2.06-.94-2.06-.94-.94-2.06-.94 2.06-2.06.94z\"/><path d=\"M17.41 7.96l-1.37-1.37c-.4-.4-.92-.59-1.43-.59-.52 0-1.04.2-1.43.59L10.3 9.45l-7.72 7.72c-.78.78-.78 2.05 0 2.83L4 21.41c.39.39.9.59 1.41.59.51 0 1.02-.2 1.41-.59l7.78-7.78 2.81-2.81c.8-.78.8-2.07 0-2.86zM5.41 20L4 18.59l7.72-7.72 1.47 1.35L5.41 20z\"/>\n",
              "  </svg>\n",
              "      </button>\n",
              "      \n",
              "  <style>\n",
              "    .colab-df-container {\n",
              "      display:flex;\n",
              "      flex-wrap:wrap;\n",
              "      gap: 12px;\n",
              "    }\n",
              "\n",
              "    .colab-df-convert {\n",
              "      background-color: #E8F0FE;\n",
              "      border: none;\n",
              "      border-radius: 50%;\n",
              "      cursor: pointer;\n",
              "      display: none;\n",
              "      fill: #1967D2;\n",
              "      height: 32px;\n",
              "      padding: 0 0 0 0;\n",
              "      width: 32px;\n",
              "    }\n",
              "\n",
              "    .colab-df-convert:hover {\n",
              "      background-color: #E2EBFA;\n",
              "      box-shadow: 0px 1px 2px rgba(60, 64, 67, 0.3), 0px 1px 3px 1px rgba(60, 64, 67, 0.15);\n",
              "      fill: #174EA6;\n",
              "    }\n",
              "\n",
              "    [theme=dark] .colab-df-convert {\n",
              "      background-color: #3B4455;\n",
              "      fill: #D2E3FC;\n",
              "    }\n",
              "\n",
              "    [theme=dark] .colab-df-convert:hover {\n",
              "      background-color: #434B5C;\n",
              "      box-shadow: 0px 1px 3px 1px rgba(0, 0, 0, 0.15);\n",
              "      filter: drop-shadow(0px 1px 2px rgba(0, 0, 0, 0.3));\n",
              "      fill: #FFFFFF;\n",
              "    }\n",
              "  </style>\n",
              "\n",
              "      <script>\n",
              "        const buttonEl =\n",
              "          document.querySelector('#df-206cc7bf-fe84-467f-87ba-f428f6ad0224 button.colab-df-convert');\n",
              "        buttonEl.style.display =\n",
              "          google.colab.kernel.accessAllowed ? 'block' : 'none';\n",
              "\n",
              "        async function convertToInteractive(key) {\n",
              "          const element = document.querySelector('#df-206cc7bf-fe84-467f-87ba-f428f6ad0224');\n",
              "          const dataTable =\n",
              "            await google.colab.kernel.invokeFunction('convertToInteractive',\n",
              "                                                     [key], {});\n",
              "          if (!dataTable) return;\n",
              "\n",
              "          const docLinkHtml = 'Like what you see? Visit the ' +\n",
              "            '<a target=\"_blank\" href=https://colab.research.google.com/notebooks/data_table.ipynb>data table notebook</a>'\n",
              "            + ' to learn more about interactive tables.';\n",
              "          element.innerHTML = '';\n",
              "          dataTable['output_type'] = 'display_data';\n",
              "          await google.colab.output.renderOutput(dataTable, element);\n",
              "          const docLink = document.createElement('div');\n",
              "          docLink.innerHTML = docLinkHtml;\n",
              "          element.appendChild(docLink);\n",
              "        }\n",
              "      </script>\n",
              "    </div>\n",
              "  </div>\n",
              "  "
            ]
          },
          "metadata": {},
          "execution_count": 8
        }
      ],
      "source": [
        "data[data['Date'] == '16/12/2006']"
      ],
      "id": "ba2f424e"
    },
    {
      "cell_type": "markdown",
      "metadata": {
        "id": "62cc74bb"
      },
      "source": [
        "### Data Cleaning"
      ],
      "id": "62cc74bb"
    },
    {
      "cell_type": "code",
      "execution_count": 9,
      "metadata": {
        "colab": {
          "base_uri": "https://localhost:8080/"
        },
        "id": "c1773fd9",
        "outputId": "c6b797b4-e97a-40c0-da90-45ebe5a89d75"
      },
      "outputs": [
        {
          "output_type": "execute_result",
          "data": {
            "text/plain": [
              "Date                       0\n",
              "Time                       0\n",
              "Global_active_power        0\n",
              "Global_reactive_power      0\n",
              "Voltage                    0\n",
              "Global_intensity           0\n",
              "Sub_metering_1             0\n",
              "Sub_metering_2             0\n",
              "Sub_metering_3           620\n",
              "dtype: int64"
            ]
          },
          "metadata": {},
          "execution_count": 9
        }
      ],
      "source": [
        "data.isnull().sum()"
      ],
      "id": "c1773fd9"
    },
    {
      "cell_type": "code",
      "execution_count": 10,
      "metadata": {
        "colab": {
          "base_uri": "https://localhost:8080/",
          "height": 424
        },
        "id": "0ec4abc4",
        "outputId": "b4b454e2-7f40-48f0-a407-3cc50ed0d0f6"
      },
      "outputs": [
        {
          "output_type": "execute_result",
          "data": {
            "text/plain": [
              "             Date      Time Global_active_power Global_reactive_power Voltage  \\\n",
              "3      10/12/2008  11:29:00                   ?                     ?       ?   \n",
              "126     26/9/2010  12:58:00                   ?                     ?       ?   \n",
              "341     19/8/2010  20:13:00                   ?                     ?       ?   \n",
              "344     15/6/2009  04:12:00                   ?                     ?       ?   \n",
              "390     12/1/2010  21:22:00                   ?                     ?       ?   \n",
              "...           ...       ...                 ...                   ...     ...   \n",
              "49261   20/8/2010  04:14:00                   ?                     ?       ?   \n",
              "49474   25/9/2010  07:00:00                   ?                     ?       ?   \n",
              "49552   20/3/2010  12:15:00                   ?                     ?       ?   \n",
              "49682   27/9/2010  22:58:00                   ?                     ?       ?   \n",
              "49930   27/9/2010  18:41:00                   ?                     ?       ?   \n",
              "\n",
              "      Global_intensity Sub_metering_1 Sub_metering_2  Sub_metering_3  \n",
              "3                    ?              ?              ?             NaN  \n",
              "126                  ?              ?              ?             NaN  \n",
              "341                  ?              ?              ?             NaN  \n",
              "344                  ?              ?              ?             NaN  \n",
              "390                  ?              ?              ?             NaN  \n",
              "...                ...            ...            ...             ...  \n",
              "49261                ?              ?              ?             NaN  \n",
              "49474                ?              ?              ?             NaN  \n",
              "49552                ?              ?              ?             NaN  \n",
              "49682                ?              ?              ?             NaN  \n",
              "49930                ?              ?              ?             NaN  \n",
              "\n",
              "[620 rows x 9 columns]"
            ],
            "text/html": [
              "\n",
              "  <div id=\"df-7b104597-1bc1-4ff6-aa8c-74c9c0f619f8\">\n",
              "    <div class=\"colab-df-container\">\n",
              "      <div>\n",
              "<style scoped>\n",
              "    .dataframe tbody tr th:only-of-type {\n",
              "        vertical-align: middle;\n",
              "    }\n",
              "\n",
              "    .dataframe tbody tr th {\n",
              "        vertical-align: top;\n",
              "    }\n",
              "\n",
              "    .dataframe thead th {\n",
              "        text-align: right;\n",
              "    }\n",
              "</style>\n",
              "<table border=\"1\" class=\"dataframe\">\n",
              "  <thead>\n",
              "    <tr style=\"text-align: right;\">\n",
              "      <th></th>\n",
              "      <th>Date</th>\n",
              "      <th>Time</th>\n",
              "      <th>Global_active_power</th>\n",
              "      <th>Global_reactive_power</th>\n",
              "      <th>Voltage</th>\n",
              "      <th>Global_intensity</th>\n",
              "      <th>Sub_metering_1</th>\n",
              "      <th>Sub_metering_2</th>\n",
              "      <th>Sub_metering_3</th>\n",
              "    </tr>\n",
              "  </thead>\n",
              "  <tbody>\n",
              "    <tr>\n",
              "      <th>3</th>\n",
              "      <td>10/12/2008</td>\n",
              "      <td>11:29:00</td>\n",
              "      <td>?</td>\n",
              "      <td>?</td>\n",
              "      <td>?</td>\n",
              "      <td>?</td>\n",
              "      <td>?</td>\n",
              "      <td>?</td>\n",
              "      <td>NaN</td>\n",
              "    </tr>\n",
              "    <tr>\n",
              "      <th>126</th>\n",
              "      <td>26/9/2010</td>\n",
              "      <td>12:58:00</td>\n",
              "      <td>?</td>\n",
              "      <td>?</td>\n",
              "      <td>?</td>\n",
              "      <td>?</td>\n",
              "      <td>?</td>\n",
              "      <td>?</td>\n",
              "      <td>NaN</td>\n",
              "    </tr>\n",
              "    <tr>\n",
              "      <th>341</th>\n",
              "      <td>19/8/2010</td>\n",
              "      <td>20:13:00</td>\n",
              "      <td>?</td>\n",
              "      <td>?</td>\n",
              "      <td>?</td>\n",
              "      <td>?</td>\n",
              "      <td>?</td>\n",
              "      <td>?</td>\n",
              "      <td>NaN</td>\n",
              "    </tr>\n",
              "    <tr>\n",
              "      <th>344</th>\n",
              "      <td>15/6/2009</td>\n",
              "      <td>04:12:00</td>\n",
              "      <td>?</td>\n",
              "      <td>?</td>\n",
              "      <td>?</td>\n",
              "      <td>?</td>\n",
              "      <td>?</td>\n",
              "      <td>?</td>\n",
              "      <td>NaN</td>\n",
              "    </tr>\n",
              "    <tr>\n",
              "      <th>390</th>\n",
              "      <td>12/1/2010</td>\n",
              "      <td>21:22:00</td>\n",
              "      <td>?</td>\n",
              "      <td>?</td>\n",
              "      <td>?</td>\n",
              "      <td>?</td>\n",
              "      <td>?</td>\n",
              "      <td>?</td>\n",
              "      <td>NaN</td>\n",
              "    </tr>\n",
              "    <tr>\n",
              "      <th>...</th>\n",
              "      <td>...</td>\n",
              "      <td>...</td>\n",
              "      <td>...</td>\n",
              "      <td>...</td>\n",
              "      <td>...</td>\n",
              "      <td>...</td>\n",
              "      <td>...</td>\n",
              "      <td>...</td>\n",
              "      <td>...</td>\n",
              "    </tr>\n",
              "    <tr>\n",
              "      <th>49261</th>\n",
              "      <td>20/8/2010</td>\n",
              "      <td>04:14:00</td>\n",
              "      <td>?</td>\n",
              "      <td>?</td>\n",
              "      <td>?</td>\n",
              "      <td>?</td>\n",
              "      <td>?</td>\n",
              "      <td>?</td>\n",
              "      <td>NaN</td>\n",
              "    </tr>\n",
              "    <tr>\n",
              "      <th>49474</th>\n",
              "      <td>25/9/2010</td>\n",
              "      <td>07:00:00</td>\n",
              "      <td>?</td>\n",
              "      <td>?</td>\n",
              "      <td>?</td>\n",
              "      <td>?</td>\n",
              "      <td>?</td>\n",
              "      <td>?</td>\n",
              "      <td>NaN</td>\n",
              "    </tr>\n",
              "    <tr>\n",
              "      <th>49552</th>\n",
              "      <td>20/3/2010</td>\n",
              "      <td>12:15:00</td>\n",
              "      <td>?</td>\n",
              "      <td>?</td>\n",
              "      <td>?</td>\n",
              "      <td>?</td>\n",
              "      <td>?</td>\n",
              "      <td>?</td>\n",
              "      <td>NaN</td>\n",
              "    </tr>\n",
              "    <tr>\n",
              "      <th>49682</th>\n",
              "      <td>27/9/2010</td>\n",
              "      <td>22:58:00</td>\n",
              "      <td>?</td>\n",
              "      <td>?</td>\n",
              "      <td>?</td>\n",
              "      <td>?</td>\n",
              "      <td>?</td>\n",
              "      <td>?</td>\n",
              "      <td>NaN</td>\n",
              "    </tr>\n",
              "    <tr>\n",
              "      <th>49930</th>\n",
              "      <td>27/9/2010</td>\n",
              "      <td>18:41:00</td>\n",
              "      <td>?</td>\n",
              "      <td>?</td>\n",
              "      <td>?</td>\n",
              "      <td>?</td>\n",
              "      <td>?</td>\n",
              "      <td>?</td>\n",
              "      <td>NaN</td>\n",
              "    </tr>\n",
              "  </tbody>\n",
              "</table>\n",
              "<p>620 rows × 9 columns</p>\n",
              "</div>\n",
              "      <button class=\"colab-df-convert\" onclick=\"convertToInteractive('df-7b104597-1bc1-4ff6-aa8c-74c9c0f619f8')\"\n",
              "              title=\"Convert this dataframe to an interactive table.\"\n",
              "              style=\"display:none;\">\n",
              "        \n",
              "  <svg xmlns=\"http://www.w3.org/2000/svg\" height=\"24px\"viewBox=\"0 0 24 24\"\n",
              "       width=\"24px\">\n",
              "    <path d=\"M0 0h24v24H0V0z\" fill=\"none\"/>\n",
              "    <path d=\"M18.56 5.44l.94 2.06.94-2.06 2.06-.94-2.06-.94-.94-2.06-.94 2.06-2.06.94zm-11 1L8.5 8.5l.94-2.06 2.06-.94-2.06-.94L8.5 2.5l-.94 2.06-2.06.94zm10 10l.94 2.06.94-2.06 2.06-.94-2.06-.94-.94-2.06-.94 2.06-2.06.94z\"/><path d=\"M17.41 7.96l-1.37-1.37c-.4-.4-.92-.59-1.43-.59-.52 0-1.04.2-1.43.59L10.3 9.45l-7.72 7.72c-.78.78-.78 2.05 0 2.83L4 21.41c.39.39.9.59 1.41.59.51 0 1.02-.2 1.41-.59l7.78-7.78 2.81-2.81c.8-.78.8-2.07 0-2.86zM5.41 20L4 18.59l7.72-7.72 1.47 1.35L5.41 20z\"/>\n",
              "  </svg>\n",
              "      </button>\n",
              "      \n",
              "  <style>\n",
              "    .colab-df-container {\n",
              "      display:flex;\n",
              "      flex-wrap:wrap;\n",
              "      gap: 12px;\n",
              "    }\n",
              "\n",
              "    .colab-df-convert {\n",
              "      background-color: #E8F0FE;\n",
              "      border: none;\n",
              "      border-radius: 50%;\n",
              "      cursor: pointer;\n",
              "      display: none;\n",
              "      fill: #1967D2;\n",
              "      height: 32px;\n",
              "      padding: 0 0 0 0;\n",
              "      width: 32px;\n",
              "    }\n",
              "\n",
              "    .colab-df-convert:hover {\n",
              "      background-color: #E2EBFA;\n",
              "      box-shadow: 0px 1px 2px rgba(60, 64, 67, 0.3), 0px 1px 3px 1px rgba(60, 64, 67, 0.15);\n",
              "      fill: #174EA6;\n",
              "    }\n",
              "\n",
              "    [theme=dark] .colab-df-convert {\n",
              "      background-color: #3B4455;\n",
              "      fill: #D2E3FC;\n",
              "    }\n",
              "\n",
              "    [theme=dark] .colab-df-convert:hover {\n",
              "      background-color: #434B5C;\n",
              "      box-shadow: 0px 1px 3px 1px rgba(0, 0, 0, 0.15);\n",
              "      filter: drop-shadow(0px 1px 2px rgba(0, 0, 0, 0.3));\n",
              "      fill: #FFFFFF;\n",
              "    }\n",
              "  </style>\n",
              "\n",
              "      <script>\n",
              "        const buttonEl =\n",
              "          document.querySelector('#df-7b104597-1bc1-4ff6-aa8c-74c9c0f619f8 button.colab-df-convert');\n",
              "        buttonEl.style.display =\n",
              "          google.colab.kernel.accessAllowed ? 'block' : 'none';\n",
              "\n",
              "        async function convertToInteractive(key) {\n",
              "          const element = document.querySelector('#df-7b104597-1bc1-4ff6-aa8c-74c9c0f619f8');\n",
              "          const dataTable =\n",
              "            await google.colab.kernel.invokeFunction('convertToInteractive',\n",
              "                                                     [key], {});\n",
              "          if (!dataTable) return;\n",
              "\n",
              "          const docLinkHtml = 'Like what you see? Visit the ' +\n",
              "            '<a target=\"_blank\" href=https://colab.research.google.com/notebooks/data_table.ipynb>data table notebook</a>'\n",
              "            + ' to learn more about interactive tables.';\n",
              "          element.innerHTML = '';\n",
              "          dataTable['output_type'] = 'display_data';\n",
              "          await google.colab.output.renderOutput(dataTable, element);\n",
              "          const docLink = document.createElement('div');\n",
              "          docLink.innerHTML = docLinkHtml;\n",
              "          element.appendChild(docLink);\n",
              "        }\n",
              "      </script>\n",
              "    </div>\n",
              "  </div>\n",
              "  "
            ]
          },
          "metadata": {},
          "execution_count": 10
        }
      ],
      "source": [
        "# creating bool series True for NaN values\n",
        "bool_series = pd.isnull(data[\"Sub_metering_3\"])\n",
        "   \n",
        "# filtering data\n",
        "# displaying data only with Sub_metering_3 = NaN\n",
        "data[bool_series]"
      ],
      "id": "0ec4abc4"
    },
    {
      "cell_type": "markdown",
      "metadata": {
        "id": "d1018866"
      },
      "source": [
        "**Observation:**\n",
        "Except Date and Time columns, all columns are having no data"
      ],
      "id": "d1018866"
    },
    {
      "cell_type": "markdown",
      "metadata": {
        "id": "8c932607"
      },
      "source": [
        "### Replacing '?' with np.nan"
      ],
      "id": "8c932607"
    },
    {
      "cell_type": "code",
      "execution_count": 11,
      "metadata": {
        "id": "cde685e3"
      },
      "outputs": [],
      "source": [
        "data.replace('?',np.nan,inplace=True)"
      ],
      "id": "cde685e3"
    },
    {
      "cell_type": "code",
      "execution_count": 12,
      "metadata": {
        "id": "4557c8ad"
      },
      "outputs": [],
      "source": [
        "data.dropna(axis=0,inplace=True)"
      ],
      "id": "4557c8ad"
    },
    {
      "cell_type": "code",
      "execution_count": 13,
      "metadata": {
        "id": "9602face"
      },
      "outputs": [],
      "source": [
        "data.reset_index(inplace = True, drop = True)"
      ],
      "id": "9602face"
    },
    {
      "cell_type": "code",
      "execution_count": 14,
      "metadata": {
        "colab": {
          "base_uri": "https://localhost:8080/",
          "height": 206
        },
        "id": "f313839e",
        "outputId": "88db441a-3d8e-46e5-bf78-fdc64daf7eea"
      },
      "outputs": [
        {
          "output_type": "execute_result",
          "data": {
            "text/plain": [
              "        Date      Time Global_active_power Global_reactive_power  Voltage  \\\n",
              "0  5/10/2009  09:08:00               1.430                 0.192  237.640   \n",
              "1  31/1/2010  15:42:00               1.450                 0.080  244.020   \n",
              "2  29/1/2010  12:52:00               1.552                 0.046  243.430   \n",
              "3  15/6/2007  08:15:00               2.298                 0.348  238.550   \n",
              "4   7/4/2007  20:51:00               0.294                 0.000  238.950   \n",
              "\n",
              "  Global_intensity Sub_metering_1 Sub_metering_2  Sub_metering_3  \n",
              "0            6.000          0.000          1.000            18.0  \n",
              "1            5.800          0.000          0.000            19.0  \n",
              "2            6.400          0.000          0.000            19.0  \n",
              "3           10.000          0.000         30.000             0.0  \n",
              "4            1.200          0.000          0.000             0.0  "
            ],
            "text/html": [
              "\n",
              "  <div id=\"df-2f3e73be-b2bf-4e68-a98b-773c3248577b\">\n",
              "    <div class=\"colab-df-container\">\n",
              "      <div>\n",
              "<style scoped>\n",
              "    .dataframe tbody tr th:only-of-type {\n",
              "        vertical-align: middle;\n",
              "    }\n",
              "\n",
              "    .dataframe tbody tr th {\n",
              "        vertical-align: top;\n",
              "    }\n",
              "\n",
              "    .dataframe thead th {\n",
              "        text-align: right;\n",
              "    }\n",
              "</style>\n",
              "<table border=\"1\" class=\"dataframe\">\n",
              "  <thead>\n",
              "    <tr style=\"text-align: right;\">\n",
              "      <th></th>\n",
              "      <th>Date</th>\n",
              "      <th>Time</th>\n",
              "      <th>Global_active_power</th>\n",
              "      <th>Global_reactive_power</th>\n",
              "      <th>Voltage</th>\n",
              "      <th>Global_intensity</th>\n",
              "      <th>Sub_metering_1</th>\n",
              "      <th>Sub_metering_2</th>\n",
              "      <th>Sub_metering_3</th>\n",
              "    </tr>\n",
              "  </thead>\n",
              "  <tbody>\n",
              "    <tr>\n",
              "      <th>0</th>\n",
              "      <td>5/10/2009</td>\n",
              "      <td>09:08:00</td>\n",
              "      <td>1.430</td>\n",
              "      <td>0.192</td>\n",
              "      <td>237.640</td>\n",
              "      <td>6.000</td>\n",
              "      <td>0.000</td>\n",
              "      <td>1.000</td>\n",
              "      <td>18.0</td>\n",
              "    </tr>\n",
              "    <tr>\n",
              "      <th>1</th>\n",
              "      <td>31/1/2010</td>\n",
              "      <td>15:42:00</td>\n",
              "      <td>1.450</td>\n",
              "      <td>0.080</td>\n",
              "      <td>244.020</td>\n",
              "      <td>5.800</td>\n",
              "      <td>0.000</td>\n",
              "      <td>0.000</td>\n",
              "      <td>19.0</td>\n",
              "    </tr>\n",
              "    <tr>\n",
              "      <th>2</th>\n",
              "      <td>29/1/2010</td>\n",
              "      <td>12:52:00</td>\n",
              "      <td>1.552</td>\n",
              "      <td>0.046</td>\n",
              "      <td>243.430</td>\n",
              "      <td>6.400</td>\n",
              "      <td>0.000</td>\n",
              "      <td>0.000</td>\n",
              "      <td>19.0</td>\n",
              "    </tr>\n",
              "    <tr>\n",
              "      <th>3</th>\n",
              "      <td>15/6/2007</td>\n",
              "      <td>08:15:00</td>\n",
              "      <td>2.298</td>\n",
              "      <td>0.348</td>\n",
              "      <td>238.550</td>\n",
              "      <td>10.000</td>\n",
              "      <td>0.000</td>\n",
              "      <td>30.000</td>\n",
              "      <td>0.0</td>\n",
              "    </tr>\n",
              "    <tr>\n",
              "      <th>4</th>\n",
              "      <td>7/4/2007</td>\n",
              "      <td>20:51:00</td>\n",
              "      <td>0.294</td>\n",
              "      <td>0.000</td>\n",
              "      <td>238.950</td>\n",
              "      <td>1.200</td>\n",
              "      <td>0.000</td>\n",
              "      <td>0.000</td>\n",
              "      <td>0.0</td>\n",
              "    </tr>\n",
              "  </tbody>\n",
              "</table>\n",
              "</div>\n",
              "      <button class=\"colab-df-convert\" onclick=\"convertToInteractive('df-2f3e73be-b2bf-4e68-a98b-773c3248577b')\"\n",
              "              title=\"Convert this dataframe to an interactive table.\"\n",
              "              style=\"display:none;\">\n",
              "        \n",
              "  <svg xmlns=\"http://www.w3.org/2000/svg\" height=\"24px\"viewBox=\"0 0 24 24\"\n",
              "       width=\"24px\">\n",
              "    <path d=\"M0 0h24v24H0V0z\" fill=\"none\"/>\n",
              "    <path d=\"M18.56 5.44l.94 2.06.94-2.06 2.06-.94-2.06-.94-.94-2.06-.94 2.06-2.06.94zm-11 1L8.5 8.5l.94-2.06 2.06-.94-2.06-.94L8.5 2.5l-.94 2.06-2.06.94zm10 10l.94 2.06.94-2.06 2.06-.94-2.06-.94-.94-2.06-.94 2.06-2.06.94z\"/><path d=\"M17.41 7.96l-1.37-1.37c-.4-.4-.92-.59-1.43-.59-.52 0-1.04.2-1.43.59L10.3 9.45l-7.72 7.72c-.78.78-.78 2.05 0 2.83L4 21.41c.39.39.9.59 1.41.59.51 0 1.02-.2 1.41-.59l7.78-7.78 2.81-2.81c.8-.78.8-2.07 0-2.86zM5.41 20L4 18.59l7.72-7.72 1.47 1.35L5.41 20z\"/>\n",
              "  </svg>\n",
              "      </button>\n",
              "      \n",
              "  <style>\n",
              "    .colab-df-container {\n",
              "      display:flex;\n",
              "      flex-wrap:wrap;\n",
              "      gap: 12px;\n",
              "    }\n",
              "\n",
              "    .colab-df-convert {\n",
              "      background-color: #E8F0FE;\n",
              "      border: none;\n",
              "      border-radius: 50%;\n",
              "      cursor: pointer;\n",
              "      display: none;\n",
              "      fill: #1967D2;\n",
              "      height: 32px;\n",
              "      padding: 0 0 0 0;\n",
              "      width: 32px;\n",
              "    }\n",
              "\n",
              "    .colab-df-convert:hover {\n",
              "      background-color: #E2EBFA;\n",
              "      box-shadow: 0px 1px 2px rgba(60, 64, 67, 0.3), 0px 1px 3px 1px rgba(60, 64, 67, 0.15);\n",
              "      fill: #174EA6;\n",
              "    }\n",
              "\n",
              "    [theme=dark] .colab-df-convert {\n",
              "      background-color: #3B4455;\n",
              "      fill: #D2E3FC;\n",
              "    }\n",
              "\n",
              "    [theme=dark] .colab-df-convert:hover {\n",
              "      background-color: #434B5C;\n",
              "      box-shadow: 0px 1px 3px 1px rgba(0, 0, 0, 0.15);\n",
              "      filter: drop-shadow(0px 1px 2px rgba(0, 0, 0, 0.3));\n",
              "      fill: #FFFFFF;\n",
              "    }\n",
              "  </style>\n",
              "\n",
              "      <script>\n",
              "        const buttonEl =\n",
              "          document.querySelector('#df-2f3e73be-b2bf-4e68-a98b-773c3248577b button.colab-df-convert');\n",
              "        buttonEl.style.display =\n",
              "          google.colab.kernel.accessAllowed ? 'block' : 'none';\n",
              "\n",
              "        async function convertToInteractive(key) {\n",
              "          const element = document.querySelector('#df-2f3e73be-b2bf-4e68-a98b-773c3248577b');\n",
              "          const dataTable =\n",
              "            await google.colab.kernel.invokeFunction('convertToInteractive',\n",
              "                                                     [key], {});\n",
              "          if (!dataTable) return;\n",
              "\n",
              "          const docLinkHtml = 'Like what you see? Visit the ' +\n",
              "            '<a target=\"_blank\" href=https://colab.research.google.com/notebooks/data_table.ipynb>data table notebook</a>'\n",
              "            + ' to learn more about interactive tables.';\n",
              "          element.innerHTML = '';\n",
              "          dataTable['output_type'] = 'display_data';\n",
              "          await google.colab.output.renderOutput(dataTable, element);\n",
              "          const docLink = document.createElement('div');\n",
              "          docLink.innerHTML = docLinkHtml;\n",
              "          element.appendChild(docLink);\n",
              "        }\n",
              "      </script>\n",
              "    </div>\n",
              "  </div>\n",
              "  "
            ]
          },
          "metadata": {},
          "execution_count": 14
        }
      ],
      "source": [
        "data.head()"
      ],
      "id": "f313839e"
    },
    {
      "cell_type": "code",
      "execution_count": 15,
      "metadata": {
        "colab": {
          "base_uri": "https://localhost:8080/"
        },
        "id": "l_SInKGFmdDV",
        "outputId": "4bb721ce-c696-46e8-b80a-628b6d8d2b46"
      },
      "outputs": [
        {
          "output_type": "execute_result",
          "data": {
            "text/plain": [
              "(49380, 9)"
            ]
          },
          "metadata": {},
          "execution_count": 15
        }
      ],
      "source": [
        "data.shape"
      ],
      "id": "l_SInKGFmdDV"
    },
    {
      "cell_type": "code",
      "execution_count": 16,
      "metadata": {
        "colab": {
          "base_uri": "https://localhost:8080/"
        },
        "id": "a31e02db",
        "outputId": "fc678070-c847-4d29-84ba-b207dc7a2f21"
      },
      "outputs": [
        {
          "output_type": "stream",
          "name": "stdout",
          "text": [
            "<class 'pandas.core.frame.DataFrame'>\n",
            "RangeIndex: 49380 entries, 0 to 49379\n",
            "Data columns (total 9 columns):\n",
            " #   Column                 Non-Null Count  Dtype  \n",
            "---  ------                 --------------  -----  \n",
            " 0   Date                   49380 non-null  object \n",
            " 1   Time                   49380 non-null  object \n",
            " 2   Global_active_power    49380 non-null  object \n",
            " 3   Global_reactive_power  49380 non-null  object \n",
            " 4   Voltage                49380 non-null  object \n",
            " 5   Global_intensity       49380 non-null  object \n",
            " 6   Sub_metering_1         49380 non-null  object \n",
            " 7   Sub_metering_2         49380 non-null  object \n",
            " 8   Sub_metering_3         49380 non-null  float64\n",
            "dtypes: float64(1), object(8)\n",
            "memory usage: 3.4+ MB\n"
          ]
        }
      ],
      "source": [
        "data.info()"
      ],
      "id": "a31e02db"
    },
    {
      "cell_type": "code",
      "execution_count": 17,
      "metadata": {
        "colab": {
          "base_uri": "https://localhost:8080/"
        },
        "id": "8b88ad7f",
        "outputId": "45caf38b-7df7-4306-8ff9-074df14d3c81"
      },
      "outputs": [
        {
          "output_type": "execute_result",
          "data": {
            "text/plain": [
              "array(['5/10/2009', '31/1/2010', '29/1/2010', ..., '6/3/2007',\n",
              "       '22/8/2010', '25/9/2010'], dtype=object)"
            ]
          },
          "metadata": {},
          "execution_count": 17
        }
      ],
      "source": [
        "data['Date'].unique()"
      ],
      "id": "8b88ad7f"
    },
    {
      "cell_type": "markdown",
      "metadata": {
        "id": "e6dae0c7"
      },
      "source": [
        "### spliting the Date column into 3 columns - Day, Month, Year"
      ],
      "id": "e6dae0c7"
    },
    {
      "cell_type": "code",
      "execution_count": 18,
      "metadata": {
        "id": "5a07b16e"
      },
      "outputs": [],
      "source": [
        "data['Date1']=data.Date.apply(lambda x:x.split('/')[0]).astype(int)\n",
        "data['Month']=data.Date.apply(lambda x:x.split('/')[1]).astype(int)\n",
        "data['Year']=data.Date.apply(lambda x:x.split('/')[2]).astype(int)"
      ],
      "id": "5a07b16e"
    },
    {
      "cell_type": "code",
      "execution_count": 19,
      "metadata": {
        "colab": {
          "base_uri": "https://localhost:8080/"
        },
        "id": "d1535e33",
        "outputId": "3e05c68d-6d0b-43b1-a322-9b794405fb49"
      },
      "outputs": [
        {
          "output_type": "execute_result",
          "data": {
            "text/plain": [
              "20:44:00    58\n",
              "03:20:00    52\n",
              "11:50:00    51\n",
              "13:24:00    51\n",
              "05:56:00    51\n",
              "            ..\n",
              "19:26:00    21\n",
              "15:12:00    21\n",
              "02:07:00    20\n",
              "10:25:00    18\n",
              "07:08:00    18\n",
              "Name: Time, Length: 1440, dtype: int64"
            ]
          },
          "metadata": {},
          "execution_count": 19
        }
      ],
      "source": [
        "data['Time'].value_counts()"
      ],
      "id": "d1535e33"
    },
    {
      "cell_type": "markdown",
      "metadata": {
        "id": "9d9ffda3"
      },
      "source": [
        "### spliting the Time column into 2 columns - Hours and Minutes"
      ],
      "id": "9d9ffda3"
    },
    {
      "cell_type": "code",
      "execution_count": 20,
      "metadata": {
        "id": "487c1489"
      },
      "outputs": [],
      "source": [
        "data['hour']=data.Time.apply(lambda x:x.split(' ')[0].split(':')[0]).astype('int')\n",
        "data['min']=data.Time.apply(lambda x:x.split(' ')[0].split(':')[1]).astype('int')"
      ],
      "id": "487c1489"
    },
    {
      "cell_type": "markdown",
      "metadata": {
        "id": "99a632ec"
      },
      "source": [
        "### Removing Date and Time columns "
      ],
      "id": "99a632ec"
    },
    {
      "cell_type": "code",
      "execution_count": 21,
      "metadata": {
        "id": "95f59110"
      },
      "outputs": [],
      "source": [
        "data.drop(['Date','Time'],axis=1,inplace=True)"
      ],
      "id": "95f59110"
    },
    {
      "cell_type": "markdown",
      "metadata": {
        "id": "10c1973b"
      },
      "source": [
        "### Changing the datatype of few columns from Object to Float"
      ],
      "id": "10c1973b"
    },
    {
      "cell_type": "code",
      "execution_count": 22,
      "metadata": {
        "id": "1bfbffd0"
      },
      "outputs": [],
      "source": [
        "data['Global_active_power'] = data['Global_active_power'].astype(float)\n",
        "data['Global_reactive_power'] = data['Global_reactive_power'].astype(float)\n",
        "data['Voltage'] = data['Voltage'].astype(float)\n",
        "data['Global_intensity'] = data['Global_intensity'].astype(float)\n",
        "data['Sub_metering_1'] = data['Sub_metering_1'].astype(float)\n",
        "data['Sub_metering_2'] = data['Sub_metering_2'].astype(float)\n",
        "data['Sub_metering_3'] = data['Sub_metering_3'].astype(float)"
      ],
      "id": "1bfbffd0"
    },
    {
      "cell_type": "code",
      "execution_count": 23,
      "metadata": {
        "colab": {
          "base_uri": "https://localhost:8080/"
        },
        "id": "f22790c9",
        "outputId": "a8536fed-646d-419a-8aad-2f16195862c0"
      },
      "outputs": [
        {
          "output_type": "stream",
          "name": "stdout",
          "text": [
            "<class 'pandas.core.frame.DataFrame'>\n",
            "RangeIndex: 49380 entries, 0 to 49379\n",
            "Data columns (total 12 columns):\n",
            " #   Column                 Non-Null Count  Dtype  \n",
            "---  ------                 --------------  -----  \n",
            " 0   Global_active_power    49380 non-null  float64\n",
            " 1   Global_reactive_power  49380 non-null  float64\n",
            " 2   Voltage                49380 non-null  float64\n",
            " 3   Global_intensity       49380 non-null  float64\n",
            " 4   Sub_metering_1         49380 non-null  float64\n",
            " 5   Sub_metering_2         49380 non-null  float64\n",
            " 6   Sub_metering_3         49380 non-null  float64\n",
            " 7   Date1                  49380 non-null  int64  \n",
            " 8   Month                  49380 non-null  int64  \n",
            " 9   Year                   49380 non-null  int64  \n",
            " 10  hour                   49380 non-null  int64  \n",
            " 11  min                    49380 non-null  int64  \n",
            "dtypes: float64(7), int64(5)\n",
            "memory usage: 4.5 MB\n"
          ]
        }
      ],
      "source": [
        "data.info()"
      ],
      "id": "f22790c9"
    },
    {
      "cell_type": "markdown",
      "metadata": {
        "id": "11fcbf37"
      },
      "source": [
        "### Merging Sub_metering_1, Sub_metering_1, Sub_metering_1 into Total_Consumption"
      ],
      "id": "11fcbf37"
    },
    {
      "cell_type": "code",
      "execution_count": 24,
      "metadata": {
        "id": "19043ea8"
      },
      "outputs": [],
      "source": [
        "data['Total_Consumption'] = data['Sub_metering_1']+data['Sub_metering_2']+data['Sub_metering_3']"
      ],
      "id": "19043ea8"
    },
    {
      "cell_type": "code",
      "execution_count": 25,
      "metadata": {
        "id": "06280856"
      },
      "outputs": [],
      "source": [
        "data.drop(axis=1, columns=['Sub_metering_1', 'Sub_metering_2', 'Sub_metering_3'], inplace=True)"
      ],
      "id": "06280856"
    },
    {
      "cell_type": "code",
      "execution_count": 26,
      "metadata": {
        "colab": {
          "base_uri": "https://localhost:8080/",
          "height": 206
        },
        "id": "c2852e50",
        "outputId": "c76f73e4-6777-48af-a098-4a27c28e7814"
      },
      "outputs": [
        {
          "output_type": "execute_result",
          "data": {
            "text/plain": [
              "   Global_active_power  Global_reactive_power  Voltage  Global_intensity  \\\n",
              "0                1.430                  0.192   237.64               6.0   \n",
              "1                1.450                  0.080   244.02               5.8   \n",
              "2                1.552                  0.046   243.43               6.4   \n",
              "3                2.298                  0.348   238.55              10.0   \n",
              "4                0.294                  0.000   238.95               1.2   \n",
              "\n",
              "   Date1  Month  Year  hour  min  Total_Consumption  \n",
              "0      5     10  2009     9    8               19.0  \n",
              "1     31      1  2010    15   42               19.0  \n",
              "2     29      1  2010    12   52               19.0  \n",
              "3     15      6  2007     8   15               30.0  \n",
              "4      7      4  2007    20   51                0.0  "
            ],
            "text/html": [
              "\n",
              "  <div id=\"df-2522c498-ccb1-4550-9618-d9d9b819ab80\">\n",
              "    <div class=\"colab-df-container\">\n",
              "      <div>\n",
              "<style scoped>\n",
              "    .dataframe tbody tr th:only-of-type {\n",
              "        vertical-align: middle;\n",
              "    }\n",
              "\n",
              "    .dataframe tbody tr th {\n",
              "        vertical-align: top;\n",
              "    }\n",
              "\n",
              "    .dataframe thead th {\n",
              "        text-align: right;\n",
              "    }\n",
              "</style>\n",
              "<table border=\"1\" class=\"dataframe\">\n",
              "  <thead>\n",
              "    <tr style=\"text-align: right;\">\n",
              "      <th></th>\n",
              "      <th>Global_active_power</th>\n",
              "      <th>Global_reactive_power</th>\n",
              "      <th>Voltage</th>\n",
              "      <th>Global_intensity</th>\n",
              "      <th>Date1</th>\n",
              "      <th>Month</th>\n",
              "      <th>Year</th>\n",
              "      <th>hour</th>\n",
              "      <th>min</th>\n",
              "      <th>Total_Consumption</th>\n",
              "    </tr>\n",
              "  </thead>\n",
              "  <tbody>\n",
              "    <tr>\n",
              "      <th>0</th>\n",
              "      <td>1.430</td>\n",
              "      <td>0.192</td>\n",
              "      <td>237.64</td>\n",
              "      <td>6.0</td>\n",
              "      <td>5</td>\n",
              "      <td>10</td>\n",
              "      <td>2009</td>\n",
              "      <td>9</td>\n",
              "      <td>8</td>\n",
              "      <td>19.0</td>\n",
              "    </tr>\n",
              "    <tr>\n",
              "      <th>1</th>\n",
              "      <td>1.450</td>\n",
              "      <td>0.080</td>\n",
              "      <td>244.02</td>\n",
              "      <td>5.8</td>\n",
              "      <td>31</td>\n",
              "      <td>1</td>\n",
              "      <td>2010</td>\n",
              "      <td>15</td>\n",
              "      <td>42</td>\n",
              "      <td>19.0</td>\n",
              "    </tr>\n",
              "    <tr>\n",
              "      <th>2</th>\n",
              "      <td>1.552</td>\n",
              "      <td>0.046</td>\n",
              "      <td>243.43</td>\n",
              "      <td>6.4</td>\n",
              "      <td>29</td>\n",
              "      <td>1</td>\n",
              "      <td>2010</td>\n",
              "      <td>12</td>\n",
              "      <td>52</td>\n",
              "      <td>19.0</td>\n",
              "    </tr>\n",
              "    <tr>\n",
              "      <th>3</th>\n",
              "      <td>2.298</td>\n",
              "      <td>0.348</td>\n",
              "      <td>238.55</td>\n",
              "      <td>10.0</td>\n",
              "      <td>15</td>\n",
              "      <td>6</td>\n",
              "      <td>2007</td>\n",
              "      <td>8</td>\n",
              "      <td>15</td>\n",
              "      <td>30.0</td>\n",
              "    </tr>\n",
              "    <tr>\n",
              "      <th>4</th>\n",
              "      <td>0.294</td>\n",
              "      <td>0.000</td>\n",
              "      <td>238.95</td>\n",
              "      <td>1.2</td>\n",
              "      <td>7</td>\n",
              "      <td>4</td>\n",
              "      <td>2007</td>\n",
              "      <td>20</td>\n",
              "      <td>51</td>\n",
              "      <td>0.0</td>\n",
              "    </tr>\n",
              "  </tbody>\n",
              "</table>\n",
              "</div>\n",
              "      <button class=\"colab-df-convert\" onclick=\"convertToInteractive('df-2522c498-ccb1-4550-9618-d9d9b819ab80')\"\n",
              "              title=\"Convert this dataframe to an interactive table.\"\n",
              "              style=\"display:none;\">\n",
              "        \n",
              "  <svg xmlns=\"http://www.w3.org/2000/svg\" height=\"24px\"viewBox=\"0 0 24 24\"\n",
              "       width=\"24px\">\n",
              "    <path d=\"M0 0h24v24H0V0z\" fill=\"none\"/>\n",
              "    <path d=\"M18.56 5.44l.94 2.06.94-2.06 2.06-.94-2.06-.94-.94-2.06-.94 2.06-2.06.94zm-11 1L8.5 8.5l.94-2.06 2.06-.94-2.06-.94L8.5 2.5l-.94 2.06-2.06.94zm10 10l.94 2.06.94-2.06 2.06-.94-2.06-.94-.94-2.06-.94 2.06-2.06.94z\"/><path d=\"M17.41 7.96l-1.37-1.37c-.4-.4-.92-.59-1.43-.59-.52 0-1.04.2-1.43.59L10.3 9.45l-7.72 7.72c-.78.78-.78 2.05 0 2.83L4 21.41c.39.39.9.59 1.41.59.51 0 1.02-.2 1.41-.59l7.78-7.78 2.81-2.81c.8-.78.8-2.07 0-2.86zM5.41 20L4 18.59l7.72-7.72 1.47 1.35L5.41 20z\"/>\n",
              "  </svg>\n",
              "      </button>\n",
              "      \n",
              "  <style>\n",
              "    .colab-df-container {\n",
              "      display:flex;\n",
              "      flex-wrap:wrap;\n",
              "      gap: 12px;\n",
              "    }\n",
              "\n",
              "    .colab-df-convert {\n",
              "      background-color: #E8F0FE;\n",
              "      border: none;\n",
              "      border-radius: 50%;\n",
              "      cursor: pointer;\n",
              "      display: none;\n",
              "      fill: #1967D2;\n",
              "      height: 32px;\n",
              "      padding: 0 0 0 0;\n",
              "      width: 32px;\n",
              "    }\n",
              "\n",
              "    .colab-df-convert:hover {\n",
              "      background-color: #E2EBFA;\n",
              "      box-shadow: 0px 1px 2px rgba(60, 64, 67, 0.3), 0px 1px 3px 1px rgba(60, 64, 67, 0.15);\n",
              "      fill: #174EA6;\n",
              "    }\n",
              "\n",
              "    [theme=dark] .colab-df-convert {\n",
              "      background-color: #3B4455;\n",
              "      fill: #D2E3FC;\n",
              "    }\n",
              "\n",
              "    [theme=dark] .colab-df-convert:hover {\n",
              "      background-color: #434B5C;\n",
              "      box-shadow: 0px 1px 3px 1px rgba(0, 0, 0, 0.15);\n",
              "      filter: drop-shadow(0px 1px 2px rgba(0, 0, 0, 0.3));\n",
              "      fill: #FFFFFF;\n",
              "    }\n",
              "  </style>\n",
              "\n",
              "      <script>\n",
              "        const buttonEl =\n",
              "          document.querySelector('#df-2522c498-ccb1-4550-9618-d9d9b819ab80 button.colab-df-convert');\n",
              "        buttonEl.style.display =\n",
              "          google.colab.kernel.accessAllowed ? 'block' : 'none';\n",
              "\n",
              "        async function convertToInteractive(key) {\n",
              "          const element = document.querySelector('#df-2522c498-ccb1-4550-9618-d9d9b819ab80');\n",
              "          const dataTable =\n",
              "            await google.colab.kernel.invokeFunction('convertToInteractive',\n",
              "                                                     [key], {});\n",
              "          if (!dataTable) return;\n",
              "\n",
              "          const docLinkHtml = 'Like what you see? Visit the ' +\n",
              "            '<a target=\"_blank\" href=https://colab.research.google.com/notebooks/data_table.ipynb>data table notebook</a>'\n",
              "            + ' to learn more about interactive tables.';\n",
              "          element.innerHTML = '';\n",
              "          dataTable['output_type'] = 'display_data';\n",
              "          await google.colab.output.renderOutput(dataTable, element);\n",
              "          const docLink = document.createElement('div');\n",
              "          docLink.innerHTML = docLinkHtml;\n",
              "          element.appendChild(docLink);\n",
              "        }\n",
              "      </script>\n",
              "    </div>\n",
              "  </div>\n",
              "  "
            ]
          },
          "metadata": {},
          "execution_count": 26
        }
      ],
      "source": [
        "data.head()"
      ],
      "id": "c2852e50"
    },
    {
      "cell_type": "markdown",
      "metadata": {
        "id": "toPo_jQWnLH7"
      },
      "source": [
        "### Checking duplicates"
      ],
      "id": "toPo_jQWnLH7"
    },
    {
      "cell_type": "code",
      "execution_count": 27,
      "metadata": {
        "colab": {
          "base_uri": "https://localhost:8080/"
        },
        "id": "86144673",
        "outputId": "a207696c-407f-4f30-e6a2-6016876b5182"
      },
      "outputs": [
        {
          "output_type": "execute_result",
          "data": {
            "text/plain": [
              "0"
            ]
          },
          "metadata": {},
          "execution_count": 27
        }
      ],
      "source": [
        "data.duplicated().sum()"
      ],
      "id": "86144673"
    },
    {
      "cell_type": "markdown",
      "metadata": {
        "id": "e9b56570"
      },
      "source": [
        "#### Dependent and Independent Variables"
      ],
      "id": "e9b56570"
    },
    {
      "cell_type": "code",
      "execution_count": 28,
      "metadata": {
        "id": "a56f4fa7"
      },
      "outputs": [],
      "source": [
        "X = data.iloc[:,:-1]\n",
        "y = data.iloc[:,-1]"
      ],
      "id": "a56f4fa7"
    },
    {
      "cell_type": "code",
      "execution_count": 29,
      "metadata": {
        "colab": {
          "base_uri": "https://localhost:8080/"
        },
        "id": "761dab1b",
        "outputId": "952971c6-ce46-4c70-ce05-aa0acd95f0e5"
      },
      "outputs": [
        {
          "output_type": "execute_result",
          "data": {
            "text/plain": [
              "((49380, 9), (49380,))"
            ]
          },
          "metadata": {},
          "execution_count": 29
        }
      ],
      "source": [
        "X.shape, y.shape"
      ],
      "id": "761dab1b"
    },
    {
      "cell_type": "markdown",
      "metadata": {
        "id": "cfc424ff"
      },
      "source": [
        "### Train Test split"
      ],
      "id": "cfc424ff"
    },
    {
      "cell_type": "code",
      "execution_count": 30,
      "metadata": {
        "id": "4eb9872b"
      },
      "outputs": [],
      "source": [
        "from sklearn.model_selection import train_test_split\n",
        "from sklearn.tree import DecisionTreeRegressor"
      ],
      "id": "4eb9872b"
    },
    {
      "cell_type": "code",
      "execution_count": 31,
      "metadata": {
        "colab": {
          "base_uri": "https://localhost:8080/"
        },
        "id": "6f9a6d6d",
        "outputId": "e13ff412-3200-4e8c-c9fa-4a57d3052ad3"
      },
      "outputs": [
        {
          "output_type": "execute_result",
          "data": {
            "text/plain": [
              "((37035, 9), (12345, 9), (37035,), (12345,))"
            ]
          },
          "metadata": {},
          "execution_count": 31
        }
      ],
      "source": [
        "X_train, X_test, y_train, y_test = train_test_split(X, y, test_size=0.25)\n",
        "X_train.shape, X_test.shape, y_train.shape, y_test.shape"
      ],
      "id": "6f9a6d6d"
    },
    {
      "cell_type": "markdown",
      "metadata": {
        "id": "6641b88b"
      },
      "source": [
        "### Decision Tree without Hyper parameter tunning"
      ],
      "id": "6641b88b"
    },
    {
      "cell_type": "code",
      "execution_count": 32,
      "metadata": {
        "colab": {
          "base_uri": "https://localhost:8080/"
        },
        "id": "8b6f82c6",
        "outputId": "50124799-6135-451e-b4c4-d5e51b001654"
      },
      "outputs": [
        {
          "output_type": "execute_result",
          "data": {
            "text/plain": [
              "DecisionTreeRegressor()"
            ]
          },
          "metadata": {},
          "execution_count": 32
        }
      ],
      "source": [
        "dt = DecisionTreeRegressor()\n",
        "dt.fit(X_train,y_train)"
      ],
      "id": "8b6f82c6"
    },
    {
      "cell_type": "code",
      "execution_count": 33,
      "metadata": {
        "colab": {
          "base_uri": "https://localhost:8080/"
        },
        "id": "ce127523",
        "outputId": "7490f5a0-f314-4643-fdab-1f20f7301051"
      },
      "outputs": [
        {
          "output_type": "execute_result",
          "data": {
            "text/plain": [
              "1.0"
            ]
          },
          "metadata": {},
          "execution_count": 33
        }
      ],
      "source": [
        "dt.score(X_train, y_train)"
      ],
      "id": "ce127523"
    },
    {
      "cell_type": "code",
      "execution_count": 34,
      "metadata": {
        "id": "d9138816"
      },
      "outputs": [],
      "source": [
        "y_pred = dt.predict(X_test)"
      ],
      "id": "d9138816"
    },
    {
      "cell_type": "code",
      "execution_count": 35,
      "metadata": {
        "colab": {
          "base_uri": "https://localhost:8080/"
        },
        "id": "36b11236",
        "outputId": "caeb96ec-114e-4d9e-a080-95d95071dc0f"
      },
      "outputs": [
        {
          "output_type": "execute_result",
          "data": {
            "text/plain": [
              "0.7499568941335988"
            ]
          },
          "metadata": {},
          "execution_count": 35
        }
      ],
      "source": [
        "dt.score(X_test, y_test)"
      ],
      "id": "36b11236"
    },
    {
      "cell_type": "markdown",
      "metadata": {
        "id": "ee9mzbDzoEa6"
      },
      "source": [
        "### Model is Overfitting . We need to prun the Tree"
      ],
      "id": "ee9mzbDzoEa6"
    },
    {
      "cell_type": "markdown",
      "metadata": {
        "id": "65c594ee"
      },
      "source": [
        "### Decision Tree with Hyper parameter tunning"
      ],
      "id": "65c594ee"
    },
    {
      "cell_type": "code",
      "execution_count": 36,
      "metadata": {
        "id": "339b3bfa"
      },
      "outputs": [],
      "source": [
        "from sklearn.model_selection import GridSearchCV"
      ],
      "id": "339b3bfa"
    },
    {
      "cell_type": "code",
      "execution_count": 37,
      "metadata": {
        "id": "d55cdaf9"
      },
      "outputs": [],
      "source": [
        "parameters = {'criterion' : [\"squared_error\", \"friedman_mse\", \"absolute_error\"],\n",
        "             'splitter' : ['best', 'random'],\n",
        "             'max_depth' : [7,8,9,10],\n",
        "             'min_samples_split' : [10],\n",
        "             'max_features': ['auto', 'sqrt', 'log2']}"
      ],
      "id": "d55cdaf9"
    },
    {
      "cell_type": "code",
      "execution_count": 38,
      "metadata": {
        "id": "2ec5d3be"
      },
      "outputs": [],
      "source": [
        "regressorcv = GridSearchCV(estimator=DecisionTreeRegressor(),param_grid=parameters, cv=5,n_jobs=-1)"
      ],
      "id": "2ec5d3be"
    },
    {
      "cell_type": "code",
      "execution_count": 39,
      "metadata": {
        "colab": {
          "base_uri": "https://localhost:8080/"
        },
        "id": "e8ec20db",
        "outputId": "4e9cb5a5-b298-406b-bc07-f74d7659fe3c"
      },
      "outputs": [
        {
          "output_type": "execute_result",
          "data": {
            "text/plain": [
              "GridSearchCV(cv=5, estimator=DecisionTreeRegressor(), n_jobs=-1,\n",
              "             param_grid={'criterion': ['squared_error', 'friedman_mse',\n",
              "                                       'absolute_error'],\n",
              "                         'max_depth': [7, 8, 9, 10],\n",
              "                         'max_features': ['auto', 'sqrt', 'log2'],\n",
              "                         'min_samples_split': [10],\n",
              "                         'splitter': ['best', 'random']})"
            ]
          },
          "metadata": {},
          "execution_count": 39
        }
      ],
      "source": [
        "regressorcv.fit(X_train,y_train)"
      ],
      "id": "e8ec20db"
    },
    {
      "cell_type": "code",
      "execution_count": 40,
      "metadata": {
        "colab": {
          "base_uri": "https://localhost:8080/"
        },
        "id": "27d6adc1",
        "outputId": "95a4ef81-44af-4c46-bd91-917596802288"
      },
      "outputs": [
        {
          "output_type": "execute_result",
          "data": {
            "text/plain": [
              "{'criterion': 'squared_error',\n",
              " 'max_depth': 9,\n",
              " 'max_features': 'auto',\n",
              " 'min_samples_split': 10,\n",
              " 'splitter': 'best'}"
            ]
          },
          "metadata": {},
          "execution_count": 40
        }
      ],
      "source": [
        "regressorcv.best_params_"
      ],
      "id": "27d6adc1"
    },
    {
      "cell_type": "code",
      "execution_count": 41,
      "metadata": {
        "id": "29cae211"
      },
      "outputs": [],
      "source": [
        "regressor_best_param = DecisionTreeRegressor(criterion='squared_error',max_depth= 10,max_features='auto',splitter='best',min_samples_split=10)"
      ],
      "id": "29cae211"
    },
    {
      "cell_type": "code",
      "execution_count": 42,
      "metadata": {
        "colab": {
          "base_uri": "https://localhost:8080/"
        },
        "id": "8a8c4025",
        "outputId": "28d0fb51-0d99-4c81-f930-252c3d3749c6"
      },
      "outputs": [
        {
          "output_type": "execute_result",
          "data": {
            "text/plain": [
              "DecisionTreeRegressor(max_depth=10, max_features='auto', min_samples_split=10)"
            ]
          },
          "metadata": {},
          "execution_count": 42
        }
      ],
      "source": [
        "regressor_best_param.fit(X_train, y_train)"
      ],
      "id": "8a8c4025"
    },
    {
      "cell_type": "code",
      "execution_count": 43,
      "metadata": {
        "colab": {
          "base_uri": "https://localhost:8080/"
        },
        "id": "d6ttyfYcteck",
        "outputId": "d01e3373-b913-48a0-fa75-0be257264b4f"
      },
      "outputs": [
        {
          "output_type": "execute_result",
          "data": {
            "text/plain": [
              "0.8855411412337055"
            ]
          },
          "metadata": {},
          "execution_count": 43
        }
      ],
      "source": [
        "regressor_best_param.score(X_train, y_train)"
      ],
      "id": "d6ttyfYcteck"
    },
    {
      "cell_type": "code",
      "execution_count": 44,
      "metadata": {
        "id": "8043c697"
      },
      "outputs": [],
      "source": [
        "y_pred = regressor_best_param.predict(X_test)"
      ],
      "id": "8043c697"
    },
    {
      "cell_type": "markdown",
      "metadata": {
        "id": "d6cbc948"
      },
      "source": [
        "### R2 score"
      ],
      "id": "d6cbc948"
    },
    {
      "cell_type": "code",
      "execution_count": 45,
      "metadata": {
        "id": "811ea7da"
      },
      "outputs": [],
      "source": [
        "from sklearn.metrics import r2_score"
      ],
      "id": "811ea7da"
    },
    {
      "cell_type": "code",
      "execution_count": 46,
      "metadata": {
        "colab": {
          "base_uri": "https://localhost:8080/"
        },
        "id": "c4f3d901",
        "outputId": "e901d344-4e3d-448b-dffc-21f96b7c24c8"
      },
      "outputs": [
        {
          "output_type": "execute_result",
          "data": {
            "text/plain": [
              "0.8225474140095721"
            ]
          },
          "metadata": {},
          "execution_count": 46
        }
      ],
      "source": [
        "r2_score(y_test,y_pred)"
      ],
      "id": "c4f3d901"
    },
    {
      "cell_type": "markdown",
      "metadata": {
        "id": "7dhKqnUbNNz3"
      },
      "source": [
        "## Random Forest Regressor"
      ],
      "id": "7dhKqnUbNNz3"
    },
    {
      "cell_type": "code",
      "execution_count": 47,
      "metadata": {
        "id": "RSBIDvDMNMC8"
      },
      "outputs": [],
      "source": [
        "from sklearn.ensemble import RandomForestRegressor"
      ],
      "id": "RSBIDvDMNMC8"
    },
    {
      "cell_type": "code",
      "execution_count": 48,
      "metadata": {
        "colab": {
          "base_uri": "https://localhost:8080/"
        },
        "id": "05jbeBa3NMGp",
        "outputId": "22b309e8-0ebb-4b71-dd00-7ce24053b32f"
      },
      "outputs": [
        {
          "output_type": "execute_result",
          "data": {
            "text/plain": [
              "RandomForestRegressor(max_depth=8, random_state=0)"
            ]
          },
          "metadata": {},
          "execution_count": 48
        }
      ],
      "source": [
        "rfr = RandomForestRegressor(n_estimators=100, criterion='squared_error', max_depth=8,bootstrap=True, random_state=0)\n",
        "rfr.fit(X_train, y_train)"
      ],
      "id": "05jbeBa3NMGp"
    },
    {
      "cell_type": "code",
      "execution_count": 49,
      "metadata": {
        "colab": {
          "base_uri": "https://localhost:8080/"
        },
        "id": "L-RTY0noNMKu",
        "outputId": "b0c78e0d-eb6c-4d49-c974-df8c2eea2640"
      },
      "outputs": [
        {
          "output_type": "execute_result",
          "data": {
            "text/plain": [
              "0.8717850642033242"
            ]
          },
          "metadata": {},
          "execution_count": 49
        }
      ],
      "source": [
        "rfr.score(X_train, y_train)"
      ],
      "id": "L-RTY0noNMKu"
    },
    {
      "cell_type": "code",
      "execution_count": 50,
      "metadata": {
        "colab": {
          "base_uri": "https://localhost:8080/"
        },
        "id": "fqe5ZiOMNMO_",
        "outputId": "d64ff2a1-720b-4aea-df82-7de76a56585c"
      },
      "outputs": [
        {
          "output_type": "execute_result",
          "data": {
            "text/plain": [
              "0.8456728991282211"
            ]
          },
          "metadata": {},
          "execution_count": 50
        }
      ],
      "source": [
        "rfr.score(X_test, y_test)"
      ],
      "id": "fqe5ZiOMNMO_"
    },
    {
      "cell_type": "markdown",
      "metadata": {
        "id": "Hr72pbT7N9mn"
      },
      "source": [
        "## Bagging Regressor"
      ],
      "id": "Hr72pbT7N9mn"
    },
    {
      "cell_type": "code",
      "execution_count": 51,
      "metadata": {
        "id": "MHByhvZrPEeg"
      },
      "outputs": [],
      "source": [
        "from sklearn.svm import SVR\n",
        "from sklearn.ensemble import BaggingRegressor\n",
        "from sklearn.datasets import make_regression"
      ],
      "id": "MHByhvZrPEeg"
    },
    {
      "cell_type": "code",
      "execution_count": 52,
      "metadata": {
        "colab": {
          "base_uri": "https://localhost:8080/"
        },
        "id": "KXW5fwr1N-IS",
        "outputId": "fcb2ead7-0611-4697-c662-6b004cb89a00"
      },
      "outputs": [
        {
          "output_type": "execute_result",
          "data": {
            "text/plain": [
              "BaggingRegressor(base_estimator=SVR(), random_state=0)"
            ]
          },
          "metadata": {},
          "execution_count": 52
        }
      ],
      "source": [
        "br = BaggingRegressor(base_estimator=SVR(), n_estimators=10, random_state=0)\n",
        "br.fit(X_train,y_train)"
      ],
      "id": "KXW5fwr1N-IS"
    },
    {
      "cell_type": "code",
      "execution_count": 53,
      "metadata": {
        "colab": {
          "base_uri": "https://localhost:8080/"
        },
        "id": "NL1YLZP2N-LZ",
        "outputId": "e1bc7325-c3b3-4a00-d65f-6c13c898c396"
      },
      "outputs": [
        {
          "output_type": "execute_result",
          "data": {
            "text/plain": [
              "-0.3002619892530942"
            ]
          },
          "metadata": {},
          "execution_count": 53
        }
      ],
      "source": [
        "br.score(X_train, y_train)"
      ],
      "id": "NL1YLZP2N-LZ"
    },
    {
      "cell_type": "code",
      "execution_count": 54,
      "metadata": {
        "id": "GH7vX48bOkW6"
      },
      "outputs": [],
      "source": [
        "y_pred = br.predict(X_test)"
      ],
      "id": "GH7vX48bOkW6"
    },
    {
      "cell_type": "code",
      "execution_count": 55,
      "metadata": {
        "id": "0jXbilOQOoJH",
        "colab": {
          "base_uri": "https://localhost:8080/"
        },
        "outputId": "248321a4-c11f-49f2-bf12-f7686089078a"
      },
      "outputs": [
        {
          "output_type": "execute_result",
          "data": {
            "text/plain": [
              "-0.29861447956590137"
            ]
          },
          "metadata": {},
          "execution_count": 55
        }
      ],
      "source": [
        "br.score(X_test, y_test)"
      ],
      "id": "0jXbilOQOoJH"
    },
    {
      "cell_type": "markdown",
      "metadata": {
        "id": "qXveTKiIN5e5"
      },
      "source": [
        "## ExtraTree Regressor"
      ],
      "id": "qXveTKiIN5e5"
    },
    {
      "cell_type": "code",
      "execution_count": 56,
      "metadata": {
        "id": "dbq8xWEpPGYA"
      },
      "outputs": [],
      "source": [
        "from sklearn.ensemble import ExtraTreesRegressor"
      ],
      "id": "dbq8xWEpPGYA"
    },
    {
      "cell_type": "code",
      "execution_count": 57,
      "metadata": {
        "id": "qublU0SgNMTP"
      },
      "outputs": [],
      "source": [
        "etr = ExtraTreesRegressor(n_estimators=100, random_state=0).fit(X_train, y_train)"
      ],
      "id": "qublU0SgNMTP"
    },
    {
      "cell_type": "code",
      "execution_count": 58,
      "metadata": {
        "id": "xbwr3qeUNMiB",
        "colab": {
          "base_uri": "https://localhost:8080/"
        },
        "outputId": "b1dd7bf7-49e0-4753-e263-f3ef3dda2605"
      },
      "outputs": [
        {
          "output_type": "execute_result",
          "data": {
            "text/plain": [
              "1.0"
            ]
          },
          "metadata": {},
          "execution_count": 58
        }
      ],
      "source": [
        "etr.score(X_train, y_train)"
      ],
      "id": "xbwr3qeUNMiB"
    },
    {
      "cell_type": "code",
      "execution_count": 59,
      "metadata": {
        "id": "6bvxB3bGNMoV"
      },
      "outputs": [],
      "source": [
        "y_pred = etr.predict(X_test)"
      ],
      "id": "6bvxB3bGNMoV"
    },
    {
      "cell_type": "code",
      "execution_count": 60,
      "metadata": {
        "id": "EwrnGM3XNMse",
        "colab": {
          "base_uri": "https://localhost:8080/"
        },
        "outputId": "7b54034a-0e93-428e-d467-0e53fd81fb3b"
      },
      "outputs": [
        {
          "output_type": "execute_result",
          "data": {
            "text/plain": [
              "0.8782814709099761"
            ]
          },
          "metadata": {},
          "execution_count": 60
        }
      ],
      "source": [
        "etr.score(X_test, y_test)"
      ],
      "id": "EwrnGM3XNMse"
    },
    {
      "cell_type": "markdown",
      "metadata": {
        "id": "nvSYl96COxlg"
      },
      "source": [
        "## Voting Regressor"
      ],
      "id": "nvSYl96COxlg"
    },
    {
      "cell_type": "code",
      "execution_count": 61,
      "metadata": {
        "id": "TQD1BiHNQNZQ"
      },
      "outputs": [],
      "source": [
        "from sklearn.ensemble import VotingRegressor\n",
        "from sklearn.linear_model import LinearRegression\n",
        "from sklearn.ensemble import RandomForestRegressor\n",
        "from sklearn.neighbors import KNeighborsRegressor"
      ],
      "id": "TQD1BiHNQNZQ"
    },
    {
      "cell_type": "code",
      "execution_count": 62,
      "metadata": {
        "id": "1X6EXcn1OyGw",
        "colab": {
          "base_uri": "https://localhost:8080/"
        },
        "outputId": "fef66605-b56b-4c49-8ac0-1bad22bab1e8"
      },
      "outputs": [
        {
          "output_type": "execute_result",
          "data": {
            "text/plain": [
              "VotingRegressor(estimators=[('lr', LinearRegression()),\n",
              "                            ('rf',\n",
              "                             RandomForestRegressor(n_estimators=10,\n",
              "                                                   random_state=1)),\n",
              "                            ('r3', KNeighborsRegressor())])"
            ]
          },
          "metadata": {},
          "execution_count": 62
        }
      ],
      "source": [
        "r1 = LinearRegression()\n",
        "r2 = RandomForestRegressor(n_estimators=10, random_state=1)\n",
        "r3 = KNeighborsRegressor()\n",
        "vtr = VotingRegressor([('lr', r1), ('rf', r2), ('r3', r3)])\n",
        "vtr.fit(X_train, y_train)"
      ],
      "id": "1X6EXcn1OyGw"
    },
    {
      "cell_type": "code",
      "execution_count": 63,
      "metadata": {
        "id": "u_u2T_OwOyKV",
        "colab": {
          "base_uri": "https://localhost:8080/"
        },
        "outputId": "a8ff28a3-72dd-42e1-bf24-bc696ce18a4f"
      },
      "outputs": [
        {
          "output_type": "execute_result",
          "data": {
            "text/plain": [
              "0.8975726868529844"
            ]
          },
          "metadata": {},
          "execution_count": 63
        }
      ],
      "source": [
        "vtr.score(X_train, y_train)"
      ],
      "id": "u_u2T_OwOyKV"
    },
    {
      "cell_type": "code",
      "execution_count": 64,
      "metadata": {
        "id": "AKYrhhErOyOL"
      },
      "outputs": [],
      "source": [
        "y_pred = vtr.predict(X_test)"
      ],
      "id": "AKYrhhErOyOL"
    },
    {
      "cell_type": "code",
      "execution_count": 65,
      "metadata": {
        "id": "prjXFc3OOySo",
        "colab": {
          "base_uri": "https://localhost:8080/"
        },
        "outputId": "4908a2ba-4df6-466f-b535-fba96320c6da"
      },
      "outputs": [
        {
          "output_type": "execute_result",
          "data": {
            "text/plain": [
              "0.8280270379088774"
            ]
          },
          "metadata": {},
          "execution_count": 65
        }
      ],
      "source": [
        "vtr.score(X_test, y_test)"
      ],
      "id": "prjXFc3OOySo"
    },
    {
      "cell_type": "code",
      "execution_count": 66,
      "metadata": {
        "id": "579318f0"
      },
      "outputs": [],
      "source": [
        "### Tree Visualization"
      ],
      "id": "579318f0"
    },
    {
      "cell_type": "code",
      "execution_count": 67,
      "metadata": {
        "id": "850ec601",
        "colab": {
          "base_uri": "https://localhost:8080/",
          "height": 729
        },
        "outputId": "f3236034-bfa3-4eed-80d2-ace7f5e15426"
      },
      "outputs": [
        {
          "output_type": "display_data",
          "data": {
            "text/plain": [
              "<Figure size 1080x720 with 1 Axes>"
            ],
            "image/png": "[encoded data removed]"
          },
          "metadata": {
            "needs_background": "light"
          }
        }
      ],
      "source": [
        "from sklearn import tree\n",
        "plt.figure(figsize=(15,10))\n",
        "tree.plot_tree(regressor_best_param,filled=True, fontsize=10)\n",
        "plt.tight_layout()"
      ],
      "id": "850ec601"
    },
    {
      "cell_type": "code",
      "execution_count": 67,
      "metadata": {
        "id": "7384108d"
      },
      "outputs": [],
      "source": [],
      "id": "7384108d"
    }
  ],
  "metadata": {
    "accelerator": "GPU",
    "colab": {
      "collapsed_sections": [
        "ee9mzbDzoEa6"
      ],
      "provenance": []
    },
    "gpuClass": "standard",
    "kernelspec": {
      "display_name": "Python 3 (ipykernel)",
      "language": "python",
      "name": "python3"
    },
    "language_info": {
      "codemirror_mode": {
        "name": "ipython",
        "version": 3
      },
      "file_extension": ".py",
      "mimetype": "text/x-python",
      "name": "python",
      "nbconvert_exporter": "python",
      "pygments_lexer": "ipython3",
      "version": "3.9.12"
    }
  },
  "nbformat": 4,
  "nbformat_minor": 5
}