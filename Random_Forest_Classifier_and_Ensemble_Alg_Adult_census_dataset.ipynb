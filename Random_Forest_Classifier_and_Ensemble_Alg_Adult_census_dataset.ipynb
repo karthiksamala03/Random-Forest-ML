{
  "cells": [
    {
      "cell_type": "markdown",
      "id": "38d1216f",
      "metadata": {
        "id": "38d1216f"
      },
      "source": [
        "# Random Forest Classifier and Other Alg Model Building"
      ]
    },
    {
      "cell_type": "markdown",
      "id": "ab5aae4b",
      "metadata": {
        "id": "ab5aae4b"
      },
      "source": [
        "Data Collection: https://archive.ics.uci.edu/ml/datasets/census+income"
      ]
    },
    {
      "cell_type": "markdown",
      "id": "cb8856c4",
      "metadata": {
        "id": "cb8856c4"
      },
      "source": [
        "Data Set Information:\n",
        "\n",
        "Extraction was done by Barry Becker from the 1994 Census database.\n",
        "\n",
        "Prediction task is to determine whether a person makes over 50K a year.\n",
        "\n",
        "\n",
        "Attribute Information:\n",
        "\n",
        "Listing of attributes:\n",
        "\n",
        ">50K, <=50K.\n",
        "\n",
        "* age: continuous.\n",
        "* workclass: Private, Self-emp-not-inc, Self-emp-inc, Federal-gov, Local-gov, State-gov, Without-pay, Never-worked.\n",
        "* fnlwgt: continuous.\n",
        "education: Bachelors, Some-college, 11th, HS-grad, Prof-school, Assoc-acdm, Assoc-voc, 9th, 7th-8th, 12th, Masters, 1st-4th, 10th, Doctorate, 5th-6th, Preschool.\n",
        "* education-num: continuous.\n",
        "* marital-status: Married-civ-spouse, Divorced, Never-married, Separated, Widowed, Married-spouse-absent, Married-AF-spouse.\n",
        "* occupation: Tech-support, Craft-repair, Other-service, Sales, Exec-managerial, Prof-specialty, Handlers-cleaners, Machine-op-inspct, Adm-clerical, Farming-fishing, Transport-moving, Priv-house-serv, Protective-serv, Armed-Forces.\n",
        "* relationship: Wife, Own-child, Husband, Not-in-family, Other-relative, Unmarried.\n",
        "* race: White, Asian-Pac-Islander, Amer-Indian-Eskimo, Other, Black.\n",
        "* sex: Female, Male.\n",
        "* capital-gain: continuous.\n",
        "* capital-loss: continuous.\n",
        "* hours-per-week: continuous.\n",
        "* native-country: United-States, Cambodia, England, Puerto-Rico, Canada, Germany, Outlying-US(Guam-USVI-etc), India, Japan, Greece, South, China, Cuba, Iran, Honduras, Philippines, Italy, Poland, Jamaica, Vietnam, Mexico, Portugal, Ireland, France, Dominican-Republic, Laos, Ecuador, Taiwan, Haiti, Columbia, Hungary, Guatemala, Nicaragua, Scotland, Thailand, Yugoslavia, El-Salvador, Trinadad&Tobago, Peru, Hong, Holand-Netherlands."
      ]
    },
    {
      "cell_type": "markdown",
      "id": "61b41da3",
      "metadata": {
        "id": "61b41da3"
      },
      "source": [
        "### Importing required libraries"
      ]
    },
    {
      "cell_type": "code",
      "execution_count": null,
      "id": "b83d0008",
      "metadata": {
        "id": "b83d0008"
      },
      "outputs": [],
      "source": [
        "import pandas as pd\n",
        "import numpy as np\n",
        "import matplotlib.pyplot as plt\n",
        "%matplotlib inline\n",
        "import seaborn as sns"
      ]
    },
    {
      "cell_type": "markdown",
      "id": "f83419db",
      "metadata": {
        "id": "f83419db"
      },
      "source": [
        "### Loading Dataset"
      ]
    },
    {
      "cell_type": "code",
      "source": [
        "from google.colab import drive\n",
        "drive.mount('/content/drive')"
      ],
      "metadata": {
        "colab": {
          "base_uri": "https://localhost:8080/"
        },
        "id": "wjyipMpSwzAw",
        "outputId": "b3209fe9-b5e5-4b2c-c671-5541828379ec"
      },
      "id": "wjyipMpSwzAw",
      "execution_count": null,
      "outputs": [
        {
          "output_type": "stream",
          "name": "stdout",
          "text": [
            "Mounted at /content/drive\n"
          ]
        }
      ]
    },
    {
      "cell_type": "code",
      "source": [
        "import tensorflow as tf\n",
        "tf.test.gpu_device_name()"
      ],
      "metadata": {
        "colab": {
          "base_uri": "https://localhost:8080/",
          "height": 36
        },
        "id": "rEb3Dprhw5fO",
        "outputId": "437f34b9-8d7f-4ec1-938a-225762acf655"
      },
      "id": "rEb3Dprhw5fO",
      "execution_count": null,
      "outputs": [
        {
          "output_type": "execute_result",
          "data": {
            "text/plain": [
              "'/device:GPU:0'"
            ],
            "application/vnd.google.colaboratory.intrinsic+json": {
              "type": "string"
            }
          },
          "metadata": {},
          "execution_count": 1
        }
      ]
    },
    {
      "cell_type": "code",
      "execution_count": null,
      "id": "1835e777",
      "metadata": {
        "id": "1835e777"
      },
      "outputs": [],
      "source": [
        "data = pd.read_excel(\"/content/drive/MyDrive/Colab Notebooks/Datasets/adult_census_data.xlsx\")"
      ]
    },
    {
      "cell_type": "code",
      "execution_count": null,
      "id": "41ee2d06",
      "metadata": {
        "colab": {
          "base_uri": "https://localhost:8080/",
          "height": 372
        },
        "id": "41ee2d06",
        "outputId": "4aceaf26-2611-434e-d98b-ca36025c91c4"
      },
      "outputs": [
        {
          "output_type": "execute_result",
          "data": {
            "text/plain": [
              "   age         workclass  fnlwgt  education  education-num  \\\n",
              "0   39         State-gov   77516  Bachelors             13   \n",
              "1   50  Self-emp-not-inc   83311  Bachelors             13   \n",
              "2   38           Private  215646    HS-grad              9   \n",
              "3   53           Private  234721       11th              7   \n",
              "4   28           Private  338409  Bachelors             13   \n",
              "\n",
              "       marital-status         occupation   relationship   race     sex  \\\n",
              "0       Never-married       Adm-clerical  Not-in-family  White    Male   \n",
              "1  Married-civ-spouse    Exec-managerial        Husband  White    Male   \n",
              "2            Divorced  Handlers-cleaners  Not-in-family  White    Male   \n",
              "3  Married-civ-spouse  Handlers-cleaners        Husband  Black    Male   \n",
              "4  Married-civ-spouse     Prof-specialty           Wife  Black  Female   \n",
              "\n",
              "   capital-gain  capital-loss  hours-per-week native-country  class  \n",
              "0          2174             0              40  United-States  <=50K  \n",
              "1             0             0              13  United-States  <=50K  \n",
              "2             0             0              40  United-States  <=50K  \n",
              "3             0             0              40  United-States  <=50K  \n",
              "4             0             0              40           Cuba  <=50K  "
            ],
            "text/html": [
              "\n",
              "  <div id=\"df-3c55766e-4572-46af-8d71-998804094609\">\n",
              "    <div class=\"colab-df-container\">\n",
              "      <div>\n",
              "<style scoped>\n",
              "    .dataframe tbody tr th:only-of-type {\n",
              "        vertical-align: middle;\n",
              "    }\n",
              "\n",
              "    .dataframe tbody tr th {\n",
              "        vertical-align: top;\n",
              "    }\n",
              "\n",
              "    .dataframe thead th {\n",
              "        text-align: right;\n",
              "    }\n",
              "</style>\n",
              "<table border=\"1\" class=\"dataframe\">\n",
              "  <thead>\n",
              "    <tr style=\"text-align: right;\">\n",
              "      <th></th>\n",
              "      <th>age</th>\n",
              "      <th>workclass</th>\n",
              "      <th>fnlwgt</th>\n",
              "      <th>education</th>\n",
              "      <th>education-num</th>\n",
              "      <th>marital-status</th>\n",
              "      <th>occupation</th>\n",
              "      <th>relationship</th>\n",
              "      <th>race</th>\n",
              "      <th>sex</th>\n",
              "      <th>capital-gain</th>\n",
              "      <th>capital-loss</th>\n",
              "      <th>hours-per-week</th>\n",
              "      <th>native-country</th>\n",
              "      <th>class</th>\n",
              "    </tr>\n",
              "  </thead>\n",
              "  <tbody>\n",
              "    <tr>\n",
              "      <th>0</th>\n",
              "      <td>39</td>\n",
              "      <td>State-gov</td>\n",
              "      <td>77516</td>\n",
              "      <td>Bachelors</td>\n",
              "      <td>13</td>\n",
              "      <td>Never-married</td>\n",
              "      <td>Adm-clerical</td>\n",
              "      <td>Not-in-family</td>\n",
              "      <td>White</td>\n",
              "      <td>Male</td>\n",
              "      <td>2174</td>\n",
              "      <td>0</td>\n",
              "      <td>40</td>\n",
              "      <td>United-States</td>\n",
              "      <td>&lt;=50K</td>\n",
              "    </tr>\n",
              "    <tr>\n",
              "      <th>1</th>\n",
              "      <td>50</td>\n",
              "      <td>Self-emp-not-inc</td>\n",
              "      <td>83311</td>\n",
              "      <td>Bachelors</td>\n",
              "      <td>13</td>\n",
              "      <td>Married-civ-spouse</td>\n",
              "      <td>Exec-managerial</td>\n",
              "      <td>Husband</td>\n",
              "      <td>White</td>\n",
              "      <td>Male</td>\n",
              "      <td>0</td>\n",
              "      <td>0</td>\n",
              "      <td>13</td>\n",
              "      <td>United-States</td>\n",
              "      <td>&lt;=50K</td>\n",
              "    </tr>\n",
              "    <tr>\n",
              "      <th>2</th>\n",
              "      <td>38</td>\n",
              "      <td>Private</td>\n",
              "      <td>215646</td>\n",
              "      <td>HS-grad</td>\n",
              "      <td>9</td>\n",
              "      <td>Divorced</td>\n",
              "      <td>Handlers-cleaners</td>\n",
              "      <td>Not-in-family</td>\n",
              "      <td>White</td>\n",
              "      <td>Male</td>\n",
              "      <td>0</td>\n",
              "      <td>0</td>\n",
              "      <td>40</td>\n",
              "      <td>United-States</td>\n",
              "      <td>&lt;=50K</td>\n",
              "    </tr>\n",
              "    <tr>\n",
              "      <th>3</th>\n",
              "      <td>53</td>\n",
              "      <td>Private</td>\n",
              "      <td>234721</td>\n",
              "      <td>11th</td>\n",
              "      <td>7</td>\n",
              "      <td>Married-civ-spouse</td>\n",
              "      <td>Handlers-cleaners</td>\n",
              "      <td>Husband</td>\n",
              "      <td>Black</td>\n",
              "      <td>Male</td>\n",
              "      <td>0</td>\n",
              "      <td>0</td>\n",
              "      <td>40</td>\n",
              "      <td>United-States</td>\n",
              "      <td>&lt;=50K</td>\n",
              "    </tr>\n",
              "    <tr>\n",
              "      <th>4</th>\n",
              "      <td>28</td>\n",
              "      <td>Private</td>\n",
              "      <td>338409</td>\n",
              "      <td>Bachelors</td>\n",
              "      <td>13</td>\n",
              "      <td>Married-civ-spouse</td>\n",
              "      <td>Prof-specialty</td>\n",
              "      <td>Wife</td>\n",
              "      <td>Black</td>\n",
              "      <td>Female</td>\n",
              "      <td>0</td>\n",
              "      <td>0</td>\n",
              "      <td>40</td>\n",
              "      <td>Cuba</td>\n",
              "      <td>&lt;=50K</td>\n",
              "    </tr>\n",
              "  </tbody>\n",
              "</table>\n",
              "</div>\n",
              "      <button class=\"colab-df-convert\" onclick=\"convertToInteractive('df-3c55766e-4572-46af-8d71-998804094609')\"\n",
              "              title=\"Convert this dataframe to an interactive table.\"\n",
              "              style=\"display:none;\">\n",
              "        \n",
              "  <svg xmlns=\"http://www.w3.org/2000/svg\" height=\"24px\"viewBox=\"0 0 24 24\"\n",
              "       width=\"24px\">\n",
              "    <path d=\"M0 0h24v24H0V0z\" fill=\"none\"/>\n",
              "    <path d=\"M18.56 5.44l.94 2.06.94-2.06 2.06-.94-2.06-.94-.94-2.06-.94 2.06-2.06.94zm-11 1L8.5 8.5l.94-2.06 2.06-.94-2.06-.94L8.5 2.5l-.94 2.06-2.06.94zm10 10l.94 2.06.94-2.06 2.06-.94-2.06-.94-.94-2.06-.94 2.06-2.06.94z\"/><path d=\"M17.41 7.96l-1.37-1.37c-.4-.4-.92-.59-1.43-.59-.52 0-1.04.2-1.43.59L10.3 9.45l-7.72 7.72c-.78.78-.78 2.05 0 2.83L4 21.41c.39.39.9.59 1.41.59.51 0 1.02-.2 1.41-.59l7.78-7.78 2.81-2.81c.8-.78.8-2.07 0-2.86zM5.41 20L4 18.59l7.72-7.72 1.47 1.35L5.41 20z\"/>\n",
              "  </svg>\n",
              "      </button>\n",
              "      \n",
              "  <style>\n",
              "    .colab-df-container {\n",
              "      display:flex;\n",
              "      flex-wrap:wrap;\n",
              "      gap: 12px;\n",
              "    }\n",
              "\n",
              "    .colab-df-convert {\n",
              "      background-color: #E8F0FE;\n",
              "      border: none;\n",
              "      border-radius: 50%;\n",
              "      cursor: pointer;\n",
              "      display: none;\n",
              "      fill: #1967D2;\n",
              "      height: 32px;\n",
              "      padding: 0 0 0 0;\n",
              "      width: 32px;\n",
              "    }\n",
              "\n",
              "    .colab-df-convert:hover {\n",
              "      background-color: #E2EBFA;\n",
              "      box-shadow: 0px 1px 2px rgba(60, 64, 67, 0.3), 0px 1px 3px 1px rgba(60, 64, 67, 0.15);\n",
              "      fill: #174EA6;\n",
              "    }\n",
              "\n",
              "    [theme=dark] .colab-df-convert {\n",
              "      background-color: #3B4455;\n",
              "      fill: #D2E3FC;\n",
              "    }\n",
              "\n",
              "    [theme=dark] .colab-df-convert:hover {\n",
              "      background-color: #434B5C;\n",
              "      box-shadow: 0px 1px 3px 1px rgba(0, 0, 0, 0.15);\n",
              "      filter: drop-shadow(0px 1px 2px rgba(0, 0, 0, 0.3));\n",
              "      fill: #FFFFFF;\n",
              "    }\n",
              "  </style>\n",
              "\n",
              "      <script>\n",
              "        const buttonEl =\n",
              "          document.querySelector('#df-3c55766e-4572-46af-8d71-998804094609 button.colab-df-convert');\n",
              "        buttonEl.style.display =\n",
              "          google.colab.kernel.accessAllowed ? 'block' : 'none';\n",
              "\n",
              "        async function convertToInteractive(key) {\n",
              "          const element = document.querySelector('#df-3c55766e-4572-46af-8d71-998804094609');\n",
              "          const dataTable =\n",
              "            await google.colab.kernel.invokeFunction('convertToInteractive',\n",
              "                                                     [key], {});\n",
              "          if (!dataTable) return;\n",
              "\n",
              "          const docLinkHtml = 'Like what you see? Visit the ' +\n",
              "            '<a target=\"_blank\" href=https://colab.research.google.com/notebooks/data_table.ipynb>data table notebook</a>'\n",
              "            + ' to learn more about interactive tables.';\n",
              "          element.innerHTML = '';\n",
              "          dataTable['output_type'] = 'display_data';\n",
              "          await google.colab.output.renderOutput(dataTable, element);\n",
              "          const docLink = document.createElement('div');\n",
              "          docLink.innerHTML = docLinkHtml;\n",
              "          element.appendChild(docLink);\n",
              "        }\n",
              "      </script>\n",
              "    </div>\n",
              "  </div>\n",
              "  "
            ]
          },
          "metadata": {},
          "execution_count": 7
        }
      ],
      "source": [
        "data.head()"
      ]
    },
    {
      "cell_type": "code",
      "execution_count": null,
      "id": "b6048408",
      "metadata": {
        "colab": {
          "base_uri": "https://localhost:8080/"
        },
        "id": "b6048408",
        "outputId": "fb64abac-77e4-4f8f-e75e-71e52b377aa5"
      },
      "outputs": [
        {
          "output_type": "stream",
          "name": "stdout",
          "text": [
            "<class 'pandas.core.frame.DataFrame'>\n",
            "RangeIndex: 32561 entries, 0 to 32560\n",
            "Data columns (total 15 columns):\n",
            " #   Column          Non-Null Count  Dtype \n",
            "---  ------          --------------  ----- \n",
            " 0   age             32561 non-null  int64 \n",
            " 1   workclass       32561 non-null  object\n",
            " 2   fnlwgt          32561 non-null  int64 \n",
            " 3   education       32561 non-null  object\n",
            " 4   education-num   32561 non-null  int64 \n",
            " 5   marital-status  32561 non-null  object\n",
            " 6   occupation      32561 non-null  object\n",
            " 7   relationship    32561 non-null  object\n",
            " 8   race            32561 non-null  object\n",
            " 9   sex             32561 non-null  object\n",
            " 10  capital-gain    32561 non-null  int64 \n",
            " 11  capital-loss    32561 non-null  int64 \n",
            " 12  hours-per-week  32561 non-null  int64 \n",
            " 13  native-country  32561 non-null  object\n",
            " 14  class           32561 non-null  object\n",
            "dtypes: int64(6), object(9)\n",
            "memory usage: 3.7+ MB\n"
          ]
        }
      ],
      "source": [
        "data.info()"
      ]
    },
    {
      "cell_type": "markdown",
      "id": "83d877e7",
      "metadata": {
        "id": "83d877e7"
      },
      "source": [
        "### Data Cleaning"
      ]
    },
    {
      "cell_type": "code",
      "source": [
        "categorical_features = [col for col in data.columns if data[col].dtype == 'O']\n",
        "numerical_featues = [col for col in data.columns if data[col].dtype != 'O']"
      ],
      "metadata": {
        "id": "6oZv4nax0cy8"
      },
      "id": "6oZv4nax0cy8",
      "execution_count": null,
      "outputs": []
    },
    {
      "cell_type": "code",
      "source": [
        "for cat in categorical_features:\n",
        "    print('----------------------------')\n",
        "    print(cat)\n",
        "    print('----------------------------')\n",
        "    total = data[cat].value_counts()\n",
        "    percentage = data[cat].value_counts(normalize=True)\n",
        "    result = pd.concat([total,percentage],keys=['Total','Percentage'],axis=1)\n",
        "    print(result)\n",
        "\n",
        "    \n",
        "    print('\\n')"
      ],
      "metadata": {
        "colab": {
          "base_uri": "https://localhost:8080/"
        },
        "id": "5-wfBfjp0awQ",
        "outputId": "8ed201b3-81e6-42f8-e0e8-0fd249698f11"
      },
      "id": "5-wfBfjp0awQ",
      "execution_count": null,
      "outputs": [
        {
          "output_type": "stream",
          "name": "stdout",
          "text": [
            "----------------------------\n",
            "workclass\n",
            "----------------------------\n",
            "                  Total  Percentage\n",
            "Private           22696    0.697030\n",
            "Self-emp-not-inc   2541    0.078038\n",
            "Local-gov          2093    0.064279\n",
            "?                  1836    0.056386\n",
            "State-gov          1298    0.039864\n",
            "Self-emp-inc       1116    0.034274\n",
            "Federal-gov         960    0.029483\n",
            "Without-pay          14    0.000430\n",
            "Never-worked          7    0.000215\n",
            "\n",
            "\n",
            "----------------------------\n",
            "education\n",
            "----------------------------\n",
            "              Total  Percentage\n",
            "HS-grad       10501    0.322502\n",
            "Some-college   7291    0.223918\n",
            "Bachelors      5355    0.164461\n",
            "Masters        1723    0.052916\n",
            "Assoc-voc      1382    0.042443\n",
            "11th           1175    0.036086\n",
            "Assoc-acdm     1067    0.032769\n",
            "10th            933    0.028654\n",
            "7th-8th         646    0.019840\n",
            "Prof-school     576    0.017690\n",
            "9th             514    0.015786\n",
            "12th            433    0.013298\n",
            "Doctorate       413    0.012684\n",
            "5th-6th         333    0.010227\n",
            "1st-4th         168    0.005160\n",
            "Preschool        51    0.001566\n",
            "\n",
            "\n",
            "----------------------------\n",
            "marital-status\n",
            "----------------------------\n",
            "                       Total  Percentage\n",
            "Married-civ-spouse     14976    0.459937\n",
            "Never-married          10683    0.328092\n",
            "Divorced                4443    0.136452\n",
            "Separated               1025    0.031479\n",
            "Widowed                  993    0.030497\n",
            "Married-spouse-absent    418    0.012837\n",
            "Married-AF-spouse         23    0.000706\n",
            "\n",
            "\n",
            "----------------------------\n",
            "occupation\n",
            "----------------------------\n",
            "                   Total  Percentage\n",
            "Prof-specialty      4140    0.127146\n",
            "Craft-repair        4099    0.125887\n",
            "Exec-managerial     4066    0.124873\n",
            "Adm-clerical        3770    0.115783\n",
            "Sales               3650    0.112097\n",
            "Other-service       3295    0.101195\n",
            "Machine-op-inspct   2002    0.061485\n",
            "?                   1843    0.056601\n",
            "Transport-moving    1597    0.049046\n",
            "Handlers-cleaners   1370    0.042075\n",
            "Farming-fishing      994    0.030527\n",
            "Tech-support         928    0.028500\n",
            "Protective-serv      649    0.019932\n",
            "Priv-house-serv      149    0.004576\n",
            "Armed-Forces           9    0.000276\n",
            "\n",
            "\n",
            "----------------------------\n",
            "relationship\n",
            "----------------------------\n",
            "                Total  Percentage\n",
            "Husband         13193    0.405178\n",
            "Not-in-family    8305    0.255060\n",
            "Own-child        5068    0.155646\n",
            "Unmarried        3446    0.105832\n",
            "Wife             1568    0.048156\n",
            "Other-relative    981    0.030128\n",
            "\n",
            "\n",
            "----------------------------\n",
            "race\n",
            "----------------------------\n",
            "                    Total  Percentage\n",
            "White               27816    0.854274\n",
            "Black                3124    0.095943\n",
            "Asian-Pac-Islander   1039    0.031909\n",
            "Amer-Indian-Eskimo    311    0.009551\n",
            "Other                 271    0.008323\n",
            "\n",
            "\n",
            "----------------------------\n",
            "sex\n",
            "----------------------------\n",
            "        Total  Percentage\n",
            "Male    21790    0.669205\n",
            "Female  10771    0.330795\n",
            "\n",
            "\n",
            "----------------------------\n",
            "native-country\n",
            "----------------------------\n",
            "                            Total  Percentage\n",
            "United-States               29170    0.895857\n",
            "Mexico                        643    0.019748\n",
            "?                             583    0.017905\n",
            "Philippines                   198    0.006081\n",
            "Germany                       137    0.004207\n",
            "Canada                        121    0.003716\n",
            "Puerto-Rico                   114    0.003501\n",
            "El-Salvador                   106    0.003255\n",
            "India                         100    0.003071\n",
            "Cuba                           95    0.002918\n",
            "England                        90    0.002764\n",
            "Jamaica                        81    0.002488\n",
            "South                          80    0.002457\n",
            "China                          75    0.002303\n",
            "Italy                          73    0.002242\n",
            "Dominican-Republic             70    0.002150\n",
            "Vietnam                        67    0.002058\n",
            "Guatemala                      64    0.001966\n",
            "Japan                          62    0.001904\n",
            "Poland                         60    0.001843\n",
            "Columbia                       59    0.001812\n",
            "Taiwan                         51    0.001566\n",
            "Haiti                          44    0.001351\n",
            "Iran                           43    0.001321\n",
            "Portugal                       37    0.001136\n",
            "Nicaragua                      34    0.001044\n",
            "Peru                           31    0.000952\n",
            "France                         29    0.000891\n",
            "Greece                         29    0.000891\n",
            "Ecuador                        28    0.000860\n",
            "Ireland                        24    0.000737\n",
            "Hong                           20    0.000614\n",
            "Cambodia                       19    0.000584\n",
            "Trinadad&Tobago                19    0.000584\n",
            "Laos                           18    0.000553\n",
            "Thailand                       18    0.000553\n",
            "Yugoslavia                     16    0.000491\n",
            "Outlying-US(Guam-USVI-etc)     14    0.000430\n",
            "Honduras                       13    0.000399\n",
            "Hungary                        13    0.000399\n",
            "Scotland                       12    0.000369\n",
            "Holand-Netherlands              1    0.000031\n",
            "\n",
            "\n",
            "----------------------------\n",
            "class\n",
            "----------------------------\n",
            "       Total  Percentage\n",
            "<=50K  24720     0.75919\n",
            ">50K    7841     0.24081\n",
            "\n",
            "\n"
          ]
        }
      ]
    },
    {
      "cell_type": "code",
      "source": [
        "data.columns"
      ],
      "metadata": {
        "colab": {
          "base_uri": "https://localhost:8080/"
        },
        "id": "cMRtLaQP2qsq",
        "outputId": "83f3f8b3-42c7-42ae-8ef6-f17bd4c71380"
      },
      "id": "cMRtLaQP2qsq",
      "execution_count": null,
      "outputs": [
        {
          "output_type": "execute_result",
          "data": {
            "text/plain": [
              "Index(['age', 'workclass', 'fnlwgt', 'education', 'education-num',\n",
              "       'marital-status', 'occupation', 'relationship', 'race', 'sex',\n",
              "       'capital-gain', 'capital-loss', 'hours-per-week', 'native-country',\n",
              "       'class'],\n",
              "      dtype='object')"
            ]
          },
          "metadata": {},
          "execution_count": 54
        }
      ]
    },
    {
      "cell_type": "code",
      "source": [
        "unclean_col = ['workclass', 'occupation', 'native-country']\n",
        "for col in unclean_col:\n",
        "    print(f\"? in {col} : {data[col].isin(['?']).sum()}\")"
      ],
      "metadata": {
        "colab": {
          "base_uri": "https://localhost:8080/"
        },
        "id": "hjrNOTRF2dpo",
        "outputId": "6c371c64-4567-40c2-c79a-144af42e317a"
      },
      "id": "hjrNOTRF2dpo",
      "execution_count": null,
      "outputs": [
        {
          "output_type": "stream",
          "name": "stdout",
          "text": [
            "? in workclass : 1836\n",
            "? in occupation : 1843\n",
            "? in native-country : 583\n"
          ]
        }
      ]
    },
    {
      "cell_type": "code",
      "source": [
        "unclean_col = ['workclass', 'occupation', 'native-country']\n",
        "for col in unclean_col:\n",
        "    data[col].replace('?', np.nan, inplace=True)"
      ],
      "metadata": {
        "id": "oP19Zgvo26KA"
      },
      "id": "oP19Zgvo26KA",
      "execution_count": null,
      "outputs": []
    },
    {
      "cell_type": "code",
      "execution_count": null,
      "id": "4d585b42",
      "metadata": {
        "colab": {
          "base_uri": "https://localhost:8080/"
        },
        "id": "4d585b42",
        "outputId": "437c2399-a546-4111-d444-0d0c029edb98"
      },
      "outputs": [
        {
          "output_type": "execute_result",
          "data": {
            "text/plain": [
              "age                  0\n",
              "workclass         1836\n",
              "fnlwgt               0\n",
              "education            0\n",
              "education-num        0\n",
              "marital-status       0\n",
              "occupation        1843\n",
              "relationship         0\n",
              "race                 0\n",
              "sex                  0\n",
              "capital-gain         0\n",
              "capital-loss         0\n",
              "hours-per-week       0\n",
              "native-country     583\n",
              "class                0\n",
              "dtype: int64"
            ]
          },
          "metadata": {},
          "execution_count": 58
        }
      ],
      "source": [
        "data.isnull().sum()"
      ]
    },
    {
      "cell_type": "markdown",
      "source": [
        "### Applying SimpleImputer to update missing value with most frequent"
      ],
      "metadata": {
        "id": "Sn9QfEqG5cjE"
      },
      "id": "Sn9QfEqG5cjE"
    },
    {
      "cell_type": "code",
      "source": [
        "from sklearn.impute import SimpleImputer"
      ],
      "metadata": {
        "id": "Utv29w3_3PUl"
      },
      "id": "Utv29w3_3PUl",
      "execution_count": null,
      "outputs": []
    },
    {
      "cell_type": "code",
      "source": [
        "imp_most = SimpleImputer(missing_values=np.nan, strategy='most_frequent')\n",
        "for i in unclean_col:\n",
        "  imp_most.fit_transform(data[i].values.reshape(-1,1))"
      ],
      "metadata": {
        "id": "oT9pXVdU3npP"
      },
      "id": "oT9pXVdU3npP",
      "execution_count": null,
      "outputs": []
    },
    {
      "cell_type": "markdown",
      "source": [
        "### Checking Duplicates"
      ],
      "metadata": {
        "id": "HAyxrwAY5ioN"
      },
      "id": "HAyxrwAY5ioN"
    },
    {
      "cell_type": "code",
      "source": [
        "data.duplicated().sum()"
      ],
      "metadata": {
        "colab": {
          "base_uri": "https://localhost:8080/"
        },
        "id": "pBWR46HM5kaU",
        "outputId": "773f02cc-b19d-4fd8-e269-aaa33a1b6daa"
      },
      "id": "pBWR46HM5kaU",
      "execution_count": null,
      "outputs": [
        {
          "output_type": "execute_result",
          "data": {
            "text/plain": [
              "24"
            ]
          },
          "metadata": {},
          "execution_count": 68
        }
      ]
    },
    {
      "cell_type": "code",
      "source": [
        "data.drop_duplicates(keep='first', inplace = True)"
      ],
      "metadata": {
        "id": "OHc1dSyy5pmU"
      },
      "id": "OHc1dSyy5pmU",
      "execution_count": null,
      "outputs": []
    },
    {
      "cell_type": "code",
      "source": [
        "data.reset_index()"
      ],
      "metadata": {
        "colab": {
          "base_uri": "https://localhost:8080/",
          "height": 800
        },
        "id": "ICFXMhgt52O1",
        "outputId": "681e7a76-1cf7-41f9-f0f2-cb8b20d400fa"
      },
      "id": "ICFXMhgt52O1",
      "execution_count": null,
      "outputs": [
        {
          "output_type": "execute_result",
          "data": {
            "text/plain": [
              "       index  age         workclass  fnlwgt   education  education-num  \\\n",
              "0          0   39         State-gov   77516   Bachelors             13   \n",
              "1          1   50  Self-emp-not-inc   83311   Bachelors             13   \n",
              "2          2   38           Private  215646     HS-grad              9   \n",
              "3          3   53           Private  234721        11th              7   \n",
              "4          4   28           Private  338409   Bachelors             13   \n",
              "...      ...  ...               ...     ...         ...            ...   \n",
              "32532  32556   27           Private  257302  Assoc-acdm             12   \n",
              "32533  32557   40           Private  154374     HS-grad              9   \n",
              "32534  32558   58           Private  151910     HS-grad              9   \n",
              "32535  32559   22           Private  201490     HS-grad              9   \n",
              "32536  32560   52      Self-emp-inc  287927     HS-grad              9   \n",
              "\n",
              "           marital-status         occupation   relationship   race     sex  \\\n",
              "0           Never-married       Adm-clerical  Not-in-family  White    Male   \n",
              "1      Married-civ-spouse    Exec-managerial        Husband  White    Male   \n",
              "2                Divorced  Handlers-cleaners  Not-in-family  White    Male   \n",
              "3      Married-civ-spouse  Handlers-cleaners        Husband  Black    Male   \n",
              "4      Married-civ-spouse     Prof-specialty           Wife  Black  Female   \n",
              "...                   ...                ...            ...    ...     ...   \n",
              "32532  Married-civ-spouse       Tech-support           Wife  White  Female   \n",
              "32533  Married-civ-spouse  Machine-op-inspct        Husband  White    Male   \n",
              "32534             Widowed       Adm-clerical      Unmarried  White  Female   \n",
              "32535       Never-married       Adm-clerical      Own-child  White    Male   \n",
              "32536  Married-civ-spouse    Exec-managerial           Wife  White  Female   \n",
              "\n",
              "       capital-gain  capital-loss  hours-per-week native-country  class  \n",
              "0              2174             0              40  United-States  <=50K  \n",
              "1                 0             0              13  United-States  <=50K  \n",
              "2                 0             0              40  United-States  <=50K  \n",
              "3                 0             0              40  United-States  <=50K  \n",
              "4                 0             0              40           Cuba  <=50K  \n",
              "...             ...           ...             ...            ...    ...  \n",
              "32532             0             0              38  United-States  <=50K  \n",
              "32533             0             0              40  United-States   >50K  \n",
              "32534             0             0              40  United-States  <=50K  \n",
              "32535             0             0              20  United-States  <=50K  \n",
              "32536         15024             0              40  United-States   >50K  \n",
              "\n",
              "[32537 rows x 16 columns]"
            ],
            "text/html": [
              "\n",
              "  <div id=\"df-4473ad4a-930d-49a6-9673-ebbc4ca7e2aa\">\n",
              "    <div class=\"colab-df-container\">\n",
              "      <div>\n",
              "<style scoped>\n",
              "    .dataframe tbody tr th:only-of-type {\n",
              "        vertical-align: middle;\n",
              "    }\n",
              "\n",
              "    .dataframe tbody tr th {\n",
              "        vertical-align: top;\n",
              "    }\n",
              "\n",
              "    .dataframe thead th {\n",
              "        text-align: right;\n",
              "    }\n",
              "</style>\n",
              "<table border=\"1\" class=\"dataframe\">\n",
              "  <thead>\n",
              "    <tr style=\"text-align: right;\">\n",
              "      <th></th>\n",
              "      <th>index</th>\n",
              "      <th>age</th>\n",
              "      <th>workclass</th>\n",
              "      <th>fnlwgt</th>\n",
              "      <th>education</th>\n",
              "      <th>education-num</th>\n",
              "      <th>marital-status</th>\n",
              "      <th>occupation</th>\n",
              "      <th>relationship</th>\n",
              "      <th>race</th>\n",
              "      <th>sex</th>\n",
              "      <th>capital-gain</th>\n",
              "      <th>capital-loss</th>\n",
              "      <th>hours-per-week</th>\n",
              "      <th>native-country</th>\n",
              "      <th>class</th>\n",
              "    </tr>\n",
              "  </thead>\n",
              "  <tbody>\n",
              "    <tr>\n",
              "      <th>0</th>\n",
              "      <td>0</td>\n",
              "      <td>39</td>\n",
              "      <td>State-gov</td>\n",
              "      <td>77516</td>\n",
              "      <td>Bachelors</td>\n",
              "      <td>13</td>\n",
              "      <td>Never-married</td>\n",
              "      <td>Adm-clerical</td>\n",
              "      <td>Not-in-family</td>\n",
              "      <td>White</td>\n",
              "      <td>Male</td>\n",
              "      <td>2174</td>\n",
              "      <td>0</td>\n",
              "      <td>40</td>\n",
              "      <td>United-States</td>\n",
              "      <td>&lt;=50K</td>\n",
              "    </tr>\n",
              "    <tr>\n",
              "      <th>1</th>\n",
              "      <td>1</td>\n",
              "      <td>50</td>\n",
              "      <td>Self-emp-not-inc</td>\n",
              "      <td>83311</td>\n",
              "      <td>Bachelors</td>\n",
              "      <td>13</td>\n",
              "      <td>Married-civ-spouse</td>\n",
              "      <td>Exec-managerial</td>\n",
              "      <td>Husband</td>\n",
              "      <td>White</td>\n",
              "      <td>Male</td>\n",
              "      <td>0</td>\n",
              "      <td>0</td>\n",
              "      <td>13</td>\n",
              "      <td>United-States</td>\n",
              "      <td>&lt;=50K</td>\n",
              "    </tr>\n",
              "    <tr>\n",
              "      <th>2</th>\n",
              "      <td>2</td>\n",
              "      <td>38</td>\n",
              "      <td>Private</td>\n",
              "      <td>215646</td>\n",
              "      <td>HS-grad</td>\n",
              "      <td>9</td>\n",
              "      <td>Divorced</td>\n",
              "      <td>Handlers-cleaners</td>\n",
              "      <td>Not-in-family</td>\n",
              "      <td>White</td>\n",
              "      <td>Male</td>\n",
              "      <td>0</td>\n",
              "      <td>0</td>\n",
              "      <td>40</td>\n",
              "      <td>United-States</td>\n",
              "      <td>&lt;=50K</td>\n",
              "    </tr>\n",
              "    <tr>\n",
              "      <th>3</th>\n",
              "      <td>3</td>\n",
              "      <td>53</td>\n",
              "      <td>Private</td>\n",
              "      <td>234721</td>\n",
              "      <td>11th</td>\n",
              "      <td>7</td>\n",
              "      <td>Married-civ-spouse</td>\n",
              "      <td>Handlers-cleaners</td>\n",
              "      <td>Husband</td>\n",
              "      <td>Black</td>\n",
              "      <td>Male</td>\n",
              "      <td>0</td>\n",
              "      <td>0</td>\n",
              "      <td>40</td>\n",
              "      <td>United-States</td>\n",
              "      <td>&lt;=50K</td>\n",
              "    </tr>\n",
              "    <tr>\n",
              "      <th>4</th>\n",
              "      <td>4</td>\n",
              "      <td>28</td>\n",
              "      <td>Private</td>\n",
              "      <td>338409</td>\n",
              "      <td>Bachelors</td>\n",
              "      <td>13</td>\n",
              "      <td>Married-civ-spouse</td>\n",
              "      <td>Prof-specialty</td>\n",
              "      <td>Wife</td>\n",
              "      <td>Black</td>\n",
              "      <td>Female</td>\n",
              "      <td>0</td>\n",
              "      <td>0</td>\n",
              "      <td>40</td>\n",
              "      <td>Cuba</td>\n",
              "      <td>&lt;=50K</td>\n",
              "    </tr>\n",
              "    <tr>\n",
              "      <th>...</th>\n",
              "      <td>...</td>\n",
              "      <td>...</td>\n",
              "      <td>...</td>\n",
              "      <td>...</td>\n",
              "      <td>...</td>\n",
              "      <td>...</td>\n",
              "      <td>...</td>\n",
              "      <td>...</td>\n",
              "      <td>...</td>\n",
              "      <td>...</td>\n",
              "      <td>...</td>\n",
              "      <td>...</td>\n",
              "      <td>...</td>\n",
              "      <td>...</td>\n",
              "      <td>...</td>\n",
              "      <td>...</td>\n",
              "    </tr>\n",
              "    <tr>\n",
              "      <th>32532</th>\n",
              "      <td>32556</td>\n",
              "      <td>27</td>\n",
              "      <td>Private</td>\n",
              "      <td>257302</td>\n",
              "      <td>Assoc-acdm</td>\n",
              "      <td>12</td>\n",
              "      <td>Married-civ-spouse</td>\n",
              "      <td>Tech-support</td>\n",
              "      <td>Wife</td>\n",
              "      <td>White</td>\n",
              "      <td>Female</td>\n",
              "      <td>0</td>\n",
              "      <td>0</td>\n",
              "      <td>38</td>\n",
              "      <td>United-States</td>\n",
              "      <td>&lt;=50K</td>\n",
              "    </tr>\n",
              "    <tr>\n",
              "      <th>32533</th>\n",
              "      <td>32557</td>\n",
              "      <td>40</td>\n",
              "      <td>Private</td>\n",
              "      <td>154374</td>\n",
              "      <td>HS-grad</td>\n",
              "      <td>9</td>\n",
              "      <td>Married-civ-spouse</td>\n",
              "      <td>Machine-op-inspct</td>\n",
              "      <td>Husband</td>\n",
              "      <td>White</td>\n",
              "      <td>Male</td>\n",
              "      <td>0</td>\n",
              "      <td>0</td>\n",
              "      <td>40</td>\n",
              "      <td>United-States</td>\n",
              "      <td>&gt;50K</td>\n",
              "    </tr>\n",
              "    <tr>\n",
              "      <th>32534</th>\n",
              "      <td>32558</td>\n",
              "      <td>58</td>\n",
              "      <td>Private</td>\n",
              "      <td>151910</td>\n",
              "      <td>HS-grad</td>\n",
              "      <td>9</td>\n",
              "      <td>Widowed</td>\n",
              "      <td>Adm-clerical</td>\n",
              "      <td>Unmarried</td>\n",
              "      <td>White</td>\n",
              "      <td>Female</td>\n",
              "      <td>0</td>\n",
              "      <td>0</td>\n",
              "      <td>40</td>\n",
              "      <td>United-States</td>\n",
              "      <td>&lt;=50K</td>\n",
              "    </tr>\n",
              "    <tr>\n",
              "      <th>32535</th>\n",
              "      <td>32559</td>\n",
              "      <td>22</td>\n",
              "      <td>Private</td>\n",
              "      <td>201490</td>\n",
              "      <td>HS-grad</td>\n",
              "      <td>9</td>\n",
              "      <td>Never-married</td>\n",
              "      <td>Adm-clerical</td>\n",
              "      <td>Own-child</td>\n",
              "      <td>White</td>\n",
              "      <td>Male</td>\n",
              "      <td>0</td>\n",
              "      <td>0</td>\n",
              "      <td>20</td>\n",
              "      <td>United-States</td>\n",
              "      <td>&lt;=50K</td>\n",
              "    </tr>\n",
              "    <tr>\n",
              "      <th>32536</th>\n",
              "      <td>32560</td>\n",
              "      <td>52</td>\n",
              "      <td>Self-emp-inc</td>\n",
              "      <td>287927</td>\n",
              "      <td>HS-grad</td>\n",
              "      <td>9</td>\n",
              "      <td>Married-civ-spouse</td>\n",
              "      <td>Exec-managerial</td>\n",
              "      <td>Wife</td>\n",
              "      <td>White</td>\n",
              "      <td>Female</td>\n",
              "      <td>15024</td>\n",
              "      <td>0</td>\n",
              "      <td>40</td>\n",
              "      <td>United-States</td>\n",
              "      <td>&gt;50K</td>\n",
              "    </tr>\n",
              "  </tbody>\n",
              "</table>\n",
              "<p>32537 rows × 16 columns</p>\n",
              "</div>\n",
              "      <button class=\"colab-df-convert\" onclick=\"convertToInteractive('df-4473ad4a-930d-49a6-9673-ebbc4ca7e2aa')\"\n",
              "              title=\"Convert this dataframe to an interactive table.\"\n",
              "              style=\"display:none;\">\n",
              "        \n",
              "  <svg xmlns=\"http://www.w3.org/2000/svg\" height=\"24px\"viewBox=\"0 0 24 24\"\n",
              "       width=\"24px\">\n",
              "    <path d=\"M0 0h24v24H0V0z\" fill=\"none\"/>\n",
              "    <path d=\"M18.56 5.44l.94 2.06.94-2.06 2.06-.94-2.06-.94-.94-2.06-.94 2.06-2.06.94zm-11 1L8.5 8.5l.94-2.06 2.06-.94-2.06-.94L8.5 2.5l-.94 2.06-2.06.94zm10 10l.94 2.06.94-2.06 2.06-.94-2.06-.94-.94-2.06-.94 2.06-2.06.94z\"/><path d=\"M17.41 7.96l-1.37-1.37c-.4-.4-.92-.59-1.43-.59-.52 0-1.04.2-1.43.59L10.3 9.45l-7.72 7.72c-.78.78-.78 2.05 0 2.83L4 21.41c.39.39.9.59 1.41.59.51 0 1.02-.2 1.41-.59l7.78-7.78 2.81-2.81c.8-.78.8-2.07 0-2.86zM5.41 20L4 18.59l7.72-7.72 1.47 1.35L5.41 20z\"/>\n",
              "  </svg>\n",
              "      </button>\n",
              "      \n",
              "  <style>\n",
              "    .colab-df-container {\n",
              "      display:flex;\n",
              "      flex-wrap:wrap;\n",
              "      gap: 12px;\n",
              "    }\n",
              "\n",
              "    .colab-df-convert {\n",
              "      background-color: #E8F0FE;\n",
              "      border: none;\n",
              "      border-radius: 50%;\n",
              "      cursor: pointer;\n",
              "      display: none;\n",
              "      fill: #1967D2;\n",
              "      height: 32px;\n",
              "      padding: 0 0 0 0;\n",
              "      width: 32px;\n",
              "    }\n",
              "\n",
              "    .colab-df-convert:hover {\n",
              "      background-color: #E2EBFA;\n",
              "      box-shadow: 0px 1px 2px rgba(60, 64, 67, 0.3), 0px 1px 3px 1px rgba(60, 64, 67, 0.15);\n",
              "      fill: #174EA6;\n",
              "    }\n",
              "\n",
              "    [theme=dark] .colab-df-convert {\n",
              "      background-color: #3B4455;\n",
              "      fill: #D2E3FC;\n",
              "    }\n",
              "\n",
              "    [theme=dark] .colab-df-convert:hover {\n",
              "      background-color: #434B5C;\n",
              "      box-shadow: 0px 1px 3px 1px rgba(0, 0, 0, 0.15);\n",
              "      filter: drop-shadow(0px 1px 2px rgba(0, 0, 0, 0.3));\n",
              "      fill: #FFFFFF;\n",
              "    }\n",
              "  </style>\n",
              "\n",
              "      <script>\n",
              "        const buttonEl =\n",
              "          document.querySelector('#df-4473ad4a-930d-49a6-9673-ebbc4ca7e2aa button.colab-df-convert');\n",
              "        buttonEl.style.display =\n",
              "          google.colab.kernel.accessAllowed ? 'block' : 'none';\n",
              "\n",
              "        async function convertToInteractive(key) {\n",
              "          const element = document.querySelector('#df-4473ad4a-930d-49a6-9673-ebbc4ca7e2aa');\n",
              "          const dataTable =\n",
              "            await google.colab.kernel.invokeFunction('convertToInteractive',\n",
              "                                                     [key], {});\n",
              "          if (!dataTable) return;\n",
              "\n",
              "          const docLinkHtml = 'Like what you see? Visit the ' +\n",
              "            '<a target=\"_blank\" href=https://colab.research.google.com/notebooks/data_table.ipynb>data table notebook</a>'\n",
              "            + ' to learn more about interactive tables.';\n",
              "          element.innerHTML = '';\n",
              "          dataTable['output_type'] = 'display_data';\n",
              "          await google.colab.output.renderOutput(dataTable, element);\n",
              "          const docLink = document.createElement('div');\n",
              "          docLink.innerHTML = docLinkHtml;\n",
              "          element.appendChild(docLink);\n",
              "        }\n",
              "      </script>\n",
              "    </div>\n",
              "  </div>\n",
              "  "
            ]
          },
          "metadata": {},
          "execution_count": 71
        }
      ]
    },
    {
      "cell_type": "code",
      "source": [
        "data.duplicated().sum()"
      ],
      "metadata": {
        "colab": {
          "base_uri": "https://localhost:8080/"
        },
        "id": "3CfGfdvA6CGH",
        "outputId": "c6527a1a-edb9-4a93-9335-22785b40115f"
      },
      "id": "3CfGfdvA6CGH",
      "execution_count": null,
      "outputs": [
        {
          "output_type": "execute_result",
          "data": {
            "text/plain": [
              "0"
            ]
          },
          "metadata": {},
          "execution_count": 72
        }
      ]
    },
    {
      "cell_type": "code",
      "execution_count": null,
      "id": "dbc29027",
      "metadata": {
        "colab": {
          "base_uri": "https://localhost:8080/",
          "height": 237
        },
        "id": "dbc29027",
        "outputId": "a5f487ee-d8a4-4c8d-9ad9-5259f37e3823"
      },
      "outputs": [
        {
          "output_type": "execute_result",
          "data": {
            "text/plain": [
              "                  count           mean            std      min       25%  \\\n",
              "age             32537.0      38.585549      13.637984     17.0      28.0   \n",
              "fnlwgt          32537.0  189780.848511  105556.471009  12285.0  117827.0   \n",
              "education-num   32537.0      10.081815       2.571633      1.0       9.0   \n",
              "capital-gain    32537.0    1078.443741    7387.957424      0.0       0.0   \n",
              "capital-loss    32537.0      87.368227     403.101833      0.0       0.0   \n",
              "hours-per-week  32537.0      40.440329      12.346889      1.0      40.0   \n",
              "\n",
              "                     50%       75%        max  \n",
              "age                 37.0      48.0       90.0  \n",
              "fnlwgt          178356.0  236993.0  1484705.0  \n",
              "education-num       10.0      12.0       16.0  \n",
              "capital-gain         0.0       0.0    99999.0  \n",
              "capital-loss         0.0       0.0     4356.0  \n",
              "hours-per-week      40.0      45.0       99.0  "
            ],
            "text/html": [
              "\n",
              "  <div id=\"df-47e6d26d-c29b-4d2c-9924-894432b5c2eb\">\n",
              "    <div class=\"colab-df-container\">\n",
              "      <div>\n",
              "<style scoped>\n",
              "    .dataframe tbody tr th:only-of-type {\n",
              "        vertical-align: middle;\n",
              "    }\n",
              "\n",
              "    .dataframe tbody tr th {\n",
              "        vertical-align: top;\n",
              "    }\n",
              "\n",
              "    .dataframe thead th {\n",
              "        text-align: right;\n",
              "    }\n",
              "</style>\n",
              "<table border=\"1\" class=\"dataframe\">\n",
              "  <thead>\n",
              "    <tr style=\"text-align: right;\">\n",
              "      <th></th>\n",
              "      <th>count</th>\n",
              "      <th>mean</th>\n",
              "      <th>std</th>\n",
              "      <th>min</th>\n",
              "      <th>25%</th>\n",
              "      <th>50%</th>\n",
              "      <th>75%</th>\n",
              "      <th>max</th>\n",
              "    </tr>\n",
              "  </thead>\n",
              "  <tbody>\n",
              "    <tr>\n",
              "      <th>age</th>\n",
              "      <td>32537.0</td>\n",
              "      <td>38.585549</td>\n",
              "      <td>13.637984</td>\n",
              "      <td>17.0</td>\n",
              "      <td>28.0</td>\n",
              "      <td>37.0</td>\n",
              "      <td>48.0</td>\n",
              "      <td>90.0</td>\n",
              "    </tr>\n",
              "    <tr>\n",
              "      <th>fnlwgt</th>\n",
              "      <td>32537.0</td>\n",
              "      <td>189780.848511</td>\n",
              "      <td>105556.471009</td>\n",
              "      <td>12285.0</td>\n",
              "      <td>117827.0</td>\n",
              "      <td>178356.0</td>\n",
              "      <td>236993.0</td>\n",
              "      <td>1484705.0</td>\n",
              "    </tr>\n",
              "    <tr>\n",
              "      <th>education-num</th>\n",
              "      <td>32537.0</td>\n",
              "      <td>10.081815</td>\n",
              "      <td>2.571633</td>\n",
              "      <td>1.0</td>\n",
              "      <td>9.0</td>\n",
              "      <td>10.0</td>\n",
              "      <td>12.0</td>\n",
              "      <td>16.0</td>\n",
              "    </tr>\n",
              "    <tr>\n",
              "      <th>capital-gain</th>\n",
              "      <td>32537.0</td>\n",
              "      <td>1078.443741</td>\n",
              "      <td>7387.957424</td>\n",
              "      <td>0.0</td>\n",
              "      <td>0.0</td>\n",
              "      <td>0.0</td>\n",
              "      <td>0.0</td>\n",
              "      <td>99999.0</td>\n",
              "    </tr>\n",
              "    <tr>\n",
              "      <th>capital-loss</th>\n",
              "      <td>32537.0</td>\n",
              "      <td>87.368227</td>\n",
              "      <td>403.101833</td>\n",
              "      <td>0.0</td>\n",
              "      <td>0.0</td>\n",
              "      <td>0.0</td>\n",
              "      <td>0.0</td>\n",
              "      <td>4356.0</td>\n",
              "    </tr>\n",
              "    <tr>\n",
              "      <th>hours-per-week</th>\n",
              "      <td>32537.0</td>\n",
              "      <td>40.440329</td>\n",
              "      <td>12.346889</td>\n",
              "      <td>1.0</td>\n",
              "      <td>40.0</td>\n",
              "      <td>40.0</td>\n",
              "      <td>45.0</td>\n",
              "      <td>99.0</td>\n",
              "    </tr>\n",
              "  </tbody>\n",
              "</table>\n",
              "</div>\n",
              "      <button class=\"colab-df-convert\" onclick=\"convertToInteractive('df-47e6d26d-c29b-4d2c-9924-894432b5c2eb')\"\n",
              "              title=\"Convert this dataframe to an interactive table.\"\n",
              "              style=\"display:none;\">\n",
              "        \n",
              "  <svg xmlns=\"http://www.w3.org/2000/svg\" height=\"24px\"viewBox=\"0 0 24 24\"\n",
              "       width=\"24px\">\n",
              "    <path d=\"M0 0h24v24H0V0z\" fill=\"none\"/>\n",
              "    <path d=\"M18.56 5.44l.94 2.06.94-2.06 2.06-.94-2.06-.94-.94-2.06-.94 2.06-2.06.94zm-11 1L8.5 8.5l.94-2.06 2.06-.94-2.06-.94L8.5 2.5l-.94 2.06-2.06.94zm10 10l.94 2.06.94-2.06 2.06-.94-2.06-.94-.94-2.06-.94 2.06-2.06.94z\"/><path d=\"M17.41 7.96l-1.37-1.37c-.4-.4-.92-.59-1.43-.59-.52 0-1.04.2-1.43.59L10.3 9.45l-7.72 7.72c-.78.78-.78 2.05 0 2.83L4 21.41c.39.39.9.59 1.41.59.51 0 1.02-.2 1.41-.59l7.78-7.78 2.81-2.81c.8-.78.8-2.07 0-2.86zM5.41 20L4 18.59l7.72-7.72 1.47 1.35L5.41 20z\"/>\n",
              "  </svg>\n",
              "      </button>\n",
              "      \n",
              "  <style>\n",
              "    .colab-df-container {\n",
              "      display:flex;\n",
              "      flex-wrap:wrap;\n",
              "      gap: 12px;\n",
              "    }\n",
              "\n",
              "    .colab-df-convert {\n",
              "      background-color: #E8F0FE;\n",
              "      border: none;\n",
              "      border-radius: 50%;\n",
              "      cursor: pointer;\n",
              "      display: none;\n",
              "      fill: #1967D2;\n",
              "      height: 32px;\n",
              "      padding: 0 0 0 0;\n",
              "      width: 32px;\n",
              "    }\n",
              "\n",
              "    .colab-df-convert:hover {\n",
              "      background-color: #E2EBFA;\n",
              "      box-shadow: 0px 1px 2px rgba(60, 64, 67, 0.3), 0px 1px 3px 1px rgba(60, 64, 67, 0.15);\n",
              "      fill: #174EA6;\n",
              "    }\n",
              "\n",
              "    [theme=dark] .colab-df-convert {\n",
              "      background-color: #3B4455;\n",
              "      fill: #D2E3FC;\n",
              "    }\n",
              "\n",
              "    [theme=dark] .colab-df-convert:hover {\n",
              "      background-color: #434B5C;\n",
              "      box-shadow: 0px 1px 3px 1px rgba(0, 0, 0, 0.15);\n",
              "      filter: drop-shadow(0px 1px 2px rgba(0, 0, 0, 0.3));\n",
              "      fill: #FFFFFF;\n",
              "    }\n",
              "  </style>\n",
              "\n",
              "      <script>\n",
              "        const buttonEl =\n",
              "          document.querySelector('#df-47e6d26d-c29b-4d2c-9924-894432b5c2eb button.colab-df-convert');\n",
              "        buttonEl.style.display =\n",
              "          google.colab.kernel.accessAllowed ? 'block' : 'none';\n",
              "\n",
              "        async function convertToInteractive(key) {\n",
              "          const element = document.querySelector('#df-47e6d26d-c29b-4d2c-9924-894432b5c2eb');\n",
              "          const dataTable =\n",
              "            await google.colab.kernel.invokeFunction('convertToInteractive',\n",
              "                                                     [key], {});\n",
              "          if (!dataTable) return;\n",
              "\n",
              "          const docLinkHtml = 'Like what you see? Visit the ' +\n",
              "            '<a target=\"_blank\" href=https://colab.research.google.com/notebooks/data_table.ipynb>data table notebook</a>'\n",
              "            + ' to learn more about interactive tables.';\n",
              "          element.innerHTML = '';\n",
              "          dataTable['output_type'] = 'display_data';\n",
              "          await google.colab.output.renderOutput(dataTable, element);\n",
              "          const docLink = document.createElement('div');\n",
              "          docLink.innerHTML = docLinkHtml;\n",
              "          element.appendChild(docLink);\n",
              "        }\n",
              "      </script>\n",
              "    </div>\n",
              "  </div>\n",
              "  "
            ]
          },
          "metadata": {},
          "execution_count": 73
        }
      ],
      "source": [
        "data.describe().T"
      ]
    },
    {
      "cell_type": "markdown",
      "source": [
        "### Encoding Target variable with 0 and 1"
      ],
      "metadata": {
        "id": "WTg2yWTpx9B7"
      },
      "id": "WTg2yWTpx9B7"
    },
    {
      "cell_type": "code",
      "execution_count": null,
      "id": "945e132e",
      "metadata": {
        "colab": {
          "base_uri": "https://localhost:8080/"
        },
        "id": "945e132e",
        "outputId": "802373e2-f142-4bf8-e4f4-c9fcc0344e3e"
      },
      "outputs": [
        {
          "output_type": "execute_result",
          "data": {
            "text/plain": [
              "<=50K    24698\n",
              ">50K      7839\n",
              "Name: class, dtype: int64"
            ]
          },
          "metadata": {},
          "execution_count": 77
        }
      ],
      "source": [
        "data['class'].value_counts()"
      ]
    },
    {
      "cell_type": "code",
      "execution_count": null,
      "id": "cb2f3015",
      "metadata": {
        "id": "cb2f3015"
      },
      "outputs": [],
      "source": [
        "data['class'] = data['class'].map({'<=50K' : 0, '>50K' : 1})"
      ]
    },
    {
      "cell_type": "code",
      "source": [
        "data['class'] = data['class'].astype('int')"
      ],
      "metadata": {
        "id": "NOK9gS1g6T1M"
      },
      "id": "NOK9gS1g6T1M",
      "execution_count": null,
      "outputs": []
    },
    {
      "cell_type": "code",
      "source": [
        "categorical_features = [col for col in data.columns if data[col].dtype == 'O']\n",
        "numerical_featues = [col for col in data.columns if data[col].dtype != 'O']"
      ],
      "metadata": {
        "id": "yk0tnr1l6szY"
      },
      "id": "yk0tnr1l6szY",
      "execution_count": null,
      "outputs": []
    },
    {
      "cell_type": "code",
      "source": [
        "data.dtypes"
      ],
      "metadata": {
        "colab": {
          "base_uri": "https://localhost:8080/"
        },
        "id": "j3Je004G6tCr",
        "outputId": "47ad9a44-7916-4c48-fcff-7916e068d024"
      },
      "id": "j3Je004G6tCr",
      "execution_count": null,
      "outputs": [
        {
          "output_type": "execute_result",
          "data": {
            "text/plain": [
              "age                int64\n",
              "workclass         object\n",
              "fnlwgt             int64\n",
              "education         object\n",
              "education-num      int64\n",
              "marital-status    object\n",
              "occupation        object\n",
              "relationship      object\n",
              "race              object\n",
              "sex               object\n",
              "capital-gain       int64\n",
              "capital-loss       int64\n",
              "hours-per-week     int64\n",
              "native-country    object\n",
              "class              int64\n",
              "dtype: object"
            ]
          },
          "metadata": {},
          "execution_count": 84
        }
      ]
    },
    {
      "cell_type": "markdown",
      "id": "278b549f",
      "metadata": {
        "id": "278b549f"
      },
      "source": [
        "### Apply Onehot encoding"
      ]
    },
    {
      "cell_type": "code",
      "execution_count": null,
      "id": "ed733e65",
      "metadata": {
        "id": "ed733e65"
      },
      "outputs": [],
      "source": [
        "data = pd.get_dummies(data=data, columns=categorical_features, drop_first=False)"
      ]
    },
    {
      "cell_type": "code",
      "execution_count": null,
      "id": "77236c2f",
      "metadata": {
        "colab": {
          "base_uri": "https://localhost:8080/"
        },
        "id": "77236c2f",
        "outputId": "01b9e9ad-9af9-458e-9b82-79b8cb3eae29"
      },
      "outputs": [
        {
          "output_type": "execute_result",
          "data": {
            "text/plain": [
              "(32537, 106)"
            ]
          },
          "metadata": {},
          "execution_count": 89
        }
      ],
      "source": [
        "data.shape"
      ]
    },
    {
      "cell_type": "code",
      "source": [
        "data.head()"
      ],
      "metadata": {
        "colab": {
          "base_uri": "https://localhost:8080/",
          "height": 334
        },
        "id": "JW50HDVPzNv5",
        "outputId": "72760a6d-28a6-4069-c953-8715741a9d70"
      },
      "id": "JW50HDVPzNv5",
      "execution_count": null,
      "outputs": [
        {
          "output_type": "execute_result",
          "data": {
            "text/plain": [
              "   age  fnlwgt  education-num  capital-gain  capital-loss  hours-per-week  \\\n",
              "0   39   77516             13          2174             0              40   \n",
              "1   50   83311             13             0             0              13   \n",
              "2   38  215646              9             0             0              40   \n",
              "3   53  234721              7             0             0              40   \n",
              "4   28  338409             13             0             0              40   \n",
              "\n",
              "   class  workclass_Federal-gov  workclass_Local-gov  workclass_Never-worked  \\\n",
              "0      0                      0                    0                       0   \n",
              "1      0                      0                    0                       0   \n",
              "2      0                      0                    0                       0   \n",
              "3      0                      0                    0                       0   \n",
              "4      0                      0                    0                       0   \n",
              "\n",
              "   ...  native-country_Portugal  native-country_Puerto-Rico  \\\n",
              "0  ...                        0                           0   \n",
              "1  ...                        0                           0   \n",
              "2  ...                        0                           0   \n",
              "3  ...                        0                           0   \n",
              "4  ...                        0                           0   \n",
              "\n",
              "   native-country_Scotland  native-country_South  native-country_Taiwan  \\\n",
              "0                        0                     0                      0   \n",
              "1                        0                     0                      0   \n",
              "2                        0                     0                      0   \n",
              "3                        0                     0                      0   \n",
              "4                        0                     0                      0   \n",
              "\n",
              "   native-country_Thailand  native-country_Trinadad&Tobago  \\\n",
              "0                        0                               0   \n",
              "1                        0                               0   \n",
              "2                        0                               0   \n",
              "3                        0                               0   \n",
              "4                        0                               0   \n",
              "\n",
              "   native-country_United-States  native-country_Vietnam  \\\n",
              "0                             1                       0   \n",
              "1                             1                       0   \n",
              "2                             1                       0   \n",
              "3                             1                       0   \n",
              "4                             0                       0   \n",
              "\n",
              "   native-country_Yugoslavia  \n",
              "0                          0  \n",
              "1                          0  \n",
              "2                          0  \n",
              "3                          0  \n",
              "4                          0  \n",
              "\n",
              "[5 rows x 106 columns]"
            ],
            "text/html": [
              "\n",
              "  <div id=\"df-94cf5922-0de4-4851-8fc0-660df592b5b6\">\n",
              "    <div class=\"colab-df-container\">\n",
              "      <div>\n",
              "<style scoped>\n",
              "    .dataframe tbody tr th:only-of-type {\n",
              "        vertical-align: middle;\n",
              "    }\n",
              "\n",
              "    .dataframe tbody tr th {\n",
              "        vertical-align: top;\n",
              "    }\n",
              "\n",
              "    .dataframe thead th {\n",
              "        text-align: right;\n",
              "    }\n",
              "</style>\n",
              "<table border=\"1\" class=\"dataframe\">\n",
              "  <thead>\n",
              "    <tr style=\"text-align: right;\">\n",
              "      <th></th>\n",
              "      <th>age</th>\n",
              "      <th>fnlwgt</th>\n",
              "      <th>education-num</th>\n",
              "      <th>capital-gain</th>\n",
              "      <th>capital-loss</th>\n",
              "      <th>hours-per-week</th>\n",
              "      <th>class</th>\n",
              "      <th>workclass_Federal-gov</th>\n",
              "      <th>workclass_Local-gov</th>\n",
              "      <th>workclass_Never-worked</th>\n",
              "      <th>...</th>\n",
              "      <th>native-country_Portugal</th>\n",
              "      <th>native-country_Puerto-Rico</th>\n",
              "      <th>native-country_Scotland</th>\n",
              "      <th>native-country_South</th>\n",
              "      <th>native-country_Taiwan</th>\n",
              "      <th>native-country_Thailand</th>\n",
              "      <th>native-country_Trinadad&amp;Tobago</th>\n",
              "      <th>native-country_United-States</th>\n",
              "      <th>native-country_Vietnam</th>\n",
              "      <th>native-country_Yugoslavia</th>\n",
              "    </tr>\n",
              "  </thead>\n",
              "  <tbody>\n",
              "    <tr>\n",
              "      <th>0</th>\n",
              "      <td>39</td>\n",
              "      <td>77516</td>\n",
              "      <td>13</td>\n",
              "      <td>2174</td>\n",
              "      <td>0</td>\n",
              "      <td>40</td>\n",
              "      <td>0</td>\n",
              "      <td>0</td>\n",
              "      <td>0</td>\n",
              "      <td>0</td>\n",
              "      <td>...</td>\n",
              "      <td>0</td>\n",
              "      <td>0</td>\n",
              "      <td>0</td>\n",
              "      <td>0</td>\n",
              "      <td>0</td>\n",
              "      <td>0</td>\n",
              "      <td>0</td>\n",
              "      <td>1</td>\n",
              "      <td>0</td>\n",
              "      <td>0</td>\n",
              "    </tr>\n",
              "    <tr>\n",
              "      <th>1</th>\n",
              "      <td>50</td>\n",
              "      <td>83311</td>\n",
              "      <td>13</td>\n",
              "      <td>0</td>\n",
              "      <td>0</td>\n",
              "      <td>13</td>\n",
              "      <td>0</td>\n",
              "      <td>0</td>\n",
              "      <td>0</td>\n",
              "      <td>0</td>\n",
              "      <td>...</td>\n",
              "      <td>0</td>\n",
              "      <td>0</td>\n",
              "      <td>0</td>\n",
              "      <td>0</td>\n",
              "      <td>0</td>\n",
              "      <td>0</td>\n",
              "      <td>0</td>\n",
              "      <td>1</td>\n",
              "      <td>0</td>\n",
              "      <td>0</td>\n",
              "    </tr>\n",
              "    <tr>\n",
              "      <th>2</th>\n",
              "      <td>38</td>\n",
              "      <td>215646</td>\n",
              "      <td>9</td>\n",
              "      <td>0</td>\n",
              "      <td>0</td>\n",
              "      <td>40</td>\n",
              "      <td>0</td>\n",
              "      <td>0</td>\n",
              "      <td>0</td>\n",
              "      <td>0</td>\n",
              "      <td>...</td>\n",
              "      <td>0</td>\n",
              "      <td>0</td>\n",
              "      <td>0</td>\n",
              "      <td>0</td>\n",
              "      <td>0</td>\n",
              "      <td>0</td>\n",
              "      <td>0</td>\n",
              "      <td>1</td>\n",
              "      <td>0</td>\n",
              "      <td>0</td>\n",
              "    </tr>\n",
              "    <tr>\n",
              "      <th>3</th>\n",
              "      <td>53</td>\n",
              "      <td>234721</td>\n",
              "      <td>7</td>\n",
              "      <td>0</td>\n",
              "      <td>0</td>\n",
              "      <td>40</td>\n",
              "      <td>0</td>\n",
              "      <td>0</td>\n",
              "      <td>0</td>\n",
              "      <td>0</td>\n",
              "      <td>...</td>\n",
              "      <td>0</td>\n",
              "      <td>0</td>\n",
              "      <td>0</td>\n",
              "      <td>0</td>\n",
              "      <td>0</td>\n",
              "      <td>0</td>\n",
              "      <td>0</td>\n",
              "      <td>1</td>\n",
              "      <td>0</td>\n",
              "      <td>0</td>\n",
              "    </tr>\n",
              "    <tr>\n",
              "      <th>4</th>\n",
              "      <td>28</td>\n",
              "      <td>338409</td>\n",
              "      <td>13</td>\n",
              "      <td>0</td>\n",
              "      <td>0</td>\n",
              "      <td>40</td>\n",
              "      <td>0</td>\n",
              "      <td>0</td>\n",
              "      <td>0</td>\n",
              "      <td>0</td>\n",
              "      <td>...</td>\n",
              "      <td>0</td>\n",
              "      <td>0</td>\n",
              "      <td>0</td>\n",
              "      <td>0</td>\n",
              "      <td>0</td>\n",
              "      <td>0</td>\n",
              "      <td>0</td>\n",
              "      <td>0</td>\n",
              "      <td>0</td>\n",
              "      <td>0</td>\n",
              "    </tr>\n",
              "  </tbody>\n",
              "</table>\n",
              "<p>5 rows × 106 columns</p>\n",
              "</div>\n",
              "      <button class=\"colab-df-convert\" onclick=\"convertToInteractive('df-94cf5922-0de4-4851-8fc0-660df592b5b6')\"\n",
              "              title=\"Convert this dataframe to an interactive table.\"\n",
              "              style=\"display:none;\">\n",
              "        \n",
              "  <svg xmlns=\"http://www.w3.org/2000/svg\" height=\"24px\"viewBox=\"0 0 24 24\"\n",
              "       width=\"24px\">\n",
              "    <path d=\"M0 0h24v24H0V0z\" fill=\"none\"/>\n",
              "    <path d=\"M18.56 5.44l.94 2.06.94-2.06 2.06-.94-2.06-.94-.94-2.06-.94 2.06-2.06.94zm-11 1L8.5 8.5l.94-2.06 2.06-.94-2.06-.94L8.5 2.5l-.94 2.06-2.06.94zm10 10l.94 2.06.94-2.06 2.06-.94-2.06-.94-.94-2.06-.94 2.06-2.06.94z\"/><path d=\"M17.41 7.96l-1.37-1.37c-.4-.4-.92-.59-1.43-.59-.52 0-1.04.2-1.43.59L10.3 9.45l-7.72 7.72c-.78.78-.78 2.05 0 2.83L4 21.41c.39.39.9.59 1.41.59.51 0 1.02-.2 1.41-.59l7.78-7.78 2.81-2.81c.8-.78.8-2.07 0-2.86zM5.41 20L4 18.59l7.72-7.72 1.47 1.35L5.41 20z\"/>\n",
              "  </svg>\n",
              "      </button>\n",
              "      \n",
              "  <style>\n",
              "    .colab-df-container {\n",
              "      display:flex;\n",
              "      flex-wrap:wrap;\n",
              "      gap: 12px;\n",
              "    }\n",
              "\n",
              "    .colab-df-convert {\n",
              "      background-color: #E8F0FE;\n",
              "      border: none;\n",
              "      border-radius: 50%;\n",
              "      cursor: pointer;\n",
              "      display: none;\n",
              "      fill: #1967D2;\n",
              "      height: 32px;\n",
              "      padding: 0 0 0 0;\n",
              "      width: 32px;\n",
              "    }\n",
              "\n",
              "    .colab-df-convert:hover {\n",
              "      background-color: #E2EBFA;\n",
              "      box-shadow: 0px 1px 2px rgba(60, 64, 67, 0.3), 0px 1px 3px 1px rgba(60, 64, 67, 0.15);\n",
              "      fill: #174EA6;\n",
              "    }\n",
              "\n",
              "    [theme=dark] .colab-df-convert {\n",
              "      background-color: #3B4455;\n",
              "      fill: #D2E3FC;\n",
              "    }\n",
              "\n",
              "    [theme=dark] .colab-df-convert:hover {\n",
              "      background-color: #434B5C;\n",
              "      box-shadow: 0px 1px 3px 1px rgba(0, 0, 0, 0.15);\n",
              "      filter: drop-shadow(0px 1px 2px rgba(0, 0, 0, 0.3));\n",
              "      fill: #FFFFFF;\n",
              "    }\n",
              "  </style>\n",
              "\n",
              "      <script>\n",
              "        const buttonEl =\n",
              "          document.querySelector('#df-94cf5922-0de4-4851-8fc0-660df592b5b6 button.colab-df-convert');\n",
              "        buttonEl.style.display =\n",
              "          google.colab.kernel.accessAllowed ? 'block' : 'none';\n",
              "\n",
              "        async function convertToInteractive(key) {\n",
              "          const element = document.querySelector('#df-94cf5922-0de4-4851-8fc0-660df592b5b6');\n",
              "          const dataTable =\n",
              "            await google.colab.kernel.invokeFunction('convertToInteractive',\n",
              "                                                     [key], {});\n",
              "          if (!dataTable) return;\n",
              "\n",
              "          const docLinkHtml = 'Like what you see? Visit the ' +\n",
              "            '<a target=\"_blank\" href=https://colab.research.google.com/notebooks/data_table.ipynb>data table notebook</a>'\n",
              "            + ' to learn more about interactive tables.';\n",
              "          element.innerHTML = '';\n",
              "          dataTable['output_type'] = 'display_data';\n",
              "          await google.colab.output.renderOutput(dataTable, element);\n",
              "          const docLink = document.createElement('div');\n",
              "          docLink.innerHTML = docLinkHtml;\n",
              "          element.appendChild(docLink);\n",
              "        }\n",
              "      </script>\n",
              "    </div>\n",
              "  </div>\n",
              "  "
            ]
          },
          "metadata": {},
          "execution_count": 90
        }
      ]
    },
    {
      "cell_type": "code",
      "execution_count": null,
      "id": "8d4879e9",
      "metadata": {
        "id": "8d4879e9"
      },
      "outputs": [],
      "source": [
        "X = data.drop('class',axis=1)\n",
        "y = data['class']"
      ]
    },
    {
      "cell_type": "code",
      "execution_count": null,
      "id": "c38c403f",
      "metadata": {
        "colab": {
          "base_uri": "https://localhost:8080/"
        },
        "id": "c38c403f",
        "outputId": "68de2fd3-a279-4e72-a749-fe127ce990f3"
      },
      "outputs": [
        {
          "output_type": "execute_result",
          "data": {
            "text/plain": [
              "((32537, 105), (32537,))"
            ]
          },
          "metadata": {},
          "execution_count": 92
        }
      ],
      "source": [
        "X.shape, y.shape"
      ]
    },
    {
      "cell_type": "code",
      "source": [
        "y.value_counts()"
      ],
      "metadata": {
        "colab": {
          "base_uri": "https://localhost:8080/"
        },
        "id": "ZMFRZfMsy7F_",
        "outputId": "bdf741f2-ecb8-4ff2-be90-19a4cf9600aa"
      },
      "id": "ZMFRZfMsy7F_",
      "execution_count": null,
      "outputs": [
        {
          "output_type": "execute_result",
          "data": {
            "text/plain": [
              "0    24698\n",
              "1     7839\n",
              "Name: class, dtype: int64"
            ]
          },
          "metadata": {},
          "execution_count": 94
        }
      ]
    },
    {
      "cell_type": "code",
      "execution_count": null,
      "id": "5b3deec2",
      "metadata": {
        "id": "5b3deec2"
      },
      "outputs": [],
      "source": [
        "from sklearn.model_selection import train_test_split\n",
        "from sklearn.tree import DecisionTreeClassifier\n",
        "from sklearn.metrics import confusion_matrix, plot_confusion_matrix"
      ]
    },
    {
      "cell_type": "code",
      "execution_count": null,
      "id": "29387e27",
      "metadata": {
        "id": "29387e27"
      },
      "outputs": [],
      "source": [
        "X_train,X_test,y_train,y_test = train_test_split(X,y,test_size=0.33,random_state=1,stratify=y)"
      ]
    },
    {
      "cell_type": "code",
      "execution_count": null,
      "id": "bfab3cc5",
      "metadata": {
        "colab": {
          "base_uri": "https://localhost:8080/"
        },
        "id": "bfab3cc5",
        "outputId": "95886a1c-2096-4ae2-b8d8-bf7f1d86d851"
      },
      "outputs": [
        {
          "output_type": "execute_result",
          "data": {
            "text/plain": [
              "((21799, 105), (21799,), (10738, 105), (10738,))"
            ]
          },
          "metadata": {},
          "execution_count": 97
        }
      ],
      "source": [
        "X_train.shape,y_train.shape,X_test.shape,y_test.shape"
      ]
    },
    {
      "cell_type": "code",
      "execution_count": null,
      "id": "271c3f2f",
      "metadata": {
        "id": "271c3f2f"
      },
      "outputs": [],
      "source": [
        "dt = DecisionTreeClassifier()"
      ]
    },
    {
      "cell_type": "code",
      "execution_count": null,
      "id": "6981984b",
      "metadata": {
        "colab": {
          "base_uri": "https://localhost:8080/"
        },
        "id": "6981984b",
        "outputId": "19e2e33f-5b4c-4491-8d6d-96a7ecc17d71"
      },
      "outputs": [
        {
          "output_type": "execute_result",
          "data": {
            "text/plain": [
              "DecisionTreeClassifier()"
            ]
          },
          "metadata": {},
          "execution_count": 99
        }
      ],
      "source": [
        "dt.fit(X_train,y_train)"
      ]
    },
    {
      "cell_type": "code",
      "execution_count": null,
      "id": "adeecdd4",
      "metadata": {
        "colab": {
          "base_uri": "https://localhost:8080/"
        },
        "id": "adeecdd4",
        "outputId": "25128a89-c212-40b9-c316-53c001a4e18f"
      },
      "outputs": [
        {
          "output_type": "execute_result",
          "data": {
            "text/plain": [
              "0.9999541263360705"
            ]
          },
          "metadata": {},
          "execution_count": 100
        }
      ],
      "source": [
        "dt.score(X_train,y_train)"
      ]
    },
    {
      "cell_type": "code",
      "execution_count": null,
      "id": "c6f4388b",
      "metadata": {
        "id": "c6f4388b"
      },
      "outputs": [],
      "source": [
        "y_pred = dt.predict(X_test)"
      ]
    },
    {
      "cell_type": "code",
      "execution_count": null,
      "id": "2ffd7c69",
      "metadata": {
        "colab": {
          "base_uri": "https://localhost:8080/"
        },
        "id": "2ffd7c69",
        "outputId": "0bc82722-48a0-4221-b5f8-ec22dde28ee2"
      },
      "outputs": [
        {
          "output_type": "execute_result",
          "data": {
            "text/plain": [
              "array([[7125, 1026],\n",
              "       [ 977, 1610]])"
            ]
          },
          "metadata": {},
          "execution_count": 102
        }
      ],
      "source": [
        "confusion_matrix(y_test,y_pred)"
      ]
    },
    {
      "cell_type": "code",
      "execution_count": null,
      "id": "58189586",
      "metadata": {
        "colab": {
          "base_uri": "https://localhost:8080/"
        },
        "id": "58189586",
        "outputId": "8402a200-e1e4-4088-cde1-54a374e675d1"
      },
      "outputs": [
        {
          "output_type": "execute_result",
          "data": {
            "text/plain": [
              "0.813466194822127"
            ]
          },
          "metadata": {},
          "execution_count": 103
        }
      ],
      "source": [
        "dt.score(X_test,y_test)"
      ]
    },
    {
      "cell_type": "markdown",
      "source": [
        "### Train Data is Over fitting. Lets prun the tree and will go some hyperparameter tunning"
      ],
      "metadata": {
        "id": "gH5IMsp29VCV"
      },
      "id": "gH5IMsp29VCV"
    },
    {
      "cell_type": "code",
      "execution_count": null,
      "id": "9bf7d80d",
      "metadata": {
        "id": "9bf7d80d"
      },
      "outputs": [],
      "source": [
        "from sklearn.model_selection import GridSearchCV"
      ]
    },
    {
      "cell_type": "code",
      "execution_count": null,
      "id": "b81c1e9a",
      "metadata": {
        "id": "b81c1e9a"
      },
      "outputs": [],
      "source": [
        "parameters = {'criterion' : [\"entropy\", \"gini\"],\n",
        "             'splitter' : ['best', 'random'],\n",
        "             'max_depth' : [7,8,9,10],\n",
        "             'min_samples_split' : [5,10],\n",
        "             'max_features': ['auto', 'sqrt', 'log2']}"
      ]
    },
    {
      "cell_type": "code",
      "execution_count": null,
      "id": "65c90e89",
      "metadata": {
        "colab": {
          "base_uri": "https://localhost:8080/"
        },
        "id": "65c90e89",
        "outputId": "f779028e-da3b-40da-a7ad-0aca0a521c47"
      },
      "outputs": [
        {
          "output_type": "execute_result",
          "data": {
            "text/plain": [
              "GridSearchCV(cv=5, estimator=DecisionTreeClassifier(), n_jobs=-1,\n",
              "             param_grid={'criterion': ['entropy', 'gini'],\n",
              "                         'max_depth': [7, 8, 9, 10],\n",
              "                         'max_features': ['auto', 'sqrt', 'log2'],\n",
              "                         'min_samples_split': [5, 10],\n",
              "                         'splitter': ['best', 'random']})"
            ]
          },
          "metadata": {},
          "execution_count": 113
        }
      ],
      "source": [
        "classifercv = GridSearchCV(DecisionTreeClassifier(), parameters, cv=5,n_jobs=-1)\n",
        "classifercv.fit(X_train, y_train)"
      ]
    },
    {
      "cell_type": "code",
      "execution_count": null,
      "id": "f77d0b84",
      "metadata": {
        "colab": {
          "base_uri": "https://localhost:8080/"
        },
        "id": "f77d0b84",
        "outputId": "d123a228-7722-4811-bd9a-048c32eea70f"
      },
      "outputs": [
        {
          "output_type": "execute_result",
          "data": {
            "text/plain": [
              "{'criterion': 'gini',\n",
              " 'max_depth': 9,\n",
              " 'max_features': 'sqrt',\n",
              " 'min_samples_split': 5,\n",
              " 'splitter': 'best'}"
            ]
          },
          "metadata": {},
          "execution_count": 114
        }
      ],
      "source": [
        "classifercv.best_params_"
      ]
    },
    {
      "cell_type": "code",
      "execution_count": null,
      "id": "a3334ed2",
      "metadata": {
        "id": "a3334ed2"
      },
      "outputs": [],
      "source": [
        "Decision_with_bestparams = DecisionTreeClassifier(criterion= 'gini', max_depth= 9, max_features= 'sqrt', min_samples_split= 5,\n",
        "splitter= 'best')"
      ]
    },
    {
      "cell_type": "code",
      "execution_count": null,
      "id": "cf86d566",
      "metadata": {
        "colab": {
          "base_uri": "https://localhost:8080/"
        },
        "id": "cf86d566",
        "outputId": "722c4ad9-30a4-4f07-8ff3-eef41bafdfa6"
      },
      "outputs": [
        {
          "output_type": "execute_result",
          "data": {
            "text/plain": [
              "DecisionTreeClassifier(max_depth=9, max_features='sqrt', min_samples_split=5)"
            ]
          },
          "metadata": {},
          "execution_count": 120
        }
      ],
      "source": [
        "Decision_with_bestparams.fit(X_train,y_train)"
      ]
    },
    {
      "cell_type": "code",
      "execution_count": null,
      "id": "41d9fb2f",
      "metadata": {
        "colab": {
          "base_uri": "https://localhost:8080/"
        },
        "id": "41d9fb2f",
        "outputId": "6f003b2a-abc4-480b-c12a-9318f09efd00"
      },
      "outputs": [
        {
          "output_type": "execute_result",
          "data": {
            "text/plain": [
              "0.8448093949263727"
            ]
          },
          "metadata": {},
          "execution_count": 121
        }
      ],
      "source": [
        "Decision_with_bestparams.score(X_train,y_train)"
      ]
    },
    {
      "cell_type": "code",
      "execution_count": null,
      "id": "eb193815",
      "metadata": {
        "colab": {
          "base_uri": "https://localhost:8080/"
        },
        "id": "eb193815",
        "outputId": "571649f4-f45c-440e-e463-3b18a1e690c9"
      },
      "outputs": [
        {
          "output_type": "execute_result",
          "data": {
            "text/plain": [
              "0.8466194822127026"
            ]
          },
          "metadata": {},
          "execution_count": 122
        }
      ],
      "source": [
        "Decision_with_bestparams.score(X_test,y_test)"
      ]
    },
    {
      "cell_type": "code",
      "source": [
        "y_pred_best = Decision_with_bestparams.predict(X_test)"
      ],
      "metadata": {
        "id": "wa95RfzKAGlj"
      },
      "id": "wa95RfzKAGlj",
      "execution_count": null,
      "outputs": []
    },
    {
      "cell_type": "code",
      "source": [
        "confusion_matrix(y_test,y_pred_best)"
      ],
      "metadata": {
        "colab": {
          "base_uri": "https://localhost:8080/"
        },
        "id": "h0f1zAuv_9pc",
        "outputId": "feb7c0eb-d94f-4a0f-aab6-05df926e97f0"
      },
      "id": "h0f1zAuv_9pc",
      "execution_count": null,
      "outputs": [
        {
          "output_type": "execute_result",
          "data": {
            "text/plain": [
              "array([[7887,  264],\n",
              "       [1383, 1204]])"
            ]
          },
          "metadata": {},
          "execution_count": 128
        }
      ]
    },
    {
      "cell_type": "markdown",
      "source": [
        "## Random Forest"
      ],
      "metadata": {
        "id": "R8C793uDDhCL"
      },
      "id": "R8C793uDDhCL"
    },
    {
      "cell_type": "code",
      "source": [
        "from sklearn.ensemble import RandomForestClassifier, BaggingClassifier, ExtraTreesClassifier, VotingClassifier"
      ],
      "metadata": {
        "id": "ebNS7KWM_vRk"
      },
      "id": "ebNS7KWM_vRk",
      "execution_count": null,
      "outputs": []
    },
    {
      "cell_type": "code",
      "source": [
        "rf = RandomForestClassifier(n_estimators=100, criterion='entropy',n_jobs=-1,oob_score=True)\n",
        "rf.fit(X_train,y_train)"
      ],
      "metadata": {
        "colab": {
          "base_uri": "https://localhost:8080/"
        },
        "id": "jTOIrm2A_vgc",
        "outputId": "bbac45b2-a753-4a55-f4a7-e3cf1a7bbe09"
      },
      "id": "jTOIrm2A_vgc",
      "execution_count": null,
      "outputs": [
        {
          "output_type": "execute_result",
          "data": {
            "text/plain": [
              "RandomForestClassifier(criterion='entropy', n_jobs=-1, oob_score=True)"
            ]
          },
          "metadata": {},
          "execution_count": 134
        }
      ]
    },
    {
      "cell_type": "code",
      "source": [
        "rf.score(X_train,y_train)"
      ],
      "metadata": {
        "colab": {
          "base_uri": "https://localhost:8080/"
        },
        "id": "3GgBUQyg_vpT",
        "outputId": "86655349-d999-4df2-f3b9-26e0321c47f7"
      },
      "id": "3GgBUQyg_vpT",
      "execution_count": null,
      "outputs": [
        {
          "output_type": "execute_result",
          "data": {
            "text/plain": [
              "0.9999541263360705"
            ]
          },
          "metadata": {},
          "execution_count": 135
        }
      ]
    },
    {
      "cell_type": "code",
      "source": [
        "rf.score(X_test,y_test)"
      ],
      "metadata": {
        "colab": {
          "base_uri": "https://localhost:8080/"
        },
        "id": "tsg4kYT5BUlM",
        "outputId": "1fb6eb9e-f332-429b-c350-300a344e9962"
      },
      "id": "tsg4kYT5BUlM",
      "execution_count": null,
      "outputs": [
        {
          "output_type": "execute_result",
          "data": {
            "text/plain": [
              "0.8546284224250326"
            ]
          },
          "metadata": {},
          "execution_count": 136
        }
      ]
    },
    {
      "cell_type": "markdown",
      "source": [
        "## Bagging Classifier"
      ],
      "metadata": {
        "id": "1-BuvxJoDaEk"
      },
      "id": "1-BuvxJoDaEk"
    },
    {
      "cell_type": "code",
      "source": [
        "from sklearn.ensemble import BaggingClassifier\n",
        "from sklearn.svm import SVC"
      ],
      "metadata": {
        "id": "t8gMGlA8DxsU"
      },
      "id": "t8gMGlA8DxsU",
      "execution_count": null,
      "outputs": []
    },
    {
      "cell_type": "code",
      "source": [
        "bgc = BaggingClassifier(base_estimator=SVC(), n_estimators=10,n_jobs=-1,bootstrap=True)\n",
        "bgc.fit(X_train,y_train)"
      ],
      "metadata": {
        "colab": {
          "base_uri": "https://localhost:8080/"
        },
        "id": "n2CS-Q78Bquk",
        "outputId": "48eba334-6bb6-4b73-90cc-3699216a7597"
      },
      "id": "n2CS-Q78Bquk",
      "execution_count": null,
      "outputs": [
        {
          "output_type": "execute_result",
          "data": {
            "text/plain": [
              "BaggingClassifier(base_estimator=SVC(), n_jobs=-1)"
            ]
          },
          "metadata": {},
          "execution_count": 151
        }
      ]
    },
    {
      "cell_type": "code",
      "source": [
        "bgc.score(X_train,y_train)"
      ],
      "metadata": {
        "colab": {
          "base_uri": "https://localhost:8080/"
        },
        "id": "BdY-irCCBqyn",
        "outputId": "89183c66-987f-494a-95fe-1e9e717a5a33"
      },
      "id": "BdY-irCCBqyn",
      "execution_count": null,
      "outputs": [
        {
          "output_type": "execute_result",
          "data": {
            "text/plain": [
              "0.7917794394238268"
            ]
          },
          "metadata": {},
          "execution_count": 152
        }
      ]
    },
    {
      "cell_type": "code",
      "source": [
        "bgc.score(X_test,y_test)"
      ],
      "metadata": {
        "colab": {
          "base_uri": "https://localhost:8080/"
        },
        "id": "HS1YmyvFBq11",
        "outputId": "2da7faef-2c61-4283-a700-5c4da49a8f02"
      },
      "id": "HS1YmyvFBq11",
      "execution_count": null,
      "outputs": [
        {
          "output_type": "execute_result",
          "data": {
            "text/plain": [
              "0.7946544980443285"
            ]
          },
          "metadata": {},
          "execution_count": 153
        }
      ]
    },
    {
      "cell_type": "markdown",
      "source": [
        "## ExtraTree Classifier"
      ],
      "metadata": {
        "id": "tVYL9tsEDmkv"
      },
      "id": "tVYL9tsEDmkv"
    },
    {
      "cell_type": "code",
      "source": [
        "from sklearn.ensemble import ExtraTreesClassifier"
      ],
      "metadata": {
        "id": "GAIPqkRpD1NS"
      },
      "id": "GAIPqkRpD1NS",
      "execution_count": null,
      "outputs": []
    },
    {
      "cell_type": "code",
      "source": [
        "etc = ExtraTreesClassifier(n_estimators=50, criterion= 'entropy', max_depth= 9, max_features= 'sqrt', min_samples_split= 5\n",
        "                           , bootstrap=True)\n",
        "etc.fit(X_train,y_train)"
      ],
      "metadata": {
        "colab": {
          "base_uri": "https://localhost:8080/"
        },
        "id": "FfFBIDWrBq5F",
        "outputId": "618360a7-2011-4ca4-e5bf-67512cc15ee9"
      },
      "id": "FfFBIDWrBq5F",
      "execution_count": null,
      "outputs": [
        {
          "output_type": "execute_result",
          "data": {
            "text/plain": [
              "ExtraTreesClassifier(bootstrap=True, criterion='entropy', max_depth=9,\n",
              "                     max_features='sqrt', min_samples_split=5, n_estimators=50)"
            ]
          },
          "metadata": {},
          "execution_count": 162
        }
      ]
    },
    {
      "cell_type": "code",
      "source": [
        "etc.score(X_train,y_train)"
      ],
      "metadata": {
        "colab": {
          "base_uri": "https://localhost:8080/"
        },
        "id": "V_YpV096CJZ_",
        "outputId": "c6a1d3ee-8201-46df-b91e-b28584597cc9"
      },
      "id": "V_YpV096CJZ_",
      "execution_count": null,
      "outputs": [
        {
          "output_type": "execute_result",
          "data": {
            "text/plain": [
              "0.8357722831322538"
            ]
          },
          "metadata": {},
          "execution_count": 163
        }
      ]
    },
    {
      "cell_type": "code",
      "source": [
        "etc.score(X_test,y_test)"
      ],
      "metadata": {
        "colab": {
          "base_uri": "https://localhost:8080/"
        },
        "id": "7XFSXayyCJdc",
        "outputId": "ef6e2a57-ec11-45ad-bf22-5cb9a68d5764"
      },
      "id": "7XFSXayyCJdc",
      "execution_count": null,
      "outputs": [
        {
          "output_type": "execute_result",
          "data": {
            "text/plain": [
              "0.8302290929409574"
            ]
          },
          "metadata": {},
          "execution_count": 164
        }
      ]
    },
    {
      "cell_type": "markdown",
      "source": [
        "## Voting Classifier"
      ],
      "metadata": {
        "id": "MzdMTcWHDtfW"
      },
      "id": "MzdMTcWHDtfW"
    },
    {
      "cell_type": "code",
      "source": [
        "from sklearn.linear_model import LogisticRegression\n",
        "from sklearn.naive_bayes import GaussianNB\n",
        "from sklearn.ensemble import RandomForestClassifier, VotingClassifier"
      ],
      "metadata": {
        "id": "TdQEc1eSD4zm"
      },
      "id": "TdQEc1eSD4zm",
      "execution_count": null,
      "outputs": []
    },
    {
      "cell_type": "code",
      "source": [
        "clf1 = LogisticRegression(multi_class='multinomial', random_state=1)\n",
        "clf2 = RandomForestClassifier(n_estimators=50, random_state=1)\n",
        "clf3 = GaussianNB()\n",
        "eclf1 = VotingClassifier(estimators=[('lr', clf1), ('rf', clf2), ('gnb', clf3)], voting='hard')\n",
        "eclf1 = eclf1.fit(X, y)\n",
        "print(eclf1.predict(X))"
      ],
      "metadata": {
        "colab": {
          "base_uri": "https://localhost:8080/"
        },
        "id": "ZtI1pAaVCJ7e",
        "outputId": "9b40c247-fceb-4915-cbce-b163cc2009e1"
      },
      "id": "ZtI1pAaVCJ7e",
      "execution_count": null,
      "outputs": [
        {
          "output_type": "stream",
          "name": "stdout",
          "text": [
            "[0 0 0 ... 0 0 1]\n"
          ]
        }
      ]
    },
    {
      "cell_type": "code",
      "source": [
        "eclf1.score(X_train,y_train)"
      ],
      "metadata": {
        "colab": {
          "base_uri": "https://localhost:8080/"
        },
        "id": "NR7SDB0qCC-v",
        "outputId": "489e4364-9ffe-4b11-d398-57f5e537e8e0"
      },
      "id": "NR7SDB0qCC-v",
      "execution_count": null,
      "outputs": [
        {
          "output_type": "execute_result",
          "data": {
            "text/plain": [
              "0.8087526950777558"
            ]
          },
          "metadata": {},
          "execution_count": 158
        }
      ]
    },
    {
      "cell_type": "code",
      "source": [
        "eclf1.score(X_test,y_test)"
      ],
      "metadata": {
        "colab": {
          "base_uri": "https://localhost:8080/"
        },
        "id": "BkFh3LeZCDBn",
        "outputId": "fff1197a-8622-4c11-dc67-4e8deefe9cff"
      },
      "id": "BkFh3LeZCDBn",
      "execution_count": null,
      "outputs": [
        {
          "output_type": "execute_result",
          "data": {
            "text/plain": [
              "0.8129074315514994"
            ]
          },
          "metadata": {},
          "execution_count": 159
        }
      ]
    },
    {
      "cell_type": "markdown",
      "id": "cbd9e742",
      "metadata": {
        "id": "cbd9e742"
      },
      "source": [
        "## Tree visualization"
      ]
    },
    {
      "cell_type": "code",
      "execution_count": 167,
      "id": "bb0541f3",
      "metadata": {
        "colab": {
          "base_uri": "https://localhost:8080/",
          "height": 1000
        },
        "id": "bb0541f3",
        "outputId": "87d0fde4-80d0-4ca3-c8e4-6fcfce32107a"
      },
      "outputs": [
        {
          "output_type": "execute_result",
          "data": {
            "text/plain": [
              "[Text(0.7176529255319148, 0.95, 'X[3] <= 5095.5\\ngini = 0.366\\nsamples = 21799\\nvalue = [16547, 5252]'),\n",
              " Text(0.526529255319149, 0.85, 'X[24] <= 0.5\\ngini = 0.327\\nsamples = 20765\\nvalue = [16489, 4276]'),\n",
              " Text(0.3605053191489362, 0.75, 'X[46] <= 0.5\\ngini = 0.321\\nsamples = 20545\\nvalue = [16421, 4124]'),\n",
              " Text(0.20106382978723406, 0.65, 'X[40] <= 0.5\\ngini = 0.295\\nsamples = 18221\\nvalue = [14949, 3272]'),\n",
              " Text(0.1127659574468085, 0.55, 'X[62] <= 0.5\\ngini = 0.244\\nsamples = 15794\\nvalue = [13546, 2248]'),\n",
              " Text(0.06489361702127659, 0.45, 'X[34] <= 0.5\\ngini = 0.306\\nsamples = 10475\\nvalue = [8499, 1976]'),\n",
              " Text(0.03404255319148936, 0.35, 'X[48] <= 0.5\\ngini = 0.39\\nsamples = 7214\\nvalue = [5302, 1912]'),\n",
              " Text(0.01702127659574468, 0.25, 'X[4] <= 1805.0\\ngini = 0.36\\nsamples = 6163\\nvalue = [4710, 1453]'),\n",
              " Text(0.00851063829787234, 0.15, 'X[51] <= 0.5\\ngini = 0.346\\nsamples = 5978\\nvalue = [4647, 1331]'),\n",
              " Text(0.00425531914893617, 0.05, 'gini = 0.125\\nsamples = 1209\\nvalue = [1128, 81]'),\n",
              " Text(0.01276595744680851, 0.05, 'gini = 0.387\\nsamples = 4769\\nvalue = [3519, 1250]'),\n",
              " Text(0.02553191489361702, 0.15, 'X[4] <= 1978.5\\ngini = 0.449\\nsamples = 185\\nvalue = [63, 122]'),\n",
              " Text(0.02127659574468085, 0.05, 'gini = 0.181\\nsamples = 119\\nvalue = [12, 107]'),\n",
              " Text(0.029787234042553193, 0.05, 'gini = 0.351\\nsamples = 66\\nvalue = [51, 15]'),\n",
              " Text(0.05106382978723404, 0.25, 'X[51] <= 0.5\\ngini = 0.492\\nsamples = 1051\\nvalue = [592, 459]'),\n",
              " Text(0.0425531914893617, 0.15, 'X[1] <= 59884.0\\ngini = 0.32\\nsamples = 165\\nvalue = [132, 33]'),\n",
              " Text(0.03829787234042553, 0.05, 'gini = 0.0\\nsamples = 10\\nvalue = [10, 0]'),\n",
              " Text(0.04680851063829787, 0.05, 'gini = 0.335\\nsamples = 155\\nvalue = [122, 33]'),\n",
              " Text(0.059574468085106386, 0.15, 'X[4] <= 1846.0\\ngini = 0.499\\nsamples = 886\\nvalue = [460, 426]'),\n",
              " Text(0.05531914893617021, 0.05, 'gini = 0.495\\nsamples = 818\\nvalue = [449, 369]'),\n",
              " Text(0.06382978723404255, 0.05, 'gini = 0.271\\nsamples = 68\\nvalue = [11, 57]'),\n",
              " Text(0.09574468085106383, 0.35, 'X[87] <= 0.5\\ngini = 0.038\\nsamples = 3261\\nvalue = [3197, 64]'),\n",
              " Text(0.0851063829787234, 0.25, 'X[0] <= 28.5\\ngini = 0.038\\nsamples = 3256\\nvalue = [3193, 63]'),\n",
              " Text(0.07659574468085106, 0.15, 'X[5] <= 44.5\\ngini = 0.011\\nsamples = 2182\\nvalue = [2170, 12]'),\n",
              " Text(0.07234042553191489, 0.05, 'gini = 0.005\\nsamples = 1844\\nvalue = [1839, 5]'),\n",
              " Text(0.08085106382978724, 0.05, 'gini = 0.041\\nsamples = 338\\nvalue = [331, 7]'),\n",
              " Text(0.09361702127659574, 0.15, 'X[3] <= 4718.5\\ngini = 0.09\\nsamples = 1074\\nvalue = [1023, 51]'),\n",
              " Text(0.08936170212765958, 0.05, 'gini = 0.087\\nsamples = 1070\\nvalue = [1021, 49]'),\n",
              " Text(0.09787234042553192, 0.05, 'gini = 0.5\\nsamples = 4\\nvalue = [2, 2]'),\n",
              " Text(0.10638297872340426, 0.25, 'X[2] <= 13.0\\ngini = 0.32\\nsamples = 5\\nvalue = [4, 1]'),\n",
              " Text(0.10212765957446808, 0.15, 'gini = 0.0\\nsamples = 4\\nvalue = [4, 0]'),\n",
              " Text(0.11063829787234042, 0.15, 'gini = 0.0\\nsamples = 1\\nvalue = [0, 1]'),\n",
              " Text(0.16063829787234044, 0.45, 'X[6] <= 0.5\\ngini = 0.097\\nsamples = 5319\\nvalue = [5047, 272]'),\n",
              " Text(0.13829787234042554, 0.35, 'X[3] <= 4243.5\\ngini = 0.095\\nsamples = 5193\\nvalue = [4933, 260]'),\n",
              " Text(0.1276595744680851, 0.25, 'X[56] <= 0.5\\ngini = 0.093\\nsamples = 5171\\nvalue = [4918, 253]'),\n",
              " Text(0.11914893617021277, 0.15, 'X[57] <= 0.5\\ngini = 0.028\\nsamples = 4555\\nvalue = [4491, 64]'),\n",
              " Text(0.1148936170212766, 0.05, 'gini = 0.028\\nsamples = 4506\\nvalue = [4442, 64]'),\n",
              " Text(0.12340425531914893, 0.05, 'gini = 0.0\\nsamples = 49\\nvalue = [49, 0]'),\n",
              " Text(0.13617021276595745, 0.15, 'X[90] <= 0.5\\ngini = 0.425\\nsamples = 616\\nvalue = [427, 189]'),\n",
              " Text(0.13191489361702127, 0.05, 'gini = 0.424\\nsamples = 615\\nvalue = [427, 188]'),\n",
              " Text(0.14042553191489363, 0.05, 'gini = 0.0\\nsamples = 1\\nvalue = [0, 1]'),\n",
              " Text(0.14893617021276595, 0.25, 'X[0] <= 28.5\\ngini = 0.434\\nsamples = 22\\nvalue = [15, 7]'),\n",
              " Text(0.14468085106382977, 0.15, 'gini = 0.0\\nsamples = 7\\nvalue = [7, 0]'),\n",
              " Text(0.15319148936170213, 0.15, 'X[35] <= 0.5\\ngini = 0.498\\nsamples = 15\\nvalue = [8, 7]'),\n",
              " Text(0.14893617021276595, 0.05, 'gini = 0.5\\nsamples = 14\\nvalue = [7, 7]'),\n",
              " Text(0.1574468085106383, 0.05, 'gini = 0.0\\nsamples = 1\\nvalue = [1, 0]'),\n",
              " Text(0.1829787234042553, 0.35, 'X[56] <= 0.5\\ngini = 0.172\\nsamples = 126\\nvalue = [114, 12]'),\n",
              " Text(0.17446808510638298, 0.25, 'X[26] <= 0.5\\ngini = 0.069\\nsamples = 112\\nvalue = [108, 4]'),\n",
              " Text(0.1702127659574468, 0.15, 'X[37] <= 0.5\\ngini = 0.054\\nsamples = 109\\nvalue = [106, 3]'),\n",
              " Text(0.16595744680851063, 0.05, 'gini = 0.185\\nsamples = 29\\nvalue = [26, 3]'),\n",
              " Text(0.17446808510638298, 0.05, 'gini = 0.0\\nsamples = 80\\nvalue = [80, 0]'),\n",
              " Text(0.17872340425531916, 0.15, 'gini = 0.444\\nsamples = 3\\nvalue = [2, 1]'),\n",
              " Text(0.19148936170212766, 0.25, 'X[21] <= 0.5\\ngini = 0.49\\nsamples = 14\\nvalue = [6, 8]'),\n",
              " Text(0.18723404255319148, 0.15, 'X[23] <= 0.5\\ngini = 0.497\\nsamples = 13\\nvalue = [6, 7]'),\n",
              " Text(0.1829787234042553, 0.05, 'gini = 0.496\\nsamples = 11\\nvalue = [5, 6]'),\n",
              " Text(0.19148936170212766, 0.05, 'gini = 0.5\\nsamples = 2\\nvalue = [1, 1]'),\n",
              " Text(0.19574468085106383, 0.15, 'gini = 0.0\\nsamples = 1\\nvalue = [0, 1]'),\n",
              " Text(0.28936170212765955, 0.55, 'X[62] <= 0.5\\ngini = 0.488\\nsamples = 2427\\nvalue = [1403, 1024]'),\n",
              " Text(0.2553191489361702, 0.45, 'X[34] <= 0.5\\ngini = 0.499\\nsamples = 1689\\nvalue = [813, 876]'),\n",
              " Text(0.2297872340425532, 0.35, 'X[30] <= 0.5\\ngini = 0.483\\nsamples = 1424\\nvalue = [582, 842]'),\n",
              " Text(0.2127659574468085, 0.25, 'X[2] <= 11.5\\ngini = 0.47\\nsamples = 1295\\nvalue = [488, 807]'),\n",
              " Text(0.20425531914893616, 0.15, 'X[51] <= 0.5\\ngini = 0.498\\nsamples = 607\\nvalue = [321, 286]'),\n",
              " Text(0.2, 0.05, 'gini = 0.391\\nsamples = 30\\nvalue = [22, 8]'),\n",
              " Text(0.20851063829787234, 0.05, 'gini = 0.499\\nsamples = 577\\nvalue = [299, 278]'),\n",
              " Text(0.22127659574468084, 0.15, 'X[35] <= 0.5\\ngini = 0.368\\nsamples = 688\\nvalue = [167, 521]'),\n",
              " Text(0.2170212765957447, 0.05, 'gini = 0.361\\nsamples = 677\\nvalue = [160, 517]'),\n",
              " Text(0.225531914893617, 0.05, 'gini = 0.463\\nsamples = 11\\nvalue = [7, 4]'),\n",
              " Text(0.24680851063829787, 0.25, 'X[55] <= 0.5\\ngini = 0.395\\nsamples = 129\\nvalue = [94, 35]'),\n",
              " Text(0.23829787234042554, 0.15, 'X[3] <= 1662.5\\ngini = 0.373\\nsamples = 101\\nvalue = [76, 25]'),\n",
              " Text(0.23404255319148937, 0.05, 'gini = 0.383\\nsamples = 97\\nvalue = [72, 25]'),\n",
              " Text(0.2425531914893617, 0.05, 'gini = 0.0\\nsamples = 4\\nvalue = [4, 0]'),\n",
              " Text(0.2553191489361702, 0.15, 'X[25] <= 0.5\\ngini = 0.459\\nsamples = 28\\nvalue = [18, 10]'),\n",
              " Text(0.251063829787234, 0.05, 'gini = 0.491\\nsamples = 23\\nvalue = [13, 10]'),\n",
              " Text(0.25957446808510637, 0.05, 'gini = 0.0\\nsamples = 5\\nvalue = [5, 0]'),\n",
              " Text(0.28085106382978725, 0.35, 'X[52] <= 0.5\\ngini = 0.224\\nsamples = 265\\nvalue = [231, 34]'),\n",
              " Text(0.2680851063829787, 0.25, 'X[1] <= 46444.0\\ngini = 0.091\\nsamples = 84\\nvalue = [80, 4]'),\n",
              " Text(0.26382978723404255, 0.15, 'gini = 0.5\\nsamples = 2\\nvalue = [1, 1]'),\n",
              " Text(0.2723404255319149, 0.15, 'X[4] <= 2092.5\\ngini = 0.07\\nsamples = 82\\nvalue = [79, 3]'),\n",
              " Text(0.2680851063829787, 0.05, 'gini = 0.048\\nsamples = 81\\nvalue = [79, 2]'),\n",
              " Text(0.2765957446808511, 0.05, 'gini = 0.0\\nsamples = 1\\nvalue = [0, 1]'),\n",
              " Text(0.2936170212765957, 0.25, 'X[68] <= 0.5\\ngini = 0.277\\nsamples = 181\\nvalue = [151, 30]'),\n",
              " Text(0.28936170212765955, 0.15, 'X[83] <= 0.5\\ngini = 0.279\\nsamples = 179\\nvalue = [149, 30]'),\n",
              " Text(0.2851063829787234, 0.05, 'gini = 0.28\\nsamples = 178\\nvalue = [148, 30]'),\n",
              " Text(0.2936170212765957, 0.05, 'gini = 0.0\\nsamples = 1\\nvalue = [1, 0]'),\n",
              " Text(0.2978723404255319, 0.15, 'gini = 0.0\\nsamples = 2\\nvalue = [2, 0]'),\n",
              " Text(0.32340425531914896, 0.45, 'X[4] <= 1794.5\\ngini = 0.321\\nsamples = 738\\nvalue = [590, 148]'),\n",
              " Text(0.3148936170212766, 0.35, 'X[91] <= 0.5\\ngini = 0.301\\nsamples = 720\\nvalue = [587, 133]'),\n",
              " Text(0.31063829787234043, 0.25, 'X[66] <= 0.5\\ngini = 0.302\\nsamples = 717\\nvalue = [584, 133]'),\n",
              " Text(0.30638297872340425, 0.15, 'X[56] <= 0.5\\ngini = 0.301\\nsamples = 715\\nvalue = [583, 132]'),\n",
              " Text(0.3021276595744681, 0.05, 'gini = 0.169\\nsamples = 581\\nvalue = [527, 54]'),\n",
              " Text(0.31063829787234043, 0.05, 'gini = 0.487\\nsamples = 134\\nvalue = [56, 78]'),\n",
              " Text(0.3148936170212766, 0.15, 'gini = 0.5\\nsamples = 2\\nvalue = [1, 1]'),\n",
              " Text(0.3191489361702128, 0.25, 'gini = 0.0\\nsamples = 3\\nvalue = [3, 0]'),\n",
              " Text(0.33191489361702126, 0.35, 'X[5] <= 19.0\\ngini = 0.278\\nsamples = 18\\nvalue = [3, 15]'),\n",
              " Text(0.3276595744680851, 0.25, 'gini = 0.0\\nsamples = 1\\nvalue = [1, 0]'),\n",
              " Text(0.33617021276595743, 0.25, 'X[0] <= 45.5\\ngini = 0.208\\nsamples = 17\\nvalue = [2, 15]'),\n",
              " Text(0.33191489361702126, 0.15, 'gini = 0.0\\nsamples = 9\\nvalue = [0, 9]'),\n",
              " Text(0.3404255319148936, 0.15, 'X[93] <= 0.5\\ngini = 0.375\\nsamples = 8\\nvalue = [2, 6]'),\n",
              " Text(0.33617021276595743, 0.05, 'gini = 0.408\\nsamples = 7\\nvalue = [2, 5]'),\n",
              " Text(0.3446808510638298, 0.05, 'gini = 0.0\\nsamples = 1\\nvalue = [0, 1]'),\n",
              " Text(0.5199468085106383, 0.65, 'X[62] <= 0.5\\ngini = 0.464\\nsamples = 2324\\nvalue = [1472, 852]'),\n",
              " Text(0.45478723404255317, 0.55, 'X[23] <= 0.5\\ngini = 0.498\\nsamples = 1398\\nvalue = [738, 660]'),\n",
              " Text(0.4074468085106383, 0.45, 'X[0] <= 32.5\\ngini = 0.5\\nsamples = 855\\nvalue = [428, 427]'),\n",
              " Text(0.38085106382978723, 0.35, 'X[4] <= 1725.0\\ngini = 0.318\\nsamples = 207\\nvalue = [166, 41]'),\n",
              " Text(0.3659574468085106, 0.25, 'X[22] <= 0.5\\ngini = 0.287\\nsamples = 196\\nvalue = [162, 34]'),\n",
              " Text(0.3574468085106383, 0.15, 'X[0] <= 26.5\\ngini = 0.296\\nsamples = 183\\nvalue = [150, 33]'),\n",
              " Text(0.35319148936170214, 0.05, 'gini = 0.031\\nsamples = 63\\nvalue = [62, 1]'),\n",
              " Text(0.3617021276595745, 0.05, 'gini = 0.391\\nsamples = 120\\nvalue = [88, 32]'),\n",
              " Text(0.37446808510638296, 0.15, 'X[34] <= 0.5\\ngini = 0.142\\nsamples = 13\\nvalue = [12, 1]'),\n",
              " Text(0.3702127659574468, 0.05, 'gini = 0.32\\nsamples = 5\\nvalue = [4, 1]'),\n",
              " Text(0.37872340425531914, 0.05, 'gini = 0.0\\nsamples = 8\\nvalue = [8, 0]'),\n",
              " Text(0.39574468085106385, 0.25, 'X[58] <= 0.5\\ngini = 0.463\\nsamples = 11\\nvalue = [4, 7]'),\n",
              " Text(0.39148936170212767, 0.15, 'X[4] <= 1989.5\\ngini = 0.444\\nsamples = 9\\nvalue = [3, 6]'),\n",
              " Text(0.3872340425531915, 0.05, 'gini = 0.0\\nsamples = 6\\nvalue = [0, 6]'),\n",
              " Text(0.39574468085106385, 0.05, 'gini = 0.0\\nsamples = 3\\nvalue = [3, 0]'),\n",
              " Text(0.4, 0.15, 'gini = 0.5\\nsamples = 2\\nvalue = [1, 1]'),\n",
              " Text(0.4340425531914894, 0.35, 'X[2] <= 13.0\\ngini = 0.482\\nsamples = 648\\nvalue = [262, 386]'),\n",
              " Text(0.41702127659574467, 0.25, 'X[102] <= 0.5\\ngini = 0.485\\nsamples = 246\\nvalue = [144, 102]'),\n",
              " Text(0.4085106382978723, 0.15, 'X[11] <= 0.5\\ngini = 0.495\\nsamples = 20\\nvalue = [9, 11]'),\n",
              " Text(0.40425531914893614, 0.05, 'gini = 0.475\\nsamples = 18\\nvalue = [7, 11]'),\n",
              " Text(0.4127659574468085, 0.05, 'gini = 0.0\\nsamples = 2\\nvalue = [2, 0]'),\n",
              " Text(0.425531914893617, 0.15, 'X[19] <= 0.5\\ngini = 0.481\\nsamples = 226\\nvalue = [135, 91]'),\n",
              " Text(0.42127659574468085, 0.05, 'gini = 0.483\\nsamples = 223\\nvalue = [132, 91]'),\n",
              " Text(0.4297872340425532, 0.05, 'gini = 0.0\\nsamples = 3\\nvalue = [3, 0]'),\n",
              " Text(0.451063829787234, 0.25, 'X[26] <= 0.5\\ngini = 0.415\\nsamples = 402\\nvalue = [118, 284]'),\n",
              " Text(0.4425531914893617, 0.15, 'X[30] <= 0.5\\ngini = 0.293\\nsamples = 163\\nvalue = [29, 134]'),\n",
              " Text(0.43829787234042555, 0.05, 'gini = 0.281\\nsamples = 154\\nvalue = [26, 128]'),\n",
              " Text(0.44680851063829785, 0.05, 'gini = 0.444\\nsamples = 9\\nvalue = [3, 6]'),\n",
              " Text(0.4595744680851064, 0.15, 'X[87] <= 0.5\\ngini = 0.467\\nsamples = 239\\nvalue = [89, 150]'),\n",
              " Text(0.4553191489361702, 0.05, 'gini = 0.466\\nsamples = 238\\nvalue = [88, 150]'),\n",
              " Text(0.46382978723404256, 0.05, 'gini = 0.0\\nsamples = 1\\nvalue = [1, 0]'),\n",
              " Text(0.502127659574468, 0.45, 'X[32] <= 0.5\\ngini = 0.49\\nsamples = 543\\nvalue = [310, 233]'),\n",
              " Text(0.48936170212765956, 0.35, 'X[54] <= 0.5\\ngini = 0.23\\nsamples = 211\\nvalue = [183, 28]'),\n",
              " Text(0.4808510638297872, 0.25, 'X[82] <= 0.5\\ngini = 0.261\\nsamples = 175\\nvalue = [148, 27]'),\n",
              " Text(0.4765957446808511, 0.15, 'X[4] <= 2079.0\\ngini = 0.262\\nsamples = 174\\nvalue = [147, 27]'),\n",
              " Text(0.4723404255319149, 0.05, 'gini = 0.257\\nsamples = 172\\nvalue = [146, 26]'),\n",
              " Text(0.4808510638297872, 0.05, 'gini = 0.5\\nsamples = 2\\nvalue = [1, 1]'),\n",
              " Text(0.4851063829787234, 0.15, 'gini = 0.0\\nsamples = 1\\nvalue = [1, 0]'),\n",
              " Text(0.4978723404255319, 0.25, 'X[12] <= 0.5\\ngini = 0.054\\nsamples = 36\\nvalue = [35, 1]'),\n",
              " Text(0.49361702127659574, 0.15, 'X[61] <= 0.5\\ngini = 0.056\\nsamples = 35\\nvalue = [34, 1]'),\n",
              " Text(0.48936170212765956, 0.05, 'gini = 0.0\\nsamples = 7\\nvalue = [7, 0]'),\n",
              " Text(0.4978723404255319, 0.05, 'gini = 0.069\\nsamples = 28\\nvalue = [27, 1]'),\n",
              " Text(0.502127659574468, 0.15, 'gini = 0.0\\nsamples = 1\\nvalue = [1, 0]'),\n",
              " Text(0.5148936170212766, 0.35, 'X[51] <= 0.5\\ngini = 0.472\\nsamples = 332\\nvalue = [127, 205]'),\n",
              " Text(0.5106382978723404, 0.25, 'gini = 0.0\\nsamples = 4\\nvalue = [4, 0]'),\n",
              " Text(0.5191489361702127, 0.25, 'X[0] <= 28.5\\ngini = 0.469\\nsamples = 328\\nvalue = [123, 205]'),\n",
              " Text(0.5106382978723404, 0.15, 'X[5] <= 47.5\\ngini = 0.417\\nsamples = 27\\nvalue = [19, 8]'),\n",
              " Text(0.5063829787234042, 0.05, 'gini = 0.455\\nsamples = 20\\nvalue = [13, 7]'),\n",
              " Text(0.5148936170212766, 0.05, 'gini = 0.245\\nsamples = 7\\nvalue = [6, 1]'),\n",
              " Text(0.5276595744680851, 0.15, 'X[83] <= 0.5\\ngini = 0.452\\nsamples = 301\\nvalue = [104, 197]'),\n",
              " Text(0.5234042553191489, 0.05, 'gini = 0.451\\nsamples = 300\\nvalue = [103, 197]'),\n",
              " Text(0.5319148936170213, 0.05, 'gini = 0.0\\nsamples = 1\\nvalue = [1, 0]'),\n",
              " Text(0.5851063829787234, 0.55, 'X[0] <= 27.5\\ngini = 0.329\\nsamples = 926\\nvalue = [734, 192]'),\n",
              " Text(0.5617021276595745, 0.45, 'X[52] <= 0.5\\ngini = 0.099\\nsamples = 211\\nvalue = [200, 11]'),\n",
              " Text(0.5574468085106383, 0.35, 'X[4] <= 943.5\\ngini = 0.188\\nsamples = 105\\nvalue = [94, 11]'),\n",
              " Text(0.5531914893617021, 0.25, 'X[32] <= 0.5\\ngini = 0.161\\nsamples = 102\\nvalue = [93, 9]'),\n",
              " Text(0.5446808510638298, 0.15, 'X[9] <= 0.5\\ngini = 0.023\\nsamples = 86\\nvalue = [85, 1]'),\n",
              " Text(0.5404255319148936, 0.05, 'gini = 0.0\\nsamples = 27\\nvalue = [27, 0]'),\n",
              " Text(0.548936170212766, 0.05, 'gini = 0.033\\nsamples = 59\\nvalue = [58, 1]'),\n",
              " Text(0.5617021276595745, 0.15, 'X[1] <= 67704.5\\ngini = 0.5\\nsamples = 16\\nvalue = [8, 8]'),\n",
              " Text(0.5574468085106383, 0.05, 'gini = 0.0\\nsamples = 2\\nvalue = [0, 2]'),\n",
              " Text(0.5659574468085107, 0.05, 'gini = 0.49\\nsamples = 14\\nvalue = [8, 6]'),\n",
              " Text(0.5617021276595745, 0.25, 'gini = 0.444\\nsamples = 3\\nvalue = [1, 2]'),\n",
              " Text(0.5659574468085107, 0.35, 'gini = 0.0\\nsamples = 106\\nvalue = [106, 0]'),\n",
              " Text(0.6085106382978723, 0.45, 'X[34] <= 0.5\\ngini = 0.378\\nsamples = 715\\nvalue = [534, 181]'),\n",
              " Text(0.5914893617021276, 0.35, 'X[35] <= 0.5\\ngini = 0.434\\nsamples = 481\\nvalue = [328, 153]'),\n",
              " Text(0.5829787234042553, 0.25, 'X[99] <= 0.5\\ngini = 0.446\\nsamples = 444\\nvalue = [295, 149]'),\n",
              " Text(0.5787234042553191, 0.15, 'X[59] <= 0.5\\ngini = 0.445\\nsamples = 443\\nvalue = [295, 148]'),\n",
              " Text(0.574468085106383, 0.05, 'gini = 0.458\\nsamples = 406\\nvalue = [262, 144]'),\n",
              " Text(0.5829787234042553, 0.05, 'gini = 0.193\\nsamples = 37\\nvalue = [33, 4]'),\n",
              " Text(0.5872340425531914, 0.15, 'gini = 0.0\\nsamples = 1\\nvalue = [0, 1]'),\n",
              " Text(0.6, 0.25, 'X[60] <= 0.5\\ngini = 0.193\\nsamples = 37\\nvalue = [33, 4]'),\n",
              " Text(0.5957446808510638, 0.15, 'X[29] <= 0.5\\ngini = 0.202\\nsamples = 35\\nvalue = [31, 4]'),\n",
              " Text(0.5914893617021276, 0.05, 'gini = 0.231\\nsamples = 30\\nvalue = [26, 4]'),\n",
              " Text(0.6, 0.05, 'gini = 0.0\\nsamples = 5\\nvalue = [5, 0]'),\n",
              " Text(0.6042553191489362, 0.15, 'gini = 0.0\\nsamples = 2\\nvalue = [2, 0]'),\n",
              " Text(0.625531914893617, 0.35, 'X[54] <= 0.5\\ngini = 0.211\\nsamples = 234\\nvalue = [206, 28]'),\n",
              " Text(0.6170212765957447, 0.25, 'X[74] <= 0.5\\ngini = 0.22\\nsamples = 207\\nvalue = [181, 26]'),\n",
              " Text(0.6127659574468085, 0.15, 'X[55] <= 0.5\\ngini = 0.224\\nsamples = 202\\nvalue = [176, 26]'),\n",
              " Text(0.6085106382978723, 0.05, 'gini = 0.239\\nsamples = 180\\nvalue = [155, 25]'),\n",
              " Text(0.6170212765957447, 0.05, 'gini = 0.087\\nsamples = 22\\nvalue = [21, 1]'),\n",
              " Text(0.6212765957446809, 0.15, 'gini = 0.0\\nsamples = 5\\nvalue = [5, 0]'),\n",
              " Text(0.6340425531914894, 0.25, 'X[23] <= 0.5\\ngini = 0.137\\nsamples = 27\\nvalue = [25, 2]'),\n",
              " Text(0.6297872340425532, 0.15, 'gini = 0.0\\nsamples = 10\\nvalue = [10, 0]'),\n",
              " Text(0.6382978723404256, 0.15, 'X[0] <= 28.5\\ngini = 0.208\\nsamples = 17\\nvalue = [15, 2]'),\n",
              " Text(0.6340425531914894, 0.05, 'gini = 0.444\\nsamples = 3\\nvalue = [2, 1]'),\n",
              " Text(0.6425531914893617, 0.05, 'gini = 0.133\\nsamples = 14\\nvalue = [13, 1]'),\n",
              " Text(0.6925531914893617, 0.75, 'X[63] <= 0.5\\ngini = 0.427\\nsamples = 220\\nvalue = [68, 152]'),\n",
              " Text(0.6595744680851063, 0.65, 'X[1] <= 33524.5\\ngini = 0.499\\nsamples = 55\\nvalue = [26, 29]'),\n",
              " Text(0.6553191489361702, 0.55, 'gini = 0.0\\nsamples = 2\\nvalue = [2, 0]'),\n",
              " Text(0.6638297872340425, 0.55, 'X[102] <= 0.5\\ngini = 0.496\\nsamples = 53\\nvalue = [24, 29]'),\n",
              " Text(0.6553191489361702, 0.45, 'X[0] <= 42.5\\ngini = 0.408\\nsamples = 7\\nvalue = [5, 2]'),\n",
              " Text(0.6510638297872341, 0.35, 'gini = 0.5\\nsamples = 4\\nvalue = [2, 2]'),\n",
              " Text(0.6595744680851063, 0.35, 'gini = 0.0\\nsamples = 3\\nvalue = [3, 0]'),\n",
              " Text(0.6723404255319149, 0.45, 'X[4] <= 1785.5\\ngini = 0.485\\nsamples = 46\\nvalue = [19, 27]'),\n",
              " Text(0.6680851063829787, 0.35, 'X[5] <= 39.0\\ngini = 0.499\\nsamples = 40\\nvalue = [19, 21]'),\n",
              " Text(0.6595744680851063, 0.25, 'X[4] <= 834.5\\ngini = 0.375\\nsamples = 8\\nvalue = [6, 2]'),\n",
              " Text(0.6553191489361702, 0.15, 'X[5] <= 19.5\\ngini = 0.408\\nsamples = 7\\nvalue = [5, 2]'),\n",
              " Text(0.6510638297872341, 0.05, 'gini = 0.0\\nsamples = 2\\nvalue = [2, 0]'),\n",
              " Text(0.6595744680851063, 0.05, 'gini = 0.48\\nsamples = 5\\nvalue = [3, 2]'),\n",
              " Text(0.6638297872340425, 0.15, 'gini = 0.0\\nsamples = 1\\nvalue = [1, 0]'),\n",
              " Text(0.676595744680851, 0.25, 'X[61] <= 0.5\\ngini = 0.482\\nsamples = 32\\nvalue = [13, 19]'),\n",
              " Text(0.6723404255319149, 0.15, 'gini = 0.0\\nsamples = 1\\nvalue = [0, 1]'),\n",
              " Text(0.6808510638297872, 0.15, 'X[1] <= 448288.5\\ngini = 0.487\\nsamples = 31\\nvalue = [13, 18]'),\n",
              " Text(0.676595744680851, 0.05, 'gini = 0.48\\nsamples = 30\\nvalue = [12, 18]'),\n",
              " Text(0.6851063829787234, 0.05, 'gini = 0.0\\nsamples = 1\\nvalue = [1, 0]'),\n",
              " Text(0.676595744680851, 0.35, 'gini = 0.0\\nsamples = 6\\nvalue = [0, 6]'),\n",
              " Text(0.725531914893617, 0.65, 'X[1] <= 96757.5\\ngini = 0.38\\nsamples = 165\\nvalue = [42, 123]'),\n",
              " Text(0.7021276595744681, 0.55, 'X[65] <= 0.5\\ngini = 0.499\\nsamples = 23\\nvalue = [11, 12]'),\n",
              " Text(0.6978723404255319, 0.45, 'X[32] <= 0.5\\ngini = 0.49\\nsamples = 21\\nvalue = [9, 12]'),\n",
              " Text(0.6893617021276596, 0.35, 'X[0] <= 58.5\\ngini = 0.444\\nsamples = 6\\nvalue = [4, 2]'),\n",
              " Text(0.6851063829787234, 0.25, 'gini = 0.0\\nsamples = 3\\nvalue = [3, 0]'),\n",
              " Text(0.6936170212765957, 0.25, 'gini = 0.444\\nsamples = 3\\nvalue = [1, 2]'),\n",
              " Text(0.7063829787234043, 0.35, 'X[10] <= 0.5\\ngini = 0.444\\nsamples = 15\\nvalue = [5, 10]'),\n",
              " Text(0.7021276595744681, 0.25, 'X[102] <= 0.5\\ngini = 0.459\\nsamples = 14\\nvalue = [5, 9]'),\n",
              " Text(0.6978723404255319, 0.15, 'gini = 0.0\\nsamples = 2\\nvalue = [2, 0]'),\n",
              " Text(0.7063829787234043, 0.15, 'X[40] <= 0.5\\ngini = 0.375\\nsamples = 12\\nvalue = [3, 9]'),\n",
              " Text(0.7021276595744681, 0.05, 'gini = 0.397\\nsamples = 11\\nvalue = [3, 8]'),\n",
              " Text(0.7106382978723405, 0.05, 'gini = 0.0\\nsamples = 1\\nvalue = [0, 1]'),\n",
              " Text(0.7106382978723405, 0.25, 'gini = 0.0\\nsamples = 1\\nvalue = [0, 1]'),\n",
              " Text(0.7063829787234043, 0.45, 'gini = 0.0\\nsamples = 2\\nvalue = [2, 0]'),\n",
              " Text(0.7489361702127659, 0.55, 'X[34] <= 0.5\\ngini = 0.341\\nsamples = 142\\nvalue = [31, 111]'),\n",
              " Text(0.7404255319148936, 0.45, 'X[48] <= 0.5\\ngini = 0.25\\nsamples = 123\\nvalue = [18, 105]'),\n",
              " Text(0.7361702127659574, 0.35, 'X[58] <= 0.5\\ngini = 0.233\\nsamples = 119\\nvalue = [16, 103]'),\n",
              " Text(0.7276595744680852, 0.25, 'X[50] <= 0.5\\ngini = 0.201\\nsamples = 106\\nvalue = [12, 94]'),\n",
              " Text(0.723404255319149, 0.15, 'X[3] <= 2032.0\\ngini = 0.188\\nsamples = 105\\nvalue = [11, 94]'),\n",
              " Text(0.7191489361702128, 0.05, 'gini = 0.159\\nsamples = 103\\nvalue = [9, 94]'),\n",
              " Text(0.7276595744680852, 0.05, 'gini = 0.0\\nsamples = 2\\nvalue = [2, 0]'),\n",
              " Text(0.7319148936170212, 0.15, 'gini = 0.0\\nsamples = 1\\nvalue = [1, 0]'),\n",
              " Text(0.7446808510638298, 0.25, 'X[66] <= 0.5\\ngini = 0.426\\nsamples = 13\\nvalue = [4, 9]'),\n",
              " Text(0.7404255319148936, 0.15, 'X[100] <= 0.5\\ngini = 0.32\\nsamples = 10\\nvalue = [2, 8]'),\n",
              " Text(0.7361702127659574, 0.05, 'gini = 0.346\\nsamples = 9\\nvalue = [2, 7]'),\n",
              " Text(0.7446808510638298, 0.05, 'gini = 0.0\\nsamples = 1\\nvalue = [0, 1]'),\n",
              " Text(0.7489361702127659, 0.15, 'gini = 0.444\\nsamples = 3\\nvalue = [2, 1]'),\n",
              " Text(0.7446808510638298, 0.35, 'gini = 0.5\\nsamples = 4\\nvalue = [2, 2]'),\n",
              " Text(0.7574468085106383, 0.45, 'X[52] <= 0.5\\ngini = 0.432\\nsamples = 19\\nvalue = [13, 6]'),\n",
              " Text(0.7531914893617021, 0.35, 'gini = 0.0\\nsamples = 3\\nvalue = [3, 0]'),\n",
              " Text(0.7617021276595745, 0.35, 'X[46] <= 0.5\\ngini = 0.469\\nsamples = 16\\nvalue = [10, 6]'),\n",
              " Text(0.7574468085106383, 0.25, 'gini = 0.0\\nsamples = 1\\nvalue = [0, 1]'),\n",
              " Text(0.7659574468085106, 0.25, 'X[3] <= 2393.5\\ngini = 0.444\\nsamples = 15\\nvalue = [10, 5]'),\n",
              " Text(0.7617021276595745, 0.15, 'X[89] <= 0.5\\ngini = 0.408\\nsamples = 14\\nvalue = [10, 4]'),\n",
              " Text(0.7574468085106383, 0.05, 'gini = 0.355\\nsamples = 13\\nvalue = [10, 3]'),\n",
              " Text(0.7659574468085106, 0.05, 'gini = 0.0\\nsamples = 1\\nvalue = [0, 1]'),\n",
              " Text(0.7702127659574468, 0.15, 'gini = 0.0\\nsamples = 1\\nvalue = [0, 1]'),\n",
              " Text(0.9087765957446808, 0.85, 'X[52] <= 0.5\\ngini = 0.106\\nsamples = 1034\\nvalue = [58, 976]'),\n",
              " Text(0.8595744680851064, 0.75, 'X[34] <= 0.5\\ngini = 0.079\\nsamples = 869\\nvalue = [36, 833]'),\n",
              " Text(0.825531914893617, 0.65, 'X[30] <= 0.5\\ngini = 0.062\\nsamples = 844\\nvalue = [27, 817]'),\n",
              " Text(0.7936170212765957, 0.55, 'X[2] <= 1.5\\ngini = 0.037\\nsamples = 806\\nvalue = [15, 791]'),\n",
              " Text(0.7893617021276595, 0.45, 'gini = 0.0\\nsamples = 1\\nvalue = [1, 0]'),\n",
              " Text(0.7978723404255319, 0.45, 'X[63] <= 0.5\\ngini = 0.034\\nsamples = 805\\nvalue = [14, 791]'),\n",
              " Text(0.7872340425531915, 0.35, 'X[5] <= 52.5\\ngini = 0.115\\nsamples = 98\\nvalue = [6, 92]'),\n",
              " Text(0.7829787234042553, 0.25, 'X[49] <= 0.5\\ngini = 0.1\\nsamples = 95\\nvalue = [5, 90]'),\n",
              " Text(0.7787234042553192, 0.15, 'X[35] <= 0.5\\ngini = 0.082\\nsamples = 93\\nvalue = [4, 89]'),\n",
              " Text(0.774468085106383, 0.05, 'gini = 0.064\\nsamples = 91\\nvalue = [3, 88]'),\n",
              " Text(0.7829787234042553, 0.05, 'gini = 0.5\\nsamples = 2\\nvalue = [1, 1]'),\n",
              " Text(0.7872340425531915, 0.15, 'gini = 0.5\\nsamples = 2\\nvalue = [1, 1]'),\n",
              " Text(0.7914893617021277, 0.25, 'gini = 0.444\\nsamples = 3\\nvalue = [1, 2]'),\n",
              " Text(0.8085106382978723, 0.35, 'X[46] <= 0.5\\ngini = 0.022\\nsamples = 707\\nvalue = [8, 699]'),\n",
              " Text(0.8042553191489362, 0.25, 'X[1] <= 105510.5\\ngini = 0.03\\nsamples = 524\\nvalue = [8, 516]'),\n",
              " Text(0.7957446808510639, 0.15, 'X[26] <= 0.5\\ngini = 0.056\\nsamples = 104\\nvalue = [3, 101]'),\n",
              " Text(0.7914893617021277, 0.05, 'gini = 0.064\\nsamples = 90\\nvalue = [3, 87]'),\n",
              " Text(0.8, 0.05, 'gini = 0.0\\nsamples = 14\\nvalue = [0, 14]'),\n",
              " Text(0.8127659574468085, 0.15, 'X[3] <= 7032.5\\ngini = 0.024\\nsamples = 420\\nvalue = [5, 415]'),\n",
              " Text(0.8085106382978723, 0.05, 'gini = 0.113\\nsamples = 50\\nvalue = [3, 47]'),\n",
              " Text(0.8170212765957446, 0.05, 'gini = 0.011\\nsamples = 370\\nvalue = [2, 368]'),\n",
              " Text(0.8127659574468085, 0.25, 'gini = 0.0\\nsamples = 183\\nvalue = [0, 183]'),\n",
              " Text(0.8574468085106383, 0.55, 'X[2] <= 13.5\\ngini = 0.432\\nsamples = 38\\nvalue = [12, 26]'),\n",
              " Text(0.8468085106382979, 0.45, 'X[59] <= 0.5\\ngini = 0.497\\nsamples = 24\\nvalue = [11, 13]'),\n",
              " Text(0.8382978723404255, 0.35, 'X[18] <= 0.5\\ngini = 0.475\\nsamples = 18\\nvalue = [7, 11]'),\n",
              " Text(0.8340425531914893, 0.25, 'X[40] <= 0.5\\ngini = 0.457\\nsamples = 17\\nvalue = [6, 11]'),\n",
              " Text(0.8297872340425532, 0.15, 'X[21] <= 0.5\\ngini = 0.49\\nsamples = 14\\nvalue = [6, 8]'),\n",
              " Text(0.825531914893617, 0.05, 'gini = 0.473\\nsamples = 13\\nvalue = [5, 8]'),\n",
              " Text(0.8340425531914893, 0.05, 'gini = 0.0\\nsamples = 1\\nvalue = [1, 0]'),\n",
              " Text(0.8382978723404255, 0.15, 'gini = 0.0\\nsamples = 3\\nvalue = [0, 3]'),\n",
              " Text(0.8425531914893617, 0.25, 'gini = 0.0\\nsamples = 1\\nvalue = [1, 0]'),\n",
              " Text(0.8553191489361702, 0.35, 'X[5] <= 42.5\\ngini = 0.444\\nsamples = 6\\nvalue = [4, 2]'),\n",
              " Text(0.851063829787234, 0.25, 'gini = 0.0\\nsamples = 4\\nvalue = [4, 0]'),\n",
              " Text(0.8595744680851064, 0.25, 'gini = 0.0\\nsamples = 2\\nvalue = [0, 2]'),\n",
              " Text(0.8680851063829788, 0.45, 'X[102] <= 0.5\\ngini = 0.133\\nsamples = 14\\nvalue = [1, 13]'),\n",
              " Text(0.8638297872340426, 0.35, 'gini = 0.0\\nsamples = 1\\nvalue = [0, 1]'),\n",
              " Text(0.8723404255319149, 0.35, 'X[0] <= 37.5\\ngini = 0.142\\nsamples = 13\\nvalue = [1, 12]'),\n",
              " Text(0.8680851063829788, 0.25, 'gini = 0.5\\nsamples = 2\\nvalue = [1, 1]'),\n",
              " Text(0.8765957446808511, 0.25, 'gini = 0.0\\nsamples = 11\\nvalue = [0, 11]'),\n",
              " Text(0.8936170212765957, 0.65, 'X[42] <= 0.5\\ngini = 0.461\\nsamples = 25\\nvalue = [9, 16]'),\n",
              " Text(0.8893617021276595, 0.55, 'X[0] <= 21.0\\ngini = 0.444\\nsamples = 24\\nvalue = [8, 16]'),\n",
              " Text(0.8851063829787233, 0.45, 'gini = 0.0\\nsamples = 2\\nvalue = [2, 0]'),\n",
              " Text(0.8936170212765957, 0.45, 'X[5] <= 72.5\\ngini = 0.397\\nsamples = 22\\nvalue = [6, 16]'),\n",
              " Text(0.8893617021276595, 0.35, 'X[43] <= 0.5\\ngini = 0.363\\nsamples = 21\\nvalue = [5, 16]'),\n",
              " Text(0.8851063829787233, 0.25, 'X[5] <= 41.5\\ngini = 0.332\\nsamples = 19\\nvalue = [4, 15]'),\n",
              " Text(0.8808510638297873, 0.15, 'X[0] <= 34.5\\ngini = 0.463\\nsamples = 11\\nvalue = [4, 7]'),\n",
              " Text(0.8765957446808511, 0.05, 'gini = 0.245\\nsamples = 7\\nvalue = [1, 6]'),\n",
              " Text(0.8851063829787233, 0.05, 'gini = 0.375\\nsamples = 4\\nvalue = [3, 1]'),\n",
              " Text(0.8893617021276595, 0.15, 'gini = 0.0\\nsamples = 8\\nvalue = [0, 8]'),\n",
              " Text(0.8936170212765957, 0.25, 'gini = 0.5\\nsamples = 2\\nvalue = [1, 1]'),\n",
              " Text(0.8978723404255319, 0.35, 'gini = 0.0\\nsamples = 1\\nvalue = [1, 0]'),\n",
              " Text(0.8978723404255319, 0.55, 'gini = 0.0\\nsamples = 1\\nvalue = [1, 0]'),\n",
              " Text(0.9579787234042553, 0.75, 'X[29] <= 0.5\\ngini = 0.231\\nsamples = 165\\nvalue = [22, 143]'),\n",
              " Text(0.9287234042553192, 0.65, 'X[1] <= 51201.5\\ngini = 0.211\\nsamples = 150\\nvalue = [18, 132]'),\n",
              " Text(0.9063829787234042, 0.55, 'X[1] <= 33092.0\\ngini = 0.463\\nsamples = 11\\nvalue = [4, 7]'),\n",
              " Text(0.902127659574468, 0.45, 'gini = 0.0\\nsamples = 3\\nvalue = [0, 3]'),\n",
              " Text(0.9106382978723404, 0.45, 'X[24] <= 0.5\\ngini = 0.5\\nsamples = 8\\nvalue = [4, 4]'),\n",
              " Text(0.9063829787234042, 0.35, 'X[0] <= 37.0\\ngini = 0.32\\nsamples = 5\\nvalue = [4, 1]'),\n",
              " Text(0.902127659574468, 0.25, 'gini = 0.5\\nsamples = 2\\nvalue = [1, 1]'),\n",
              " Text(0.9106382978723404, 0.25, 'gini = 0.0\\nsamples = 3\\nvalue = [3, 0]'),\n",
              " Text(0.9148936170212766, 0.35, 'gini = 0.0\\nsamples = 3\\nvalue = [0, 3]'),\n",
              " Text(0.951063829787234, 0.55, 'X[5] <= 58.0\\ngini = 0.181\\nsamples = 139\\nvalue = [14, 125]'),\n",
              " Text(0.9319148936170213, 0.45, 'X[28] <= 0.5\\ngini = 0.14\\nsamples = 119\\nvalue = [9, 110]'),\n",
              " Text(0.9276595744680851, 0.35, 'X[37] <= 0.5\\ngini = 0.152\\nsamples = 109\\nvalue = [9, 100]'),\n",
              " Text(0.9191489361702128, 0.25, 'X[1] <= 226813.5\\ngini = 0.098\\nsamples = 97\\nvalue = [5, 92]'),\n",
              " Text(0.9148936170212766, 0.15, 'X[11] <= 0.5\\ngini = 0.136\\nsamples = 68\\nvalue = [5, 63]'),\n",
              " Text(0.9106382978723404, 0.05, 'gini = 0.153\\nsamples = 60\\nvalue = [5, 55]'),\n",
              " Text(0.9191489361702128, 0.05, 'gini = 0.0\\nsamples = 8\\nvalue = [0, 8]'),\n",
              " Text(0.9234042553191489, 0.15, 'gini = 0.0\\nsamples = 29\\nvalue = [0, 29]'),\n",
              " Text(0.9361702127659575, 0.25, 'X[0] <= 29.5\\ngini = 0.444\\nsamples = 12\\nvalue = [4, 8]'),\n",
              " Text(0.9319148936170213, 0.15, 'gini = 0.0\\nsamples = 1\\nvalue = [1, 0]'),\n",
              " Text(0.9404255319148936, 0.15, 'X[22] <= 0.5\\ngini = 0.397\\nsamples = 11\\nvalue = [3, 8]'),\n",
              " Text(0.9361702127659575, 0.05, 'gini = 0.32\\nsamples = 10\\nvalue = [2, 8]'),\n",
              " Text(0.9446808510638298, 0.05, 'gini = 0.0\\nsamples = 1\\nvalue = [1, 0]'),\n",
              " Text(0.9361702127659575, 0.35, 'gini = 0.0\\nsamples = 10\\nvalue = [0, 10]'),\n",
              " Text(0.9702127659574468, 0.45, 'X[28] <= 0.5\\ngini = 0.375\\nsamples = 20\\nvalue = [5, 15]'),\n",
              " Text(0.9659574468085106, 0.35, 'X[59] <= 0.5\\ngini = 0.401\\nsamples = 18\\nvalue = [5, 13]'),\n",
              " Text(0.9617021276595744, 0.25, 'X[2] <= 13.5\\ngini = 0.444\\nsamples = 15\\nvalue = [5, 10]'),\n",
              " Text(0.9574468085106383, 0.15, 'X[40] <= 0.5\\ngini = 0.5\\nsamples = 10\\nvalue = [5, 5]'),\n",
              " Text(0.9531914893617022, 0.05, 'gini = 0.48\\nsamples = 5\\nvalue = [2, 3]'),\n",
              " Text(0.9617021276595744, 0.05, 'gini = 0.48\\nsamples = 5\\nvalue = [3, 2]'),\n",
              " Text(0.9659574468085106, 0.15, 'gini = 0.0\\nsamples = 5\\nvalue = [0, 5]'),\n",
              " Text(0.9702127659574468, 0.25, 'gini = 0.0\\nsamples = 3\\nvalue = [0, 3]'),\n",
              " Text(0.9744680851063829, 0.35, 'gini = 0.0\\nsamples = 2\\nvalue = [0, 2]'),\n",
              " Text(0.9872340425531915, 0.65, 'X[61] <= 0.5\\ngini = 0.391\\nsamples = 15\\nvalue = [4, 11]'),\n",
              " Text(0.9829787234042553, 0.55, 'gini = 0.0\\nsamples = 2\\nvalue = [0, 2]'),\n",
              " Text(0.9914893617021276, 0.55, 'X[33] <= 0.5\\ngini = 0.426\\nsamples = 13\\nvalue = [4, 9]'),\n",
              " Text(0.9872340425531915, 0.45, 'X[40] <= 0.5\\ngini = 0.463\\nsamples = 11\\nvalue = [4, 7]'),\n",
              " Text(0.9829787234042553, 0.35, 'X[63] <= 0.5\\ngini = 0.5\\nsamples = 8\\nvalue = [4, 4]'),\n",
              " Text(0.9787234042553191, 0.25, 'gini = 0.0\\nsamples = 4\\nvalue = [4, 0]'),\n",
              " Text(0.9872340425531915, 0.25, 'gini = 0.0\\nsamples = 4\\nvalue = [0, 4]'),\n",
              " Text(0.9914893617021276, 0.35, 'gini = 0.0\\nsamples = 3\\nvalue = [0, 3]'),\n",
              " Text(0.9957446808510638, 0.45, 'gini = 0.0\\nsamples = 2\\nvalue = [0, 2]')]"
            ]
          },
          "metadata": {},
          "execution_count": 167
        },
        {
          "output_type": "display_data",
          "data": {
            "text/plain": [
              "<Figure size 1080x720 with 1 Axes>"
            ],
            "image/png": "[encoded data removed]"
          },
          "metadata": {
            "needs_background": "light"
          }
        }
      ],
      "source": [
        "from sklearn import tree\n",
        "plt.figure(figsize=(15,10))\n",
        "tree.plot_tree(Decision_with_bestparams,filled=True,fontsize=10)"
      ]
    },
    {
      "cell_type": "code",
      "execution_count": null,
      "id": "0e252c74",
      "metadata": {
        "id": "0e252c74"
      },
      "outputs": [],
      "source": []
    }
  ],
  "metadata": {
    "kernelspec": {
      "display_name": "Python 3 (ipykernel)",
      "language": "python",
      "name": "python3"
    },
    "language_info": {
      "codemirror_mode": {
        "name": "ipython",
        "version": 3
      },
      "file_extension": ".py",
      "mimetype": "text/x-python",
      "name": "python",
      "nbconvert_exporter": "python",
      "pygments_lexer": "ipython3",
      "version": "3.9.12"
    },
    "colab": {
      "provenance": [],
      "collapsed_sections": [
        "Sn9QfEqG5cjE",
        "HAyxrwAY5ioN",
        "WTg2yWTpx9B7",
        "278b549f",
        "gH5IMsp29VCV"
      ]
    },
    "accelerator": "GPU",
    "gpuClass": "standard"
  },
  "nbformat": 4,
  "nbformat_minor": 5
}